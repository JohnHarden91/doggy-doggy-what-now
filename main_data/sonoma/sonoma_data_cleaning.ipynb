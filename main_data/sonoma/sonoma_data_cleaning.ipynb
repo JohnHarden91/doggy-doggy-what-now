{
 "cells": [
  {
   "cell_type": "code",
   "execution_count": 1,
   "metadata": {},
   "outputs": [],
   "source": [
    "import pandas as pd\n",
    "import numpy as np\n",
    "import datetime"
   ]
  },
  {
   "cell_type": "code",
   "execution_count": 2,
   "metadata": {},
   "outputs": [],
   "source": [
    "sonoma = pd.read_csv(\"Animal_Shelter_Intake_and_Outcome.csv\")"
   ]
  },
  {
   "cell_type": "markdown",
   "metadata": {},
   "source": [
    "### Summary\n",
    "\n",
    "Data cleaning:\n",
    "- drop unnecessary columns\n",
    "- change index\n",
    "- clean columns with .str(), .split(), .fillna(), .apply() [with context], \n",
    "- rename columns to combine with other datasets\n",
    "- skip rows?\n",
    "\n",
    "This data:\n",
    "- WeekYear format for dates (mid 2000s - present)\n",
    "- CountOf...\n",
    "- intakes/outtakes statistics\n",
    "- (Optional)\n",
    "\n",
    "Observations:\n",
    "- 884 breeds\n",
    "- outcome_jurisdicition has inconsistent cities/towns (see below)"
   ]
  },
  {
   "cell_type": "code",
   "execution_count": 3,
   "metadata": {},
   "outputs": [],
   "source": [
    "# replace column names: \" \" to \"_\" and change to lowercase\n",
    "def remove_space(column_name):\n",
    "    return column_name.lower().replace(' ','_')\n",
    "sonoma = sonoma.rename(remove_space, axis = \"columns\")"
   ]
  },
  {
   "cell_type": "code",
   "execution_count": 4,
   "metadata": {},
   "outputs": [],
   "source": [
    "sonoma = sonoma.loc[sonoma.type == \"DOG\"]"
   ]
  },
  {
   "cell_type": "code",
   "execution_count": 5,
   "metadata": {},
   "outputs": [],
   "source": [
    "# \"location\" values are of the form zipcode(latitude,longitude)\n",
    "# this function keeps only the zipcode of outcome jurisdiction\n",
    "# there is already an \"outcome_zip_code\" column with float, I'm too lazy to modify it and will drop this column\n",
    "def remove_lat_long(column_name):\n",
    "    return str(column_name)[:5]\n",
    "sonoma[\"zipcode\"] = sonoma[\"location\"].apply(remove_lat_long)"
   ]
  },
  {
   "cell_type": "code",
   "execution_count": 6,
   "metadata": {},
   "outputs": [
    {
     "data": {
      "text/plain": [
       "outcome_jurisdiction\n",
       "SANTA ROSA       5147\n",
       "COUNTY           4689\n",
       "OUT OF COUNTY    2228\n",
       "nan              1592\n",
       "WINDSOR           882\n",
       "ROHNERT PARK      427\n",
       "PETALUMA          340\n",
       "HEALDSBURG        120\n",
       "CLOVERDALE        105\n",
       "SEBASTOPOL         80\n",
       "COTATI             59\n",
       "SONOMA             37\n",
       "Name: count, dtype: int64"
      ]
     },
     "execution_count": 6,
     "metadata": {},
     "output_type": "execute_result"
    }
   ],
   "source": [
    "# outcome_jurisdicition has inconsistent cities/towns (see below)\n",
    "def remove_ast(column_name):\n",
    "    if str(column_name) == \"UNKNOWN\":\n",
    "        return np.nan\n",
    "    elif column_name == np.nan:\n",
    "        return np.nan\n",
    "    else:\n",
    "        return str(column_name).replace(\"*\",\"\")\n",
    "sonoma[\"outcome_jurisdiction\"] = sonoma[\"outcome_jurisdiction\"].apply(remove_ast)\n",
    "sonoma[\"outcome_jurisdiction\"].value_counts()"
   ]
  },
  {
   "cell_type": "code",
   "execution_count": 7,
   "metadata": {},
   "outputs": [
    {
     "data": {
      "text/plain": [
       "Index(['name', 'type', 'breed', 'color', 'sex', 'size', 'date_of_birth',\n",
       "       'impound_number', 'kennel_number', 'animal_id', 'intake_date',\n",
       "       'outcome_date', 'days_in_shelter', 'intake_type', 'intake_subtype',\n",
       "       'outcome_type', 'outcome_subtype', 'intake_condition',\n",
       "       'outcome_condition', 'intake_jurisdiction', 'outcome_jurisdiction',\n",
       "       'outcome_zip_code', 'location', 'count', 'zipcode'],\n",
       "      dtype='object')"
      ]
     },
     "execution_count": 7,
     "metadata": {},
     "output_type": "execute_result"
    }
   ],
   "source": [
    "sonoma.columns"
   ]
  },
  {
   "cell_type": "code",
   "execution_count": 8,
   "metadata": {},
   "outputs": [],
   "source": [
    "# outcome_subtype has a lot of noisy data\n",
    "to_drop = [\"name\",\"type\",\"breed\",\"color\",\"impound_number\",\"kennel_number\",\"animal_id\",\"intake_jurisdiction\",\"outcome_jurisdiction\",\"outcome_zip_code\",\"location\",\"count\"]\n",
    "sonoma = sonoma.drop(to_drop,axis =1)"
   ]
  },
  {
   "cell_type": "code",
   "execution_count": 9,
   "metadata": {},
   "outputs": [],
   "source": [
    "sonoma = sonoma.replace({np.nan: np.nan,\"NaN\": np.nan, \"nan\": np.nan, \"Unknown\": np.nan,\"UNKNOWN\":np.nan})"
   ]
  },
  {
   "cell_type": "code",
   "execution_count": 10,
   "metadata": {},
   "outputs": [],
   "source": [
    "# function that takes date to weekyear: '01/08/2024' -> '2-2024'\n",
    "def weekyear_converter(column_name):\n",
    "    return str(pd.Timestamp(column_name).weekofyear) + \"-\" + str(pd.Timestamp(column_name).year)\n",
    "\n",
    "sonoma[\"intake_date_week_year\"] = sonoma[\"intake_date\"].apply(weekyear_converter)\n",
    "sonoma[\"outcome_date_week_year\"] = sonoma[\"outcome_date\"].apply(weekyear_converter)"
   ]
  },
  {
   "cell_type": "code",
   "execution_count": 11,
   "metadata": {},
   "outputs": [
    {
     "data": {
      "text/html": [
       "<div>\n",
       "<style scoped>\n",
       "    .dataframe tbody tr th:only-of-type {\n",
       "        vertical-align: middle;\n",
       "    }\n",
       "\n",
       "    .dataframe tbody tr th {\n",
       "        vertical-align: top;\n",
       "    }\n",
       "\n",
       "    .dataframe thead th {\n",
       "        text-align: right;\n",
       "    }\n",
       "</style>\n",
       "<table border=\"1\" class=\"dataframe\">\n",
       "  <thead>\n",
       "    <tr style=\"text-align: right;\">\n",
       "      <th></th>\n",
       "      <th>sex</th>\n",
       "      <th>size</th>\n",
       "      <th>date_of_birth</th>\n",
       "      <th>intake_date</th>\n",
       "      <th>outcome_date</th>\n",
       "      <th>days_in_shelter</th>\n",
       "      <th>intake_type</th>\n",
       "      <th>intake_subtype</th>\n",
       "      <th>outcome_type</th>\n",
       "      <th>outcome_subtype</th>\n",
       "      <th>intake_condition</th>\n",
       "      <th>outcome_condition</th>\n",
       "      <th>zipcode</th>\n",
       "      <th>intake_date_week_year</th>\n",
       "      <th>outcome_date_week_year</th>\n",
       "    </tr>\n",
       "  </thead>\n",
       "  <tbody>\n",
       "    <tr>\n",
       "      <th>1</th>\n",
       "      <td>Male</td>\n",
       "      <td>MED</td>\n",
       "      <td>NaN</td>\n",
       "      <td>12/04/2023</td>\n",
       "      <td>01/08/2024</td>\n",
       "      <td>35</td>\n",
       "      <td>STRAY</td>\n",
       "      <td>FLD_STRAY</td>\n",
       "      <td>EUTHANIZE</td>\n",
       "      <td>AGGRESSIVE</td>\n",
       "      <td>NaN</td>\n",
       "      <td>UNTREATABLE</td>\n",
       "      <td>NaN</td>\n",
       "      <td>49-2023</td>\n",
       "      <td>2-2024</td>\n",
       "    </tr>\n",
       "    <tr>\n",
       "      <th>2</th>\n",
       "      <td>Neutered</td>\n",
       "      <td>LARGE</td>\n",
       "      <td>07/27/2016</td>\n",
       "      <td>07/16/2019</td>\n",
       "      <td>08/30/2019</td>\n",
       "      <td>45</td>\n",
       "      <td>STRAY</td>\n",
       "      <td>FIELD</td>\n",
       "      <td>TRANSFER</td>\n",
       "      <td>HSSC</td>\n",
       "      <td>HEALTHY</td>\n",
       "      <td>HEALTHY</td>\n",
       "      <td>95407</td>\n",
       "      <td>29-2019</td>\n",
       "      <td>35-2019</td>\n",
       "    </tr>\n",
       "    <tr>\n",
       "      <th>3</th>\n",
       "      <td>Female</td>\n",
       "      <td>MED</td>\n",
       "      <td>NaN</td>\n",
       "      <td>11/28/2023</td>\n",
       "      <td>01/08/2024</td>\n",
       "      <td>41</td>\n",
       "      <td>STRAY</td>\n",
       "      <td>FLD_STRAY</td>\n",
       "      <td>EUTHANIZE</td>\n",
       "      <td>BEH SEVERE</td>\n",
       "      <td>NaN</td>\n",
       "      <td>UNTREATABLE</td>\n",
       "      <td>NaN</td>\n",
       "      <td>48-2023</td>\n",
       "      <td>2-2024</td>\n",
       "    </tr>\n",
       "    <tr>\n",
       "      <th>4</th>\n",
       "      <td>Female</td>\n",
       "      <td>LARGE</td>\n",
       "      <td>11/11/2021</td>\n",
       "      <td>11/11/2023</td>\n",
       "      <td>01/08/2024</td>\n",
       "      <td>58</td>\n",
       "      <td>STRAY</td>\n",
       "      <td>FIELD</td>\n",
       "      <td>EUTHANIZE</td>\n",
       "      <td>AGGRESSIVE</td>\n",
       "      <td>NaN</td>\n",
       "      <td>UNTREATABLE</td>\n",
       "      <td>NaN</td>\n",
       "      <td>45-2023</td>\n",
       "      <td>2-2024</td>\n",
       "    </tr>\n",
       "    <tr>\n",
       "      <th>5</th>\n",
       "      <td>Spayed</td>\n",
       "      <td>SMALL</td>\n",
       "      <td>06/08/2021</td>\n",
       "      <td>01/05/2024</td>\n",
       "      <td>01/08/2024</td>\n",
       "      <td>3</td>\n",
       "      <td>STRAY</td>\n",
       "      <td>OVER THE COUNTER</td>\n",
       "      <td>RETURN TO OWNER</td>\n",
       "      <td>NaN</td>\n",
       "      <td>NaN</td>\n",
       "      <td>HEALTHY</td>\n",
       "      <td>93927</td>\n",
       "      <td>1-2024</td>\n",
       "      <td>2-2024</td>\n",
       "    </tr>\n",
       "  </tbody>\n",
       "</table>\n",
       "</div>"
      ],
      "text/plain": [
       "        sex   size date_of_birth intake_date outcome_date  days_in_shelter  \\\n",
       "1      Male    MED           NaN  12/04/2023   01/08/2024               35   \n",
       "2  Neutered  LARGE    07/27/2016  07/16/2019   08/30/2019               45   \n",
       "3    Female    MED           NaN  11/28/2023   01/08/2024               41   \n",
       "4    Female  LARGE    11/11/2021  11/11/2023   01/08/2024               58   \n",
       "5    Spayed  SMALL    06/08/2021  01/05/2024   01/08/2024                3   \n",
       "\n",
       "  intake_type    intake_subtype     outcome_type outcome_subtype  \\\n",
       "1       STRAY         FLD_STRAY        EUTHANIZE      AGGRESSIVE   \n",
       "2       STRAY             FIELD         TRANSFER            HSSC   \n",
       "3       STRAY         FLD_STRAY        EUTHANIZE      BEH SEVERE   \n",
       "4       STRAY             FIELD        EUTHANIZE      AGGRESSIVE   \n",
       "5       STRAY  OVER THE COUNTER  RETURN TO OWNER             NaN   \n",
       "\n",
       "  intake_condition outcome_condition zipcode intake_date_week_year  \\\n",
       "1              NaN       UNTREATABLE     NaN               49-2023   \n",
       "2          HEALTHY           HEALTHY   95407               29-2019   \n",
       "3              NaN       UNTREATABLE     NaN               48-2023   \n",
       "4              NaN       UNTREATABLE     NaN               45-2023   \n",
       "5              NaN           HEALTHY   93927                1-2024   \n",
       "\n",
       "  outcome_date_week_year  \n",
       "1                 2-2024  \n",
       "2                35-2019  \n",
       "3                 2-2024  \n",
       "4                 2-2024  \n",
       "5                 2-2024  "
      ]
     },
     "execution_count": 11,
     "metadata": {},
     "output_type": "execute_result"
    }
   ],
   "source": [
    "sonoma.head()"
   ]
  },
  {
   "cell_type": "code",
   "execution_count": 18,
   "metadata": {},
   "outputs": [],
   "source": [
    "# create CountOf.....\n",
    "\n",
    "# Example\n",
    "sonoma_count = sonoma[\"intake_date_week_year\"].value_counts().rename_axis(\"week_year\").to_frame(\"intakes\")\n",
    "sonoma_count[\"outcomes\"] = sonoma[\"outcome_date_week_year\"].value_counts().astype('Int64')\n",
    "sonoma_count = sonoma_count.fillna(0)"
   ]
  }
 ],
 "metadata": {
  "kernelspec": {
   "display_name": "erdos_may_2024",
   "language": "python",
   "name": "python3"
  },
  "language_info": {
   "codemirror_mode": {
    "name": "ipython",
    "version": 3
   },
   "file_extension": ".py",
   "mimetype": "text/x-python",
   "name": "python",
   "nbconvert_exporter": "python",
   "pygments_lexer": "ipython3",
   "version": "3.11.9"
  }
 },
 "nbformat": 4,
 "nbformat_minor": 2
}
