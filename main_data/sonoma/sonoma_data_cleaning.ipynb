{
 "cells": [
  {
   "cell_type": "code",
   "execution_count": 1,
   "metadata": {},
   "outputs": [],
   "source": [
    "import pandas as pd\n",
    "import numpy as np"
   ]
  },
  {
   "cell_type": "code",
   "execution_count": 2,
   "metadata": {},
   "outputs": [],
   "source": [
    "sonoma = pd.read_csv(\"Animal_Shelter_Intake_and_Outcome.csv\")"
   ]
  },
  {
   "cell_type": "markdown",
   "metadata": {},
   "source": [
    "Data cleaning:\n",
    "- drop unnecessary columns\n",
    "- change index\n",
    "- clean columns with .str(), .split(), .fillna(), .apply() [with context], \n",
    "- rename columns to combine with other datasets\n",
    "- skip rows?\n",
    "\n",
    "This data:\n",
    "- WeekYear format for dates (mid 2000s - present)\n",
    "- CountOf...\n",
    "- intakes/outtakes statistics\n",
    "- (Optional)"
   ]
  },
  {
   "cell_type": "markdown",
   "metadata": {},
   "source": []
  }
 ],
 "metadata": {
  "kernelspec": {
   "display_name": "erdos_may_2024",
   "language": "python",
   "name": "python3"
  },
  "language_info": {
   "codemirror_mode": {
    "name": "ipython",
    "version": 3
   },
   "file_extension": ".py",
   "mimetype": "text/x-python",
   "name": "python",
   "nbconvert_exporter": "python",
   "pygments_lexer": "ipython3",
   "version": "3.11.9"
  }
 },
 "nbformat": 4,
 "nbformat_minor": 2
}
