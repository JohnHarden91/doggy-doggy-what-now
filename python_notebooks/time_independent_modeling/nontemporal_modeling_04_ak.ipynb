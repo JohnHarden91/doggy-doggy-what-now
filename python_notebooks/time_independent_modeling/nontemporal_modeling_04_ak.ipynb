{
 "cells": [
  {
   "cell_type": "markdown",
   "metadata": {},
   "source": [
    "### Notebook: Visualizing Time Independent Models\n",
    "\n",
    "30 May 2024\n",
    "\n",
    "Objectives:\n",
    "- Troubleshoot age issue\n",
    "- Further work on feature selection and cross-validation\n",
    "- Analysis and visuals\n"
   ]
  },
  {
   "cell_type": "code",
   "execution_count": 2,
   "metadata": {},
   "outputs": [],
   "source": [
    "import pandas as pd\n",
    "import numpy as np\n",
    "\n",
    "import matplotlib.pyplot as plt\n",
    "import seaborn as sns\n",
    "\n",
    "# ------------------------------------------------\n",
    "from sklearn import tree\n",
    "from sklearn.tree import DecisionTreeClassifier\n",
    "from sklearn.model_selection import train_test_split, StratifiedKFold\n",
    "from sklearn.ensemble import RandomForestClassifier, ExtraTreesClassifier\n",
    "from sklearn.metrics import accuracy_score, confusion_matrix, classification_report, mean_squared_error\n",
    "\n",
    "# ------------------------------------------------\n",
    "from catboost import CatBoostClassifier, Pool\n",
    "\n",
    "# ------------------------------------------------\n",
    "\n",
    "data_path = \"../../main_data/locale_specific_data/\""
   ]
  },
  {
   "cell_type": "markdown",
   "metadata": {},
   "source": []
  },
  {
   "cell_type": "code",
   "execution_count": 3,
   "metadata": {},
   "outputs": [
    {
     "data": {
      "text/html": [
       "<div>\n",
       "<style scoped>\n",
       "    .dataframe tbody tr th:only-of-type {\n",
       "        vertical-align: middle;\n",
       "    }\n",
       "\n",
       "    .dataframe tbody tr th {\n",
       "        vertical-align: top;\n",
       "    }\n",
       "\n",
       "    .dataframe thead th {\n",
       "        text-align: right;\n",
       "    }\n",
       "</style>\n",
       "<table border=\"1\" class=\"dataframe\">\n",
       "  <thead>\n",
       "    <tr style=\"text-align: right;\">\n",
       "      <th></th>\n",
       "      <th>breed</th>\n",
       "      <th>color</th>\n",
       "      <th>sex</th>\n",
       "      <th>size</th>\n",
       "      <th>date_of_birth</th>\n",
       "      <th>animal_id</th>\n",
       "      <th>intake_date</th>\n",
       "      <th>outcome_date</th>\n",
       "      <th>days_in_shelter</th>\n",
       "      <th>intake_type</th>\n",
       "      <th>...</th>\n",
       "      <th>outcome_adopt</th>\n",
       "      <th>outcome_adopt_subtype</th>\n",
       "      <th>intake_age</th>\n",
       "      <th>outcome_age</th>\n",
       "      <th>pop_control</th>\n",
       "      <th>sex_bin</th>\n",
       "      <th>size_bin</th>\n",
       "      <th>breed_pit</th>\n",
       "      <th>color_mix</th>\n",
       "      <th>intake_bin</th>\n",
       "    </tr>\n",
       "  </thead>\n",
       "  <tbody>\n",
       "    <tr>\n",
       "      <th>0</th>\n",
       "      <td>PIT BULL</td>\n",
       "      <td>GRAY/WHITE</td>\n",
       "      <td>Female</td>\n",
       "      <td>MED</td>\n",
       "      <td>2012-09-03</td>\n",
       "      <td>A296009</td>\n",
       "      <td>2013-08-22</td>\n",
       "      <td>2014-04-14</td>\n",
       "      <td>235</td>\n",
       "      <td>TRANSFER</td>\n",
       "      <td>...</td>\n",
       "      <td>False</td>\n",
       "      <td>none</td>\n",
       "      <td>0.97</td>\n",
       "      <td>1.61</td>\n",
       "      <td>1</td>\n",
       "      <td>1</td>\n",
       "      <td>3</td>\n",
       "      <td>1</td>\n",
       "      <td>1</td>\n",
       "      <td>4</td>\n",
       "    </tr>\n",
       "    <tr>\n",
       "      <th>1</th>\n",
       "      <td>PIT BULL</td>\n",
       "      <td>BLUE/WHITE</td>\n",
       "      <td>Female</td>\n",
       "      <td>MED</td>\n",
       "      <td>2012-10-09</td>\n",
       "      <td>A294143</td>\n",
       "      <td>2013-08-31</td>\n",
       "      <td>2014-04-14</td>\n",
       "      <td>226</td>\n",
       "      <td>STRAY</td>\n",
       "      <td>...</td>\n",
       "      <td>False</td>\n",
       "      <td>none</td>\n",
       "      <td>0.89</td>\n",
       "      <td>1.51</td>\n",
       "      <td>1</td>\n",
       "      <td>1</td>\n",
       "      <td>3</td>\n",
       "      <td>1</td>\n",
       "      <td>1</td>\n",
       "      <td>0</td>\n",
       "    </tr>\n",
       "    <tr>\n",
       "      <th>2</th>\n",
       "      <td>CAROLINA DOG/MIX</td>\n",
       "      <td>GOLD/WHITE</td>\n",
       "      <td>Male</td>\n",
       "      <td>MED</td>\n",
       "      <td>2007-09-07</td>\n",
       "      <td>A281788</td>\n",
       "      <td>2013-09-19</td>\n",
       "      <td>2014-07-30</td>\n",
       "      <td>314</td>\n",
       "      <td>STRAY</td>\n",
       "      <td>...</td>\n",
       "      <td>False</td>\n",
       "      <td>none</td>\n",
       "      <td>6.03</td>\n",
       "      <td>6.90</td>\n",
       "      <td>0</td>\n",
       "      <td>0</td>\n",
       "      <td>3</td>\n",
       "      <td>0</td>\n",
       "      <td>1</td>\n",
       "      <td>0</td>\n",
       "    </tr>\n",
       "    <tr>\n",
       "      <th>3</th>\n",
       "      <td>CHIHUAHUA SH</td>\n",
       "      <td>TAN</td>\n",
       "      <td>Male</td>\n",
       "      <td>TOY</td>\n",
       "      <td>2007-10-01</td>\n",
       "      <td>A297574</td>\n",
       "      <td>2013-10-01</td>\n",
       "      <td>2014-01-01</td>\n",
       "      <td>92</td>\n",
       "      <td>OWNER SURRENDER</td>\n",
       "      <td>...</td>\n",
       "      <td>False</td>\n",
       "      <td>none</td>\n",
       "      <td>6.00</td>\n",
       "      <td>6.25</td>\n",
       "      <td>1</td>\n",
       "      <td>0</td>\n",
       "      <td>1</td>\n",
       "      <td>0</td>\n",
       "      <td>0</td>\n",
       "      <td>1</td>\n",
       "    </tr>\n",
       "    <tr>\n",
       "      <th>4</th>\n",
       "      <td>PIT BULL</td>\n",
       "      <td>TAN/WHITE</td>\n",
       "      <td>Male</td>\n",
       "      <td>MED</td>\n",
       "      <td>2012-10-29</td>\n",
       "      <td>A298002</td>\n",
       "      <td>2013-10-08</td>\n",
       "      <td>2014-05-22</td>\n",
       "      <td>226</td>\n",
       "      <td>STRAY</td>\n",
       "      <td>...</td>\n",
       "      <td>True</td>\n",
       "      <td>realtime</td>\n",
       "      <td>0.95</td>\n",
       "      <td>1.57</td>\n",
       "      <td>1</td>\n",
       "      <td>0</td>\n",
       "      <td>3</td>\n",
       "      <td>1</td>\n",
       "      <td>1</td>\n",
       "      <td>0</td>\n",
       "    </tr>\n",
       "  </tbody>\n",
       "</table>\n",
       "<p>5 rows × 28 columns</p>\n",
       "</div>"
      ],
      "text/plain": [
       "              breed       color     sex size date_of_birth animal_id  \\\n",
       "0          PIT BULL  GRAY/WHITE  Female  MED    2012-09-03   A296009   \n",
       "1          PIT BULL  BLUE/WHITE  Female  MED    2012-10-09   A294143   \n",
       "2  CAROLINA DOG/MIX  GOLD/WHITE    Male  MED    2007-09-07   A281788   \n",
       "3      CHIHUAHUA SH         TAN    Male  TOY    2007-10-01   A297574   \n",
       "4          PIT BULL   TAN/WHITE    Male  MED    2012-10-29   A298002   \n",
       "\n",
       "  intake_date outcome_date  days_in_shelter      intake_type  ...  \\\n",
       "0  2013-08-22   2014-04-14              235         TRANSFER  ...   \n",
       "1  2013-08-31   2014-04-14              226            STRAY  ...   \n",
       "2  2013-09-19   2014-07-30              314            STRAY  ...   \n",
       "3  2013-10-01   2014-01-01               92  OWNER SURRENDER  ...   \n",
       "4  2013-10-08   2014-05-22              226            STRAY  ...   \n",
       "\n",
       "  outcome_adopt outcome_adopt_subtype intake_age outcome_age pop_control  \\\n",
       "0         False                  none       0.97        1.61           1   \n",
       "1         False                  none       0.89        1.51           1   \n",
       "2         False                  none       6.03        6.90           0   \n",
       "3         False                  none       6.00        6.25           1   \n",
       "4          True              realtime       0.95        1.57           1   \n",
       "\n",
       "   sex_bin  size_bin  breed_pit  color_mix intake_bin  \n",
       "0        1         3          1          1          4  \n",
       "1        1         3          1          1          0  \n",
       "2        0         3          0          1          0  \n",
       "3        0         1          0          0          1  \n",
       "4        0         3          1          1          0  \n",
       "\n",
       "[5 rows x 28 columns]"
      ]
     },
     "execution_count": 3,
     "metadata": {},
     "output_type": "execute_result"
    }
   ],
   "source": [
    "dog_df = pd.read_csv(data_path + \"Sonoma_time_independent_data_akry.csv\")\n",
    "\n",
    "dog_df.head()"
   ]
  },
  {
   "cell_type": "code",
   "execution_count": 4,
   "metadata": {},
   "outputs": [
    {
     "data": {
      "text/plain": [
       "Index(['breed', 'color', 'sex', 'size', 'date_of_birth', 'animal_id',\n",
       "       'intake_date', 'outcome_date', 'days_in_shelter', 'intake_type',\n",
       "       'intake_subtype', 'outcome_type', 'outcome_subtype', 'intake_condition',\n",
       "       'outcome_condition', 'dob_season', 'intake_season', 'outcome_season',\n",
       "       'outcome_adopt', 'outcome_adopt_subtype', 'intake_age', 'outcome_age',\n",
       "       'pop_control', 'sex_bin', 'size_bin', 'breed_pit', 'color_mix',\n",
       "       'intake_bin'],\n",
       "      dtype='object')"
      ]
     },
     "execution_count": 4,
     "metadata": {},
     "output_type": "execute_result"
    }
   ],
   "source": [
    "dog_df.columns"
   ]
  },
  {
   "cell_type": "markdown",
   "metadata": {},
   "source": [
    "## 0. Check Ages"
   ]
  },
  {
   "cell_type": "code",
   "execution_count": 6,
   "metadata": {},
   "outputs": [
    {
     "data": {
      "text/plain": [
       "intake_age\n",
       "-1.94     1\n",
       "-0.76     1\n",
       "-0.52     1\n",
       "-0.23     1\n",
       "-0.08     1\n",
       "         ..\n",
       " 17.00    1\n",
       " 17.13    1\n",
       " 18.00    1\n",
       " 19.00    2\n",
       " 20.99    1\n",
       "Name: count, Length: 1256, dtype: int64"
      ]
     },
     "execution_count": 6,
     "metadata": {},
     "output_type": "execute_result"
    }
   ],
   "source": [
    "dog_df['intake_age'].value_counts().sort_index()"
   ]
  },
  {
   "cell_type": "code",
   "execution_count": 16,
   "metadata": {},
   "outputs": [
    {
     "data": {
      "text/plain": [
       "size\n",
       "PUPPY    66\n",
       "TOY       4\n",
       "MED       2\n",
       "X-LRG     1\n",
       "Name: count, dtype: int64"
      ]
     },
     "execution_count": 16,
     "metadata": {},
     "output_type": "execute_result"
    }
   ],
   "source": [
    "nonpos_age_df = dog_df[dog_df['intake_age'] <= 0]\n",
    "nonpos_age_df = nonpos_age_df[['size', 'date_of_birth', 'intake_date']]\n",
    "nonpos_age_df['size'].value_counts()"
   ]
  },
  {
   "cell_type": "markdown",
   "metadata": {},
   "source": [
    "## 1. CatBoost Modeling"
   ]
  },
  {
   "cell_type": "markdown",
   "metadata": {},
   "source": [
    "### Create train-test split "
   ]
  },
  {
   "cell_type": "code",
   "execution_count": 18,
   "metadata": {},
   "outputs": [],
   "source": [
    "X_train, X_hold, y_train, y_hold = train_test_split(dog_df,\n",
    "                                      dog_df.outcome_adopt,\n",
    "                                      shuffle=True,\n",
    "                                      stratify=dog_df.outcome_adopt,\n",
    "                                      test_size=0.2,\n",
    "                                      random_state=1342)"
   ]
  },
  {
   "cell_type": "markdown",
   "metadata": {},
   "source": [
    "feature_list = ['sex',\n",
    "                'size',\n",
    "                #'breed', \n",
    "                #'color',\n",
    "                'days_in_shelter',\n",
    "                'outcome_season',\n",
    "                'intake_age',\n",
    "                'intake_condition',\n",
    "                'intake_type'\n",
    "                #, 'outcome_adopt_subtype'\n",
    "                ]\n",
    "\n",
    "tree_depth = 6\n",
    "cv_splits  = 9\n",
    "\n",
    "kfold  = StratifiedKFold(n_splits=cv_splits, shuffle=True, random_state=1342)\n",
    "scores = pd.DataFrame(columns=['accuracy','tree_count'], index=range(cv_splits))\n",
    "\n",
    "i = 0\n",
    "for t_idx, h_idx in kfold.split(dog_df, dog_df.outcome_adopt):\n",
    "    X_t = dog_df[feature_list].iloc[t_idx]\n",
    "    X_t = X_t.astype(str)\n",
    "    y_t = dog_df.outcome_adopt.iloc[t_idx]\n",
    "    X_h = dog_df[feature_list].iloc[h_idx]\n",
    "    X_h = X_h.astype(str)\n",
    "    y_h = dog_df.outcome_adopt.iloc[h_idx]\n",
    "\n",
    "    pool = Pool(X_t, y_t, cat_features=feature_list, feature_names=feature_list)\n",
    "\n",
    "    clf  = CatBoostClassifier(iterations=1000, learning_rate=0.1, loss_function=\"MultiClass\", depth=tree_depth).fit(pool, eval_set=(X_h, y_h), verbose=False)\n",
    "\n",
    "    scores.loc[i, \"tree_count\"] = clf.tree_count_\n",
    "    scores.loc[i, \"accuracy\"]   = accuracy_score(y_true = y_h, y_pred = clf.predict(X_h))\n",
    "    print()\n",
    "    print(confusion_matrix(y_true = y_h, y_pred = clf.predict(X_h)))\n",
    "    print()\n",
    "    print(clf.get_feature_importance(data=pool, prettified=True, verbose=True))\n",
    "    #print(classification_report(y_true = y_h, y_pred = clf.predict(X_h)))\n",
    "    #print()\n",
    "    del clf, pool   \n",
    "    del X_t, y_t, X_h, y_h\n",
    "    i+=1\n",
    "    print('-'*50)\n",
    "\n",
    "del i, kfold, feature_list, tree_depth, cv_splits\n",
    "\n",
    "print(scores)"
   ]
  },
  {
   "cell_type": "code",
   "execution_count": 41,
   "metadata": {},
   "outputs": [
    {
     "data": {
      "application/vnd.jupyter.widget-view+json": {
       "model_id": "6753d602a71d4cd18c7781c7c547176a",
       "version_major": 2,
       "version_minor": 0
      },
      "text/plain": [
       "MetricVisualizer(layout=Layout(align_self='stretch', height='500px'))"
      ]
     },
     "metadata": {},
     "output_type": "display_data"
    },
    {
     "name": "stdout",
     "output_type": "stream",
     "text": [
      "Confusion Matrix for training set:\n",
      " [[2007  326]\n",
      " [  66 2805]]\n",
      "Used dataset leave statistics for fstr calculation\n",
      "         Feature Id  Importances\n",
      "0   days_in_shelter    19.717425\n",
      "1        intake_age    13.777360\n",
      "2             color    12.017129\n",
      "3             breed    12.001552\n",
      "4  intake_condition    10.651541\n",
      "5              size    10.377559\n",
      "6    outcome_season     8.220443\n",
      "7       intake_type     7.255286\n",
      "8               sex     5.981704\n",
      "Model params:\n",
      "{'iterations': 1000, 'learning_rate': 0.1, 'depth': 6, 'loss_function': 'MultiClass'}\n"
     ]
    }
   ],
   "source": [
    "feature_list = ['sex',\n",
    "                'size',\n",
    "                'breed', \n",
    "                'color',\n",
    "                'days_in_shelter',\n",
    "                'outcome_season',\n",
    "                'intake_age',\n",
    "                'intake_condition',\n",
    "                'intake_type'\n",
    "                #, 'outcome_adopt_subtype'\n",
    "                ]\n",
    "tree_depth = 6\n",
    "X_t = X_train[feature_list]\n",
    "X_t = X_t.astype(str)\n",
    "y_t = y_train\n",
    "lrn_rate = 0.1\n",
    "\n",
    "pool = Pool(X_t, y_t, cat_features=feature_list, feature_names=feature_list)\n",
    "clf  = CatBoostClassifier(iterations=1000, learning_rate=lrn_rate, loss_function=\"MultiClass\", depth=tree_depth).fit(pool, eval_set=(X_t, y_t), verbose=False, plot=True)\n",
    "# scores = pd.DataFrame(columns=['test_accuracy','tree_count'], index=range(cv_splits))\n",
    "print('Confusion Matrix for training set:\\n', confusion_matrix(y_true = y_t, y_pred = clf.predict(X_t)))\n",
    "print(clf.get_feature_importance(data=pool, prettified=True, verbose=True))\n",
    "print('Model params:')\n",
    "print(clf.get_params())\n",
    "\n",
    "del feature_list, tree_depth, lrn_rate, X_t, y_t, pool, clf\n",
    "\n"
   ]
  },
  {
   "cell_type": "code",
   "execution_count": null,
   "metadata": {},
   "outputs": [],
   "source": []
  },
  {
   "cell_type": "code",
   "execution_count": 40,
   "metadata": {},
   "outputs": [
    {
     "data": {
      "application/vnd.jupyter.widget-view+json": {
       "model_id": "a0d7afe28c734d14983a425c3c91f606",
       "version_major": 2,
       "version_minor": 0
      },
      "text/plain": [
       "MetricVisualizer(layout=Layout(align_self='stretch', height='500px'))"
      ]
     },
     "metadata": {},
     "output_type": "display_data"
    },
    {
     "name": "stdout",
     "output_type": "stream",
     "text": [
      "Confusion Matrix for training set:\n",
      " [[2047  286]\n",
      " [  49 2822]]\n",
      "Used dataset leave statistics for fstr calculation\n",
      "         Feature Id  Importances\n",
      "0   days_in_shelter    19.164922\n",
      "1        intake_age    15.414941\n",
      "2             breed    12.725534\n",
      "3             color    11.557784\n",
      "4  intake_condition     9.875424\n",
      "5              size     9.260936\n",
      "6    outcome_season     8.052521\n",
      "7       intake_type     8.048518\n",
      "8               sex     5.899420\n",
      "Model params:\n",
      "{'iterations': 1000, 'learning_rate': 0.1, 'depth': 6, 'loss_function': 'CrossEntropy'}\n"
     ]
    }
   ],
   "source": [
    "feature_list = ['sex',\n",
    "                'size',\n",
    "                'breed', \n",
    "                'color',\n",
    "                'days_in_shelter',\n",
    "                'outcome_season',\n",
    "                'intake_age',\n",
    "                'intake_condition',\n",
    "                'intake_type'\n",
    "                #, 'outcome_adopt_subtype'\n",
    "                ]\n",
    "tree_depth = 6\n",
    "X_t = X_train[feature_list]\n",
    "X_t = X_t.astype(str)\n",
    "y_t = y_train\n",
    "lrn_rate = 0.1\n",
    "\n",
    "pool = Pool(X_t, y_t, cat_features=feature_list, feature_names=feature_list)\n",
    "clf  = CatBoostClassifier(iterations=1000, learning_rate=lrn_rate, loss_function=\"CrossEntropy\", depth=tree_depth).fit(pool, eval_set=(X_t, y_t), verbose=False, plot=True)\n",
    "# scores = pd.DataFrame(columns=['test_accuracy','tree_count'], index=range(cv_splits))\n",
    "print('Confusion Matrix for training set:\\n', confusion_matrix(y_true = y_t, y_pred = clf.predict(X_t)))\n",
    "print(clf.get_feature_importance(data=pool, prettified=True, verbose=True))\n",
    "print('Model params:')\n",
    "print(clf.get_params())\n",
    "\n",
    "del feature_list, tree_depth, lrn_rate, X_t, y_t, pool, clf\n",
    "\n"
   ]
  },
  {
   "cell_type": "code",
   "execution_count": null,
   "metadata": {},
   "outputs": [],
   "source": []
  },
  {
   "cell_type": "code",
   "execution_count": 43,
   "metadata": {},
   "outputs": [
    {
     "data": {
      "application/vnd.jupyter.widget-view+json": {
       "model_id": "7c63870645eb4cd6a2e1ecd421fc79dd",
       "version_major": 2,
       "version_minor": 0
      },
      "text/plain": [
       "MetricVisualizer(layout=Layout(align_self='stretch', height='500px'))"
      ]
     },
     "metadata": {},
     "output_type": "display_data"
    },
    {
     "name": "stdout",
     "output_type": "stream",
     "text": [
      "Confusion Matrix for training set:\n",
      " [[2047  286]\n",
      " [  49 2822]]\n",
      "Used dataset leave statistics for fstr calculation\n",
      "         Feature Id  Importances\n",
      "0   days_in_shelter    19.164922\n",
      "1        intake_age    15.414941\n",
      "2             breed    12.725534\n",
      "3             color    11.557784\n",
      "4  intake_condition     9.875424\n",
      "5              size     9.260936\n",
      "6    outcome_season     8.052521\n",
      "7       intake_type     8.048518\n",
      "8               sex     5.899420\n",
      "Model params:\n",
      "{'iterations': 1000, 'learning_rate': 0.1, 'depth': 6, 'loss_function': 'Logloss'}\n"
     ]
    }
   ],
   "source": [
    "feature_list = ['sex',\n",
    "                'size',\n",
    "                'breed', \n",
    "                'color',\n",
    "                'days_in_shelter',\n",
    "                'outcome_season',\n",
    "                'intake_age',\n",
    "                'intake_condition',\n",
    "                'intake_type'\n",
    "                #, 'outcome_adopt_subtype'\n",
    "                ]\n",
    "tree_depth = 6\n",
    "X_t = X_train[feature_list]\n",
    "X_t = X_t.astype(str)\n",
    "y_t = y_train\n",
    "lrn_rate = 0.1\n",
    "\n",
    "pool = Pool(X_t, y_t, cat_features=feature_list, feature_names=feature_list)\n",
    "clf  = CatBoostClassifier(iterations=1000, learning_rate=lrn_rate, loss_function=\"Logloss\", depth=tree_depth).fit(pool, eval_set=(X_t, y_t), verbose=False, plot=True)\n",
    "# scores = pd.DataFrame(columns=['test_accuracy','tree_count'], index=range(cv_splits))\n",
    "print('Confusion Matrix for training set:\\n', confusion_matrix(y_true = y_t, y_pred = clf.predict(X_t)))\n",
    "print(clf.get_feature_importance(data=pool, prettified=True, verbose=True))\n",
    "print('Model params:')\n",
    "print(clf.get_params())\n",
    "\n",
    "del feature_list, tree_depth, lrn_rate, X_t, y_t, pool, clf\n",
    "\n"
   ]
  },
  {
   "cell_type": "code",
   "execution_count": 33,
   "metadata": {},
   "outputs": [
    {
     "name": "stdout",
     "output_type": "stream",
     "text": [
      "Confusion Matrix for training set:\n",
      " [[1897  436]\n",
      " [ 115 2756]]\n",
      "Used dataset leave statistics for fstr calculation\n",
      "         Feature Id  Importances\n",
      "0   days_in_shelter    18.430505\n",
      "1        intake_age    16.612831\n",
      "2  intake_condition    16.010093\n",
      "3             breed    10.367968\n",
      "4              size    10.118131\n",
      "5       intake_type     8.185297\n",
      "6    outcome_season     8.102002\n",
      "7             color     7.831898\n",
      "8               sex     4.341274\n",
      "learning rate: \n"
     ]
    }
   ],
   "source": [
    "feature_list = ['sex',\n",
    "                'size',\n",
    "                'breed', \n",
    "                'color',\n",
    "                'days_in_shelter',\n",
    "                'outcome_season',\n",
    "                'intake_age',\n",
    "                'intake_condition',\n",
    "                'intake_type'\n",
    "                #, 'outcome_adopt_subtype'\n",
    "                ]\n",
    "tree_depth = 6\n",
    "lrn_rate = 0.03\n",
    "X_t = X_train[feature_list]\n",
    "X_t = X_t.astype(str)\n",
    "y_t = y_train\n",
    "pool = Pool(X_t, y_t, cat_features=feature_list, feature_names=feature_list)\n",
    "clf  = CatBoostClassifier(iterations=1000, learning_rate=lrn_rate, loss_function=\"MultiClass\", depth=tree_depth).fit(pool, eval_set=(X_t, y_t), verbose=False)\n",
    "# scores = pd.DataFrame(columns=['test_accuracy','tree_count'], index=range(cv_splits))\n",
    "print('Confusion Matrix for training set:\\n', confusion_matrix(y_true = y_t, y_pred = clf.predict(X_t)))\n",
    "print(clf.get_feature_importance(data=pool, prettified=True, verbose=True))\n",
    "print('learning rate:', lrn_rate)\n",
    "del feature_list, tree_depth, X_t, y_t, pool, clf\n",
    "\n"
   ]
  },
  {
   "cell_type": "code",
   "execution_count": null,
   "metadata": {},
   "outputs": [],
   "source": [
    "feature_list = ['sex',\n",
    "                'size',\n",
    "                'breed', \n",
    "                'color',\n",
    "                'days_in_shelter',\n",
    "                'outcome_season',\n",
    "                'intake_age',\n",
    "                'intake_condition',\n",
    "                'intake_type',\n",
    "                'outcome_adopt_subtype'\n",
    "                ]\n",
    "tree_depth = 6\n",
    "cv_splits  = 9\n",
    "\n",
    "kfold  = StratifiedKFold(n_splits=cv_splits, shuffle=True, random_state=1342)\n",
    "scores = pd.DataFrame(columns=['accuracy','tree_count'], index=range(cv_splits))\n",
    "\n",
    "i = 0\n",
    "for t_idx, h_idx in kfold.split(dog_df, dog_df.outcome_adopt):\n",
    "    X_t = dog_df[feature_list].iloc[t_idx]\n",
    "    X_t = X_t.astype(str)\n",
    "    y_t = dog_df.outcome_adopt.iloc[t_idx]\n",
    "    X_h = dog_df[feature_list].iloc[h_idx]\n",
    "    X_h = X_h.astype(str)\n",
    "    y_h = dog_df.outcome_adopt.iloc[h_idx]\n",
    "\n",
    "    pool = Pool(X_t, y_t, cat_features=feature_list, feature_names=feature_list)\n",
    "\n",
    "    clf  = CatBoostClassifier(iterations=1000, learning_rate=0.1, loss_function=\"MultiClass\", depth=tree_depth, task_type=\"GPU\").fit(pool, eval_set=(X_h, y_h), verbose=False)\n",
    "\n",
    "    scores.loc[i, \"tree_count\"] = clf.tree_count_\n",
    "    scores.loc[i, \"accuracy\"]   = accuracy_score(y_true = y_h, y_pred = clf.predict(X_h))\n",
    "    print()\n",
    "    print(confusion_matrix(y_true = y_h, y_pred = clf.predict(X_h)))\n",
    "    print()\n",
    "    print(clf.get_feature_importance(data=pool, prettified=True, verbose=True))\n",
    "    #print(classification_report(y_true = y_h, y_pred = clf.predict(X_h)))\n",
    "    #print()\n",
    "    del clf, pool   \n",
    "    del X_t, y_t, X_h, y_h\n",
    "    i+=1\n",
    "    print('-'*50)"
   ]
  }
 ],
 "metadata": {
  "kernelspec": {
   "display_name": "erdos_may_2024",
   "language": "python",
   "name": "python3"
  },
  "language_info": {
   "codemirror_mode": {
    "name": "ipython",
    "version": 3
   },
   "file_extension": ".py",
   "mimetype": "text/x-python",
   "name": "python",
   "nbconvert_exporter": "python",
   "pygments_lexer": "ipython3",
   "version": "3.11.9"
  }
 },
 "nbformat": 4,
 "nbformat_minor": 2
}
