{
 "cells": [
  {
   "cell_type": "markdown",
   "metadata": {},
   "source": [
    "### Notebook: Preparing Time Independent Models\n",
    "\n",
    "31 May 2024\n",
    "\n",
    "Objectives:\n",
    "- Further work on cross-validation\n",
    "- Analysis and visuals\n",
    "- Deal with age issue\n"
   ]
  },
  {
   "cell_type": "markdown",
   "metadata": {},
   "source": [
    "## 0. Setup"
   ]
  },
  {
   "cell_type": "code",
   "execution_count": 1,
   "metadata": {},
   "outputs": [],
   "source": [
    "import pandas as pd\n",
    "import numpy as np\n",
    "\n",
    "import matplotlib.pyplot as plt\n",
    "import seaborn as sns\n",
    "\n",
    "# ------------------------------------------------\n",
    "from sklearn import tree\n",
    "from sklearn.tree import DecisionTreeClassifier\n",
    "from sklearn.model_selection import train_test_split, StratifiedKFold\n",
    "from sklearn.ensemble import RandomForestClassifier, ExtraTreesClassifier\n",
    "from sklearn.metrics import accuracy_score, confusion_matrix, classification_report, mean_squared_error, auc\n",
    "\n",
    "# ------------------------------------------------\n",
    "from catboost import CatBoostClassifier, Pool, cv #, MetricVisualizer\n",
    "from catboost.utils import get_roc_curve\n",
    "\n",
    "# ------------------------------------------------\n",
    "\n",
    "data_path = \"../../main_data/locale_specific_data/\"\n",
    "fig_path  = '../../images/time_independent_figures/'\n"
   ]
  },
  {
   "cell_type": "code",
   "execution_count": 2,
   "metadata": {},
   "outputs": [
    {
     "name": "stdout",
     "output_type": "stream",
     "text": [
      "6505\n",
      "6499\n"
     ]
    },
    {
     "data": {
      "text/html": [
       "<div>\n",
       "<style scoped>\n",
       "    .dataframe tbody tr th:only-of-type {\n",
       "        vertical-align: middle;\n",
       "    }\n",
       "\n",
       "    .dataframe tbody tr th {\n",
       "        vertical-align: top;\n",
       "    }\n",
       "\n",
       "    .dataframe thead th {\n",
       "        text-align: right;\n",
       "    }\n",
       "</style>\n",
       "<table border=\"1\" class=\"dataframe\">\n",
       "  <thead>\n",
       "    <tr style=\"text-align: right;\">\n",
       "      <th></th>\n",
       "      <th>breed</th>\n",
       "      <th>color</th>\n",
       "      <th>sex</th>\n",
       "      <th>size</th>\n",
       "      <th>date_of_birth</th>\n",
       "      <th>animal_id</th>\n",
       "      <th>intake_date</th>\n",
       "      <th>outcome_date</th>\n",
       "      <th>days_in_shelter</th>\n",
       "      <th>intake_type</th>\n",
       "      <th>...</th>\n",
       "      <th>outcome_adopt</th>\n",
       "      <th>outcome_adopt_subtype</th>\n",
       "      <th>intake_age</th>\n",
       "      <th>outcome_age</th>\n",
       "      <th>pop_control</th>\n",
       "      <th>sex_bin</th>\n",
       "      <th>size_bin</th>\n",
       "      <th>breed_pit</th>\n",
       "      <th>color_mix</th>\n",
       "      <th>intake_bin</th>\n",
       "    </tr>\n",
       "  </thead>\n",
       "  <tbody>\n",
       "    <tr>\n",
       "      <th>0</th>\n",
       "      <td>PIT BULL</td>\n",
       "      <td>GRAY/WHITE</td>\n",
       "      <td>Female</td>\n",
       "      <td>MED</td>\n",
       "      <td>2012-09-03</td>\n",
       "      <td>A296009</td>\n",
       "      <td>2013-08-22</td>\n",
       "      <td>2014-04-14</td>\n",
       "      <td>235</td>\n",
       "      <td>TRANSFER</td>\n",
       "      <td>...</td>\n",
       "      <td>False</td>\n",
       "      <td>none</td>\n",
       "      <td>0.97</td>\n",
       "      <td>1.61</td>\n",
       "      <td>1</td>\n",
       "      <td>1</td>\n",
       "      <td>3</td>\n",
       "      <td>1</td>\n",
       "      <td>1</td>\n",
       "      <td>4</td>\n",
       "    </tr>\n",
       "    <tr>\n",
       "      <th>1</th>\n",
       "      <td>PIT BULL</td>\n",
       "      <td>BLUE/WHITE</td>\n",
       "      <td>Female</td>\n",
       "      <td>MED</td>\n",
       "      <td>2012-10-09</td>\n",
       "      <td>A294143</td>\n",
       "      <td>2013-08-31</td>\n",
       "      <td>2014-04-14</td>\n",
       "      <td>226</td>\n",
       "      <td>STRAY</td>\n",
       "      <td>...</td>\n",
       "      <td>False</td>\n",
       "      <td>none</td>\n",
       "      <td>0.89</td>\n",
       "      <td>1.51</td>\n",
       "      <td>1</td>\n",
       "      <td>1</td>\n",
       "      <td>3</td>\n",
       "      <td>1</td>\n",
       "      <td>1</td>\n",
       "      <td>0</td>\n",
       "    </tr>\n",
       "    <tr>\n",
       "      <th>2</th>\n",
       "      <td>CAROLINA DOG/MIX</td>\n",
       "      <td>GOLD/WHITE</td>\n",
       "      <td>Male</td>\n",
       "      <td>MED</td>\n",
       "      <td>2007-09-07</td>\n",
       "      <td>A281788</td>\n",
       "      <td>2013-09-19</td>\n",
       "      <td>2014-07-30</td>\n",
       "      <td>314</td>\n",
       "      <td>STRAY</td>\n",
       "      <td>...</td>\n",
       "      <td>False</td>\n",
       "      <td>none</td>\n",
       "      <td>6.03</td>\n",
       "      <td>6.90</td>\n",
       "      <td>0</td>\n",
       "      <td>0</td>\n",
       "      <td>3</td>\n",
       "      <td>0</td>\n",
       "      <td>1</td>\n",
       "      <td>0</td>\n",
       "    </tr>\n",
       "    <tr>\n",
       "      <th>3</th>\n",
       "      <td>CHIHUAHUA SH</td>\n",
       "      <td>TAN</td>\n",
       "      <td>Male</td>\n",
       "      <td>TOY</td>\n",
       "      <td>2007-10-01</td>\n",
       "      <td>A297574</td>\n",
       "      <td>2013-10-01</td>\n",
       "      <td>2014-01-01</td>\n",
       "      <td>92</td>\n",
       "      <td>OWNER SURRENDER</td>\n",
       "      <td>...</td>\n",
       "      <td>False</td>\n",
       "      <td>none</td>\n",
       "      <td>6.00</td>\n",
       "      <td>6.25</td>\n",
       "      <td>1</td>\n",
       "      <td>0</td>\n",
       "      <td>1</td>\n",
       "      <td>0</td>\n",
       "      <td>0</td>\n",
       "      <td>1</td>\n",
       "    </tr>\n",
       "    <tr>\n",
       "      <th>4</th>\n",
       "      <td>PIT BULL</td>\n",
       "      <td>TAN/WHITE</td>\n",
       "      <td>Male</td>\n",
       "      <td>MED</td>\n",
       "      <td>2012-10-29</td>\n",
       "      <td>A298002</td>\n",
       "      <td>2013-10-08</td>\n",
       "      <td>2014-05-22</td>\n",
       "      <td>226</td>\n",
       "      <td>STRAY</td>\n",
       "      <td>...</td>\n",
       "      <td>True</td>\n",
       "      <td>realtime</td>\n",
       "      <td>0.95</td>\n",
       "      <td>1.57</td>\n",
       "      <td>1</td>\n",
       "      <td>0</td>\n",
       "      <td>3</td>\n",
       "      <td>1</td>\n",
       "      <td>1</td>\n",
       "      <td>0</td>\n",
       "    </tr>\n",
       "  </tbody>\n",
       "</table>\n",
       "<p>5 rows × 28 columns</p>\n",
       "</div>"
      ],
      "text/plain": [
       "              breed       color     sex size date_of_birth animal_id  \\\n",
       "0          PIT BULL  GRAY/WHITE  Female  MED    2012-09-03   A296009   \n",
       "1          PIT BULL  BLUE/WHITE  Female  MED    2012-10-09   A294143   \n",
       "2  CAROLINA DOG/MIX  GOLD/WHITE    Male  MED    2007-09-07   A281788   \n",
       "3      CHIHUAHUA SH         TAN    Male  TOY    2007-10-01   A297574   \n",
       "4          PIT BULL   TAN/WHITE    Male  MED    2012-10-29   A298002   \n",
       "\n",
       "  intake_date outcome_date  days_in_shelter      intake_type  ...  \\\n",
       "0  2013-08-22   2014-04-14              235         TRANSFER  ...   \n",
       "1  2013-08-31   2014-04-14              226            STRAY  ...   \n",
       "2  2013-09-19   2014-07-30              314            STRAY  ...   \n",
       "3  2013-10-01   2014-01-01               92  OWNER SURRENDER  ...   \n",
       "4  2013-10-08   2014-05-22              226            STRAY  ...   \n",
       "\n",
       "  outcome_adopt outcome_adopt_subtype intake_age outcome_age pop_control  \\\n",
       "0         False                  none       0.97        1.61           1   \n",
       "1         False                  none       0.89        1.51           1   \n",
       "2         False                  none       6.03        6.90           0   \n",
       "3         False                  none       6.00        6.25           1   \n",
       "4          True              realtime       0.95        1.57           1   \n",
       "\n",
       "   sex_bin  size_bin  breed_pit  color_mix intake_bin  \n",
       "0        1         3          1          1          4  \n",
       "1        1         3          1          1          0  \n",
       "2        0         3          0          1          0  \n",
       "3        0         1          0          0          1  \n",
       "4        0         3          1          1          0  \n",
       "\n",
       "[5 rows x 28 columns]"
      ]
     },
     "execution_count": 2,
     "metadata": {},
     "output_type": "execute_result"
    }
   ],
   "source": [
    "dog_df = pd.read_csv(data_path + \"Sonoma_time_independent_data_akry.csv\")\n",
    "print(len(dog_df))\n",
    "\n",
    "dog_df=dog_df[dog_df.intake_age>=0].reset_index(drop=True)\n",
    "print(len(dog_df))\n",
    "\n",
    "dog_df.head()"
   ]
  },
  {
   "cell_type": "code",
   "execution_count": 73,
   "metadata": {},
   "outputs": [
    {
     "data": {
      "text/plain": [
       "3112"
      ]
     },
     "execution_count": 73,
     "metadata": {},
     "output_type": "execute_result"
    }
   ],
   "source": [
    "dog_df['breed_pure'] = 1*(dog_df.breed.str.contains('/')==False)\n",
    "dog_df.breed_pure.sum()"
   ]
  },
  {
   "cell_type": "code",
   "execution_count": 77,
   "metadata": {},
   "outputs": [
    {
     "data": {
      "text/plain": [
       "<Axes: xlabel='intake_age', ylabel='days_in_shelter'>"
      ]
     },
     "execution_count": 77,
     "metadata": {},
     "output_type": "execute_result"
    },
    {
     "data": {
      "image/png": "[encoded data removed]",
      "text/plain": [
       "<Figure size 640x480 with 1 Axes>"
      ]
     },
     "metadata": {},
     "output_type": "display_data"
    }
   ],
   "source": [
    "sns.scatterplot(data=dog_df, y='days_in_shelter',x='intake_age',hue='breed_pure')"
   ]
  },
  {
   "cell_type": "code",
   "execution_count": 80,
   "metadata": {},
   "outputs": [
    {
     "data": {
      "text/plain": [
       "array(['PIT BULL', 'CHIHUAHUA SH', 'TOY FOX TERRIER', 'PARSON RUSS TER',\n",
       "       'GERM SHEPHERD', 'AUST KELPIE', 'MASTIFF', 'PLOTT HOUND',\n",
       "       'LABRADOR RETR', 'BOXER', 'ANATOL SHEPHERD', 'ROTTWEILER',\n",
       "       'BORDER COLLIE', 'MIN PINSCHER', 'POMERANIAN', 'LHASA APSO',\n",
       "       'DOBERMAN PINSCH', 'AMERICAN STAFF', 'PRESA CANARIO', 'PEKINGESE',\n",
       "       'AUST SHEPHERD', 'POODLE TOY', 'BICHON FRISE', 'CHIHUAHUA LH',\n",
       "       'AUST CATTLE DOG', 'BOSTON TERRIER', 'POODLE MIN',\n",
       "       'YORKSHIRE TERR', 'SHIH TZU', 'AKITA', 'RAT TERRIER', 'PUG',\n",
       "       'DACHSHUND', 'AKBASH', 'SIBERIAN HUSKY', 'DACHSHUND WH',\n",
       "       'SCHNAUZER MIN', 'GOLDEN RETR', 'BULLMASTIFF', 'SCOT TERRIER',\n",
       "       'AMER BULLDOG', 'SPANISH MASTIFF', 'FOX TERR SMOOTH', 'SHIBA INU',\n",
       "       'GERM SH POINT', 'GREAT PYRENEES', 'SHETLD SHEEPDOG', 'MALTESE',\n",
       "       'DACHSHUND LH', 'CHINESE SHARPEI', 'BEAGLE', 'AMER ESKIMO',\n",
       "       'CAIRN TERRIER', 'GREAT DANE', 'QUEENSLAND HEEL', 'WEST HIGHLAND',\n",
       "       'BORDER COLLIE X', 'AUST TERRIER', 'BULL TERRIER',\n",
       "       'PODENGO PEQUENO', 'CHINESE CRESTED', 'FOX TERR WIRE',\n",
       "       'BRUSS GRIFFON', 'STAFFORDSHIRE', 'ENG BULLDOG', 'WEIMARANER',\n",
       "       'AM PIT BULL TER', 'COCKER SPAN', 'TR WALKER HOUND',\n",
       "       'CHESA BAY RETR', 'BELG MALINOIS', 'CATAHOULA', 'CANE CORSO',\n",
       "       'GERM WH POINT', 'AFFENPINSCHER', 'ITAL GREYHOUND',\n",
       "       'WELSH CORGI CAR', 'ALASKAN HUSKY', 'HAVANESE', 'WHIPPET',\n",
       "       'ENG COONHOUND', 'RHOD RIDGEBACK', 'BULLDOG', 'DOGUE DE BORDX',\n",
       "       'SILKY TERRIER', 'BLUETICK HOUND', 'CAROLINA DOG', 'CHOW CHOW',\n",
       "       'ENG SPRNGR SPAN', 'IRISH WOLFHOUND', 'ALASK MALAMUTE', 'PAPILLON',\n",
       "       'POINTER', 'MANCHESTER TERR', 'FRENCH BULLDOG', 'BRITTANY',\n",
       "       'TIBETAN TERR', 'BASSET HOUND', 'ENG FOXHOUND', 'IRISH TERRIER',\n",
       "       'NEWFOUNDLAND', 'ENG POINTER', 'SAMOYED', 'ALASK KLEE KAI',\n",
       "       'DOGO ARGENTINO', 'REDBONE HOUND', 'DUTCH SHEPHERD',\n",
       "       'WELSH TERRIER'], dtype=object)"
      ]
     },
     "execution_count": 80,
     "metadata": {},
     "output_type": "execute_result"
    }
   ],
   "source": [
    "dog_df[dog_df.breed.str.contains('/')==False].breed.unique()\n"
   ]
  },
  {
   "cell_type": "markdown",
   "metadata": {},
   "source": [
    "## 1. Deal with Ages"
   ]
  },
  {
   "cell_type": "markdown",
   "metadata": {},
   "source": [
    "## 2. Working with the model"
   ]
  },
  {
   "cell_type": "markdown",
   "metadata": {},
   "source": [
    "### Create train-test split "
   ]
  },
  {
   "cell_type": "code",
   "execution_count": 37,
   "metadata": {},
   "outputs": [],
   "source": [
    "feature_list = [ 'sex', 'size', 'breed', 'color',\n",
    "                'days_in_shelter', 'outcome_season',\n",
    "                'intake_age','intake_condition','intake_type']#,'outcome_adopt_subtype']"
   ]
  },
  {
   "cell_type": "code",
   "execution_count": 38,
   "metadata": {},
   "outputs": [],
   "source": [
    "X_train, X_hold, y_train, y_hold = train_test_split(dog_df[feature_list],\n",
    "                                      dog_df.outcome_adopt,\n",
    "                                      shuffle=True,\n",
    "                                      stratify=dog_df.outcome_adopt,\n",
    "                                      test_size=0.2,\n",
    "                                      random_state=1342)"
   ]
  },
  {
   "cell_type": "code",
   "execution_count": 39,
   "metadata": {},
   "outputs": [],
   "source": [
    "tree_depth = 6\n",
    "lrn_rate   = 0.1"
   ]
  },
  {
   "cell_type": "code",
   "execution_count": 40,
   "metadata": {},
   "outputs": [
    {
     "data": {
      "image/png": "[encoded data removed]",
      "text/plain": [
       "<Figure size 600x400 with 1 Axes>"
      ]
     },
     "metadata": {},
     "output_type": "display_data"
    },
    {
     "data": {
      "text/plain": [
       "<Figure size 640x480 with 0 Axes>"
      ]
     },
     "metadata": {},
     "output_type": "display_data"
    }
   ],
   "source": [
    "cv_splits  = 9\n",
    "kfold  = StratifiedKFold(n_splits=cv_splits, shuffle=True, random_state=1342)\n",
    "\n",
    "plt.figure(figsize=(6,4), layout=\"tight\")\n",
    "\n",
    "i = 0\n",
    "for t_idx, h_idx in kfold.split(dog_df, dog_df.outcome_adopt):\n",
    "      X_t = dog_df[feature_list].iloc[t_idx]\n",
    "      X_t = X_t.astype(str)\n",
    "      y_t = dog_df.outcome_adopt.iloc[t_idx]\n",
    "      X_h = dog_df[feature_list].iloc[h_idx]\n",
    "      X_h = X_h.astype(str)\n",
    "      y_h = dog_df.outcome_adopt.iloc[h_idx]\n",
    "      \n",
    "      pool = Pool(X_t, y_t, cat_features=feature_list, feature_names=feature_list)\n",
    "\n",
    "      clf  = CatBoostClassifier(iterations=1000, learning_rate=lrn_rate, loss_function=\"Logloss\", depth=tree_depth).fit(pool, eval_set=(X_t, y_t), verbose=False)\n",
    "      ## ROC curve - get data from catboost, plot with plt\n",
    "      (fpr, tpr, thresholds) = get_roc_curve(clf, pool, plot=False)\n",
    "      roc_auc = auc(fpr, tpr)\n",
    "      plt.plot(fpr, tpr, c=\"darkgray\", linewidth=0.50)#, label='CV {x} (AUC = {y})'.format(x=i+1, y=(round(roc_auc,2))))\n",
    "      \n",
    "      #print('Model params (CV {cv}): '.format(cv=str(i+1)))\n",
    "      #print(clf.get_params())\n",
    "      #confusion = confusion_matrix(y_true = y_t, y_pred = clf.predict(X_t))\n",
    "      #print('Confusion Matrix:\\n', confusion)\n",
    "      #print(clf.get_feature_importance(data=pool, prettified=True, verbose=True))\n",
    "      #print()\n",
    "      #print(\"Classification Report:\")\n",
    "      #print(classification_report(y_true=y_t, y_pred=clf.predict(X_t)))\n",
    "      i+=1\n",
    "      del X_t, y_t, pool, clf, fpr, tpr, thresholds, roc_auc#, confusion\n",
    "\n",
    "X_t = X_train.astype(str)\n",
    "pool = Pool(X_t, y_train, cat_features=feature_list, feature_names=feature_list)\n",
    "clf  = CatBoostClassifier(iterations=1000, learning_rate=lrn_rate, loss_function=\"Logloss\", depth=tree_depth).fit(pool, eval_set=(X_t, y_train), verbose=False)\n",
    "## ROC curve - get data from catboost, plot with plt\n",
    "(fpr, tpr, thresholds) = get_roc_curve(clf, pool, plot=False)\n",
    "roc_auc = auc(fpr, tpr)\n",
    "plt.plot(fpr, tpr, c=\"red\", linewidth=1.0, label='AUC = {y})'.format(y=(round(roc_auc,2))))\n",
    "del X_t, pool, clf, fpr, tpr, thresholds, roc_auc\n",
    "\n",
    "plt.plot([0, 1], [0, 1], 'k--') #line y=x\n",
    "plt.xlim([0.0, 1.0])\n",
    "plt.ylim([0.0, 1.0])\n",
    "plt.xlabel('False Positive Rate')\n",
    "plt.ylabel('True Positive Rate')\n",
    "plt.title('ROC Curve')\n",
    "plt.legend(loc=\"lower right\")\n",
    "plt.show()\n",
    "plt.clf()\n",
    "\n",
    "#plt.savefig(roc_j)\n",
    "#del feat, model_name, feature_list, tree_depth, lrn_rate, X_t, y_t, pool, clf, confusion, \n",
    "\n"
   ]
  },
  {
   "cell_type": "code",
   "execution_count": 49,
   "metadata": {},
   "outputs": [
    {
     "name": "stdout",
     "output_type": "stream",
     "text": [
      "removed  outcome_season\n",
      "removed  intake_type\n",
      "removed  intake_condition\n"
     ]
    },
    {
     "data": {
      "image/png": "[encoded data removed]",
      "text/plain": [
       "<Figure size 1200x400 with 3 Axes>"
      ]
     },
     "metadata": {},
     "output_type": "display_data"
    },
    {
     "data": {
      "text/plain": [
       "<Figure size 640x480 with 0 Axes>"
      ]
     },
     "metadata": {},
     "output_type": "display_data"
    }
   ],
   "source": [
    "rem_feat = ['outcome_season','intake_type','intake_condition']\n",
    "\n",
    "fig, axes = plt.subplots(nrows=1, ncols=len(rem_feat), figsize=(4*len(rem_feat),4), sharey=True, layout=\"tight\")\n",
    "\n",
    "for i in range(len(rem_feat)):\n",
    "    mod_feature_list = feature_list.copy()\n",
    "    mod_feature_list.remove(rem_feat[i])\n",
    "    print(\"removed \", rem_feat[i])\n",
    "\n",
    "    cv_splits  = 9\n",
    "    kfold  = StratifiedKFold(n_splits=cv_splits, shuffle=True, random_state=1342)\n",
    "    j = 0\n",
    "    for t_idx, h_idx in kfold.split(dog_df, dog_df.outcome_adopt):\n",
    "        X_t = dog_df[mod_feature_list].iloc[t_idx]\n",
    "        X_t = X_t.astype(str)\n",
    "        y_t = dog_df.outcome_adopt.iloc[t_idx]\n",
    "        X_h = dog_df[mod_feature_list].iloc[h_idx]\n",
    "        X_h = X_h.astype(str)\n",
    "        y_h = dog_df.outcome_adopt.iloc[h_idx]\n",
    "        \n",
    "        pool = Pool(X_t, y_t, cat_features=mod_feature_list, feature_names=mod_feature_list)\n",
    "        clf  = CatBoostClassifier(iterations=1000, learning_rate=lrn_rate, loss_function=\"Logloss\", depth=tree_depth).fit(pool, eval_set=(X_t, y_t), verbose=False)\n",
    "        (fpr, tpr, thresholds) = get_roc_curve(clf, pool, plot=False)\n",
    "        \n",
    "        axes[i].plot(fpr, tpr, c=\"darkgray\", linewidth=0.50)\n",
    "\n",
    "        j+=1\n",
    "        del X_t, y_t, pool, clf, fpr, tpr, thresholds\n",
    "    del cv_splits, kfold, j\n",
    "\n",
    "    X_train_mod = X_train[mod_feature_list]\n",
    "    X_train_mod = X_train_mod.astype(str)\n",
    "    y_train_mod = y_train.copy()\n",
    "\n",
    "    pool = Pool(X_train_mod, y_train_mod, cat_features=mod_feature_list, feature_names=mod_feature_list)\n",
    "    clf  = CatBoostClassifier(iterations=1000, learning_rate=lrn_rate, loss_function=\"Logloss\", depth=tree_depth)\n",
    "    clf.fit(pool, eval_set=(X_train_mod, y_train_mod), verbose=False, plot=False)\n",
    "    \n",
    "    (fpr, tpr, thresholds) = get_roc_curve(clf, pool, plot=False)\n",
    "    roc_auc = auc(fpr, tpr)\n",
    "    \n",
    "    axes[i].plot(fpr, tpr, label='AUC = {y}'.format(y=(round(roc_auc,2))))\n",
    "    axes[i].plot([0, 1], [0, 1], 'k--')\n",
    "    axes[i].legend(loc='best')\n",
    "    axes[i].set_xlim(0.0, 0.6)\n",
    "    axes[i].set_ylim(0.5, 1.0)\n",
    "    axes[i].spines[['top','right']].set_visible(False)\n",
    "\n",
    "    axes[i].set_xlabel('False Positive Rate')\n",
    "    if i == 0:\n",
    "        axes[i].set_ylabel('True Positive Rate')\n",
    "\n",
    "    del mod_feature_list, X_train_mod, y_train_mod, pool, clf, fpr, tpr, thresholds, roc_auc\n",
    "    i+=1\n",
    "\n",
    "plt.show()\n",
    "plt.clf()\n"
   ]
  },
  {
   "cell_type": "markdown",
   "metadata": {},
   "source": [
    "#### Using only one feature"
   ]
  },
  {
   "cell_type": "code",
   "execution_count": 50,
   "metadata": {},
   "outputs": [
    {
     "data": {
      "image/png": "[encoded data removed]",
      "text/plain": [
       "<Figure size 1200x400 with 10 Axes>"
      ]
     },
     "metadata": {},
     "output_type": "display_data"
    },
    {
     "data": {
      "text/plain": [
       "<Figure size 640x480 with 0 Axes>"
      ]
     },
     "metadata": {},
     "output_type": "display_data"
    }
   ],
   "source": [
    "fig, axes = plt.subplots(nrows=2, ncols=5, figsize=(12,4), sharex=True,sharey=True, layout=\"tight\")\n",
    "\n",
    "i=0\n",
    "for FEATURE in feature_list:\n",
    "    \n",
    "    X_t = X_train[FEATURE]\n",
    "    X_t = X_t.astype(str)\n",
    "    y_t = y_train\n",
    "    pool = Pool(X_t, y_t, cat_features=[FEATURE], feature_names=[FEATURE])\n",
    "    clf  = CatBoostClassifier(iterations=1000, learning_rate=lrn_rate, loss_function=\"Logloss\", depth=tree_depth)\n",
    "    clf.fit(pool, eval_set=(X_t, y_t), verbose=False, plot=False)\n",
    "    \n",
    "    (fpr, tpr, thresholds) = get_roc_curve(clf, pool, plot=False)\n",
    "    roc_auc = auc(fpr, tpr)\n",
    "    if i < 5:\n",
    "        k = i\n",
    "        j = 0\n",
    "    else:\n",
    "        k = i-5\n",
    "        j = 1\n",
    "    \n",
    "    axes[j,k].plot(fpr, tpr, label='{x}\\nAUC = {y})'.format(x=FEATURE, y=(round(roc_auc,2))))\n",
    "    axes[j,k].plot([0, 1], [0, 1], 'k--')\n",
    "    axes[j,k].legend(loc='best')\n",
    "    axes[j,k].set_xlim(0.0, 1.0)\n",
    "    axes[j,k].set_ylim(0.0, 1.0)\n",
    "    if j == 1:\n",
    "        axes[j,k].set_xlabel('False Positive Rate')\n",
    "    if k==0:\n",
    "        axes[j,k].set_ylabel('True Positive Rate')\n",
    "    axes[j,k].spines[['top','right']].set_visible(False)\n",
    "\n",
    "    del j,k, X_t, y_t, pool, clf, fpr, tpr, thresholds, roc_auc\n",
    "    i+=1\n",
    "\n",
    "plt.show()\n",
    "plt.clf()\n",
    "del fig, axes, i, FEATURE\n"
   ]
  },
  {
   "cell_type": "markdown",
   "metadata": {},
   "source": [
    "### Try: Feature Selection Tool"
   ]
  },
  {
   "cell_type": "code",
   "execution_count": 51,
   "metadata": {},
   "outputs": [],
   "source": [
    "from catboost import CatBoostRegressor, EShapCalcType, EFeaturesSelectionAlgorithm"
   ]
  },
  {
   "cell_type": "code",
   "execution_count": 67,
   "metadata": {},
   "outputs": [],
   "source": [
    "def select_features_syntetic_CLSF(algorithm: EFeaturesSelectionAlgorithm, steps: int = 1):\n",
    "    print('Algorithm:', algorithm)\n",
    "    model = CatBoostClassifier(iterations=1000, random_seed=1342)\n",
    "    summary = model.select_features(\n",
    "        train_pool,\n",
    "        #eval_set=test_pool,\n",
    "        features_for_select=list(range(train_pool.num_col())),     # we will select from all features\n",
    "        num_features_to_select=5,  # we want to select exactly important features\n",
    "        steps=steps,                                     # more steps - more accurate selection\n",
    "        algorithm=algorithm,\n",
    "        shap_calc_type=EShapCalcType.Regular,            # can be Approximate, Regular and Exact\n",
    "        train_final_model=True,                          # to train model with selected features\n",
    "        logging_level='Silent',\n",
    "        plot=True\n",
    "    )\n",
    "    print('Selected features:', summary['selected_features_names'])\n",
    "    return summary\n",
    "\n",
    "def select_features_syntetic_RGSR(algorithm: EFeaturesSelectionAlgorithm, steps: int = 1):\n",
    "    print('Algorithm:', algorithm)\n",
    "    model = CatBoostRegressor(iterations=1000, random_seed=1342)\n",
    "    summary = model.select_features(\n",
    "        train_pool,\n",
    "        #eval_set=test_pool,\n",
    "        features_for_select=list(range(train_pool.num_col())),     # we will select from all features\n",
    "        num_features_to_select=5,  # we want to select exactly important features\n",
    "        steps=steps,                                     # more steps - more accurate selection\n",
    "        algorithm=algorithm,\n",
    "        shap_calc_type=EShapCalcType.Regular,            # can be Approximate, Regular and Exact\n",
    "        train_final_model=True,                          # to train model with selected features\n",
    "        logging_level='Silent',\n",
    "        plot=True\n",
    "    )\n",
    "    print('Selected features:', summary['selected_features_names'])\n",
    "    return summary"
   ]
  },
  {
   "cell_type": "code",
   "execution_count": 81,
   "metadata": {},
   "outputs": [
    {
     "name": "stdout",
     "output_type": "stream",
     "text": [
      "Algorithm: EFeaturesSelectionAlgorithm.RecursiveByShapValues\n"
     ]
    },
    {
     "data": {
      "application/vnd.jupyter.widget-view+json": {
       "model_id": "3eb06f1402f148c091cd2f21652618ab",
       "version_major": 2,
       "version_minor": 0
      },
      "text/plain": [
       "MetricVisualizer(layout=Layout(align_self='stretch', height='500px'))"
      ]
     },
     "metadata": {},
     "output_type": "display_data"
    },
    {
     "data": {
      "application/vnd.plotly.v1+json": {
       "config": {
        "plotlyServerURL": "https://plotly.com"
       },
       "data": [
        {
         "line": {
          "color": "rgb(51,160,44)"
         },
         "mode": "lines+markers",
         "name": "",
         "text": [
          "",
          "breed_pure",
          "sex",
          "color",
          "intake_type"
         ],
         "type": "scatter",
         "x": [
          0,
          1,
          2,
          3,
          4
         ],
         "y": [
          0.28015926695739035,
          0.27299839153352284,
          0.2727346169702356,
          0.2571899079395993,
          0.250307832932911
         ]
        },
        {
         "marker": {
          "size": 10,
          "symbol": "square"
         },
         "mode": "markers",
         "name": "",
         "text": [
          "",
          "breed_pure",
          "sex",
          "color",
          "intake_type"
         ],
         "type": "scatter",
         "x": [
          0,
          1,
          2,
          3,
          4
         ],
         "y": [
          0.28015926695739035,
          0.27299839153352284,
          0.2727346169702356,
          0.2571899079395993,
          0.250307832932911
         ]
        },
        {
         "mode": "text",
         "name": "",
         "text": [
          "",
          "2",
          "0",
          "3",
          "8"
         ],
         "textfont": {
          "color": "rgb(51,160,44)",
          "family": "sans serif",
          "size": 18
         },
         "textposition": "bottom center",
         "type": "scatter",
         "visible": false,
         "x": [
          0,
          1,
          2,
          3,
          4
         ],
         "y": [
          0.28015926695739035,
          0.27299839153352284,
          0.2727346169702356,
          0.2571899079395993,
          0.250307832932911
         ]
        },
        {
         "mode": "text",
         "name": "",
         "text": [
          "",
          "breed_pure",
          "sex",
          "color",
          "intake_type"
         ],
         "textfont": {
          "color": "rgb(51,160,44)",
          "family": "sans serif",
          "size": 18
         },
         "textposition": "bottom center",
         "type": "scatter",
         "visible": false,
         "x": [
          0,
          1,
          2,
          3,
          4
         ],
         "y": [
          0.28015926695739035,
          0.27299839153352284,
          0.2727346169702356,
          0.2571899079395993,
          0.250307832932911
         ]
        }
       ],
       "layout": {
        "showlegend": false,
        "template": {
         "data": {
          "bar": [
           {
            "error_x": {
             "color": "#2a3f5f"
            },
            "error_y": {
             "color": "#2a3f5f"
            },
            "marker": {
             "line": {
              "color": "#E5ECF6",
              "width": 0.5
             },
             "pattern": {
              "fillmode": "overlay",
              "size": 10,
              "solidity": 0.2
             }
            },
            "type": "bar"
           }
          ],
          "barpolar": [
           {
            "marker": {
             "line": {
              "color": "#E5ECF6",
              "width": 0.5
             },
             "pattern": {
              "fillmode": "overlay",
              "size": 10,
              "solidity": 0.2
             }
            },
            "type": "barpolar"
           }
          ],
          "carpet": [
           {
            "aaxis": {
             "endlinecolor": "#2a3f5f",
             "gridcolor": "white",
             "linecolor": "white",
             "minorgridcolor": "white",
             "startlinecolor": "#2a3f5f"
            },
            "baxis": {
             "endlinecolor": "#2a3f5f",
             "gridcolor": "white",
             "linecolor": "white",
             "minorgridcolor": "white",
             "startlinecolor": "#2a3f5f"
            },
            "type": "carpet"
           }
          ],
          "choropleth": [
           {
            "colorbar": {
             "outlinewidth": 0,
             "ticks": ""
            },
            "type": "choropleth"
           }
          ],
          "contour": [
           {
            "colorbar": {
             "outlinewidth": 0,
             "ticks": ""
            },
            "colorscale": [
             [
              0,
              "#0d0887"
             ],
             [
              0.1111111111111111,
              "#46039f"
             ],
             [
              0.2222222222222222,
              "#7201a8"
             ],
             [
              0.3333333333333333,
              "#9c179e"
             ],
             [
              0.4444444444444444,
              "#bd3786"
             ],
             [
              0.5555555555555556,
              "#d8576b"
             ],
             [
              0.6666666666666666,
              "#ed7953"
             ],
             [
              0.7777777777777778,
              "#fb9f3a"
             ],
             [
              0.8888888888888888,
              "#fdca26"
             ],
             [
              1,
              "#f0f921"
             ]
            ],
            "type": "contour"
           }
          ],
          "contourcarpet": [
           {
            "colorbar": {
             "outlinewidth": 0,
             "ticks": ""
            },
            "type": "contourcarpet"
           }
          ],
          "heatmap": [
           {
            "colorbar": {
             "outlinewidth": 0,
             "ticks": ""
            },
            "colorscale": [
             [
              0,
              "#0d0887"
             ],
             [
              0.1111111111111111,
              "#46039f"
             ],
             [
              0.2222222222222222,
              "#7201a8"
             ],
             [
              0.3333333333333333,
              "#9c179e"
             ],
             [
              0.4444444444444444,
              "#bd3786"
             ],
             [
              0.5555555555555556,
              "#d8576b"
             ],
             [
              0.6666666666666666,
              "#ed7953"
             ],
             [
              0.7777777777777778,
              "#fb9f3a"
             ],
             [
              0.8888888888888888,
              "#fdca26"
             ],
             [
              1,
              "#f0f921"
             ]
            ],
            "type": "heatmap"
           }
          ],
          "heatmapgl": [
           {
            "colorbar": {
             "outlinewidth": 0,
             "ticks": ""
            },
            "colorscale": [
             [
              0,
              "#0d0887"
             ],
             [
              0.1111111111111111,
              "#46039f"
             ],
             [
              0.2222222222222222,
              "#7201a8"
             ],
             [
              0.3333333333333333,
              "#9c179e"
             ],
             [
              0.4444444444444444,
              "#bd3786"
             ],
             [
              0.5555555555555556,
              "#d8576b"
             ],
             [
              0.6666666666666666,
              "#ed7953"
             ],
             [
              0.7777777777777778,
              "#fb9f3a"
             ],
             [
              0.8888888888888888,
              "#fdca26"
             ],
             [
              1,
              "#f0f921"
             ]
            ],
            "type": "heatmapgl"
           }
          ],
          "histogram": [
           {
            "marker": {
             "pattern": {
              "fillmode": "overlay",
              "size": 10,
              "solidity": 0.2
             }
            },
            "type": "histogram"
           }
          ],
          "histogram2d": [
           {
            "colorbar": {
             "outlinewidth": 0,
             "ticks": ""
            },
            "colorscale": [
             [
              0,
              "#0d0887"
             ],
             [
              0.1111111111111111,
              "#46039f"
             ],
             [
              0.2222222222222222,
              "#7201a8"
             ],
             [
              0.3333333333333333,
              "#9c179e"
             ],
             [
              0.4444444444444444,
              "#bd3786"
             ],
             [
              0.5555555555555556,
              "#d8576b"
             ],
             [
              0.6666666666666666,
              "#ed7953"
             ],
             [
              0.7777777777777778,
              "#fb9f3a"
             ],
             [
              0.8888888888888888,
              "#fdca26"
             ],
             [
              1,
              "#f0f921"
             ]
            ],
            "type": "histogram2d"
           }
          ],
          "histogram2dcontour": [
           {
            "colorbar": {
             "outlinewidth": 0,
             "ticks": ""
            },
            "colorscale": [
             [
              0,
              "#0d0887"
             ],
             [
              0.1111111111111111,
              "#46039f"
             ],
             [
              0.2222222222222222,
              "#7201a8"
             ],
             [
              0.3333333333333333,
              "#9c179e"
             ],
             [
              0.4444444444444444,
              "#bd3786"
             ],
             [
              0.5555555555555556,
              "#d8576b"
             ],
             [
              0.6666666666666666,
              "#ed7953"
             ],
             [
              0.7777777777777778,
              "#fb9f3a"
             ],
             [
              0.8888888888888888,
              "#fdca26"
             ],
             [
              1,
              "#f0f921"
             ]
            ],
            "type": "histogram2dcontour"
           }
          ],
          "mesh3d": [
           {
            "colorbar": {
             "outlinewidth": 0,
             "ticks": ""
            },
            "type": "mesh3d"
           }
          ],
          "parcoords": [
           {
            "line": {
             "colorbar": {
              "outlinewidth": 0,
              "ticks": ""
             }
            },
            "type": "parcoords"
           }
          ],
          "pie": [
           {
            "automargin": true,
            "type": "pie"
           }
          ],
          "scatter": [
           {
            "fillpattern": {
             "fillmode": "overlay",
             "size": 10,
             "solidity": 0.2
            },
            "type": "scatter"
           }
          ],
          "scatter3d": [
           {
            "line": {
             "colorbar": {
              "outlinewidth": 0,
              "ticks": ""
             }
            },
            "marker": {
             "colorbar": {
              "outlinewidth": 0,
              "ticks": ""
             }
            },
            "type": "scatter3d"
           }
          ],
          "scattercarpet": [
           {
            "marker": {
             "colorbar": {
              "outlinewidth": 0,
              "ticks": ""
             }
            },
            "type": "scattercarpet"
           }
          ],
          "scattergeo": [
           {
            "marker": {
             "colorbar": {
              "outlinewidth": 0,
              "ticks": ""
             }
            },
            "type": "scattergeo"
           }
          ],
          "scattergl": [
           {
            "marker": {
             "colorbar": {
              "outlinewidth": 0,
              "ticks": ""
             }
            },
            "type": "scattergl"
           }
          ],
          "scattermapbox": [
           {
            "marker": {
             "colorbar": {
              "outlinewidth": 0,
              "ticks": ""
             }
            },
            "type": "scattermapbox"
           }
          ],
          "scatterpolar": [
           {
            "marker": {
             "colorbar": {
              "outlinewidth": 0,
              "ticks": ""
             }
            },
            "type": "scatterpolar"
           }
          ],
          "scatterpolargl": [
           {
            "marker": {
             "colorbar": {
              "outlinewidth": 0,
              "ticks": ""
             }
            },
            "type": "scatterpolargl"
           }
          ],
          "scatterternary": [
           {
            "marker": {
             "colorbar": {
              "outlinewidth": 0,
              "ticks": ""
             }
            },
            "type": "scatterternary"
           }
          ],
          "surface": [
           {
            "colorbar": {
             "outlinewidth": 0,
             "ticks": ""
            },
            "colorscale": [
             [
              0,
              "#0d0887"
             ],
             [
              0.1111111111111111,
              "#46039f"
             ],
             [
              0.2222222222222222,
              "#7201a8"
             ],
             [
              0.3333333333333333,
              "#9c179e"
             ],
             [
              0.4444444444444444,
              "#bd3786"
             ],
             [
              0.5555555555555556,
              "#d8576b"
             ],
             [
              0.6666666666666666,
              "#ed7953"
             ],
             [
              0.7777777777777778,
              "#fb9f3a"
             ],
             [
              0.8888888888888888,
              "#fdca26"
             ],
             [
              1,
              "#f0f921"
             ]
            ],
            "type": "surface"
           }
          ],
          "table": [
           {
            "cells": {
             "fill": {
              "color": "#EBF0F8"
             },
             "line": {
              "color": "white"
             }
            },
            "header": {
             "fill": {
              "color": "#C8D4E3"
             },
             "line": {
              "color": "white"
             }
            },
            "type": "table"
           }
          ]
         },
         "layout": {
          "annotationdefaults": {
           "arrowcolor": "#2a3f5f",
           "arrowhead": 0,
           "arrowwidth": 1
          },
          "autotypenumbers": "strict",
          "coloraxis": {
           "colorbar": {
            "outlinewidth": 0,
            "ticks": ""
           }
          },
          "colorscale": {
           "diverging": [
            [
             0,
             "#8e0152"
            ],
            [
             0.1,
             "#c51b7d"
            ],
            [
             0.2,
             "#de77ae"
            ],
            [
             0.3,
             "#f1b6da"
            ],
            [
             0.4,
             "#fde0ef"
            ],
            [
             0.5,
             "#f7f7f7"
            ],
            [
             0.6,
             "#e6f5d0"
            ],
            [
             0.7,
             "#b8e186"
            ],
            [
             0.8,
             "#7fbc41"
            ],
            [
             0.9,
             "#4d9221"
            ],
            [
             1,
             "#276419"
            ]
           ],
           "sequential": [
            [
             0,
             "#0d0887"
            ],
            [
             0.1111111111111111,
             "#46039f"
            ],
            [
             0.2222222222222222,
             "#7201a8"
            ],
            [
             0.3333333333333333,
             "#9c179e"
            ],
            [
             0.4444444444444444,
             "#bd3786"
            ],
            [
             0.5555555555555556,
             "#d8576b"
            ],
            [
             0.6666666666666666,
             "#ed7953"
            ],
            [
             0.7777777777777778,
             "#fb9f3a"
            ],
            [
             0.8888888888888888,
             "#fdca26"
            ],
            [
             1,
             "#f0f921"
            ]
           ],
           "sequentialminus": [
            [
             0,
             "#0d0887"
            ],
            [
             0.1111111111111111,
             "#46039f"
            ],
            [
             0.2222222222222222,
             "#7201a8"
            ],
            [
             0.3333333333333333,
             "#9c179e"
            ],
            [
             0.4444444444444444,
             "#bd3786"
            ],
            [
             0.5555555555555556,
             "#d8576b"
            ],
            [
             0.6666666666666666,
             "#ed7953"
            ],
            [
             0.7777777777777778,
             "#fb9f3a"
            ],
            [
             0.8888888888888888,
             "#fdca26"
            ],
            [
             1,
             "#f0f921"
            ]
           ]
          },
          "colorway": [
           "#636efa",
           "#EF553B",
           "#00cc96",
           "#ab63fa",
           "#FFA15A",
           "#19d3f3",
           "#FF6692",
           "#B6E880",
           "#FF97FF",
           "#FECB52"
          ],
          "font": {
           "color": "#2a3f5f"
          },
          "geo": {
           "bgcolor": "white",
           "lakecolor": "white",
           "landcolor": "#E5ECF6",
           "showlakes": true,
           "showland": true,
           "subunitcolor": "white"
          },
          "hoverlabel": {
           "align": "left"
          },
          "hovermode": "closest",
          "mapbox": {
           "style": "light"
          },
          "paper_bgcolor": "white",
          "plot_bgcolor": "#E5ECF6",
          "polar": {
           "angularaxis": {
            "gridcolor": "white",
            "linecolor": "white",
            "ticks": ""
           },
           "bgcolor": "#E5ECF6",
           "radialaxis": {
            "gridcolor": "white",
            "linecolor": "white",
            "ticks": ""
           }
          },
          "scene": {
           "xaxis": {
            "backgroundcolor": "#E5ECF6",
            "gridcolor": "white",
            "gridwidth": 2,
            "linecolor": "white",
            "showbackground": true,
            "ticks": "",
            "zerolinecolor": "white"
           },
           "yaxis": {
            "backgroundcolor": "#E5ECF6",
            "gridcolor": "white",
            "gridwidth": 2,
            "linecolor": "white",
            "showbackground": true,
            "ticks": "",
            "zerolinecolor": "white"
           },
           "zaxis": {
            "backgroundcolor": "#E5ECF6",
            "gridcolor": "white",
            "gridwidth": 2,
            "linecolor": "white",
            "showbackground": true,
            "ticks": "",
            "zerolinecolor": "white"
           }
          },
          "shapedefaults": {
           "line": {
            "color": "#2a3f5f"
           }
          },
          "ternary": {
           "aaxis": {
            "gridcolor": "white",
            "linecolor": "white",
            "ticks": ""
           },
           "baxis": {
            "gridcolor": "white",
            "linecolor": "white",
            "ticks": ""
           },
           "bgcolor": "#E5ECF6",
           "caxis": {
            "gridcolor": "white",
            "linecolor": "white",
            "ticks": ""
           }
          },
          "title": {
           "x": 0.05
          },
          "xaxis": {
           "automargin": true,
           "gridcolor": "white",
           "linecolor": "white",
           "ticks": "",
           "title": {
            "standoff": 15
           },
           "zerolinecolor": "white",
           "zerolinewidth": 2
          },
          "yaxis": {
           "automargin": true,
           "gridcolor": "white",
           "linecolor": "white",
           "ticks": "",
           "title": {
            "standoff": 15
           },
           "zerolinecolor": "white",
           "zerolinewidth": 2
          }
         }
        },
        "title": {
         "text": "Loss by eliminated features"
        },
        "updatemenus": [
         {
          "active": 0,
          "buttons": [
           {
            "args": [
             {
              "visible": [
               true,
               true,
               false,
               false
              ]
             }
            ],
            "label": "Hide features",
            "method": "update"
           },
           {
            "args": [
             {
              "visible": [
               true,
               true,
               true,
               false
              ]
             }
            ],
            "label": "Show indices",
            "method": "update"
           },
           {
            "args": [
             {
              "visible": [
               true,
               true,
               false,
               true
              ]
             }
            ],
            "label": "Show names",
            "method": "update"
           }
          ],
          "pad": {
           "r": 10,
           "t": 10
          },
          "showactive": true,
          "x": -0.25,
          "xanchor": "left",
          "y": 1.03,
          "yanchor": "top"
         }
        ],
        "xaxis": {
         "gridcolor": "rgb(255,255,255)",
         "showgrid": true,
         "showline": false,
         "showticklabels": true,
         "tickcolor": "rgb(127,127,127)",
         "ticks": "outside",
         "title": {
          "text": "number of removed features"
         },
         "zeroline": false
        },
        "yaxis": {
         "gridcolor": "rgb(255,255,255)",
         "showgrid": true,
         "showline": false,
         "showticklabels": true,
         "tickcolor": "rgb(127,127,127)",
         "tickfont": {
          "color": "rgb(51,160,44)"
         },
         "ticks": "outside",
         "title": {
          "font": {
           "color": "rgb(51,160,44)"
          },
          "text": "loss value"
         },
         "zeroline": false
        }
       }
      },
      "text/html": [
       "<div>                            <div id=\"5c07c0c4-1248-41a0-bc30-4c8ef28857bf\" class=\"plotly-graph-div\" style=\"height:525px; width:100%;\"></div>            <script type=\"text/javascript\">                require([\"plotly\"], function(Plotly) {                    window.PLOTLYENV=window.PLOTLYENV || {};                                    if (document.getElementById(\"5c07c0c4-1248-41a0-bc30-4c8ef28857bf\")) {                    Plotly.newPlot(                        \"5c07c0c4-1248-41a0-bc30-4c8ef28857bf\",                        [{\"line\":{\"color\":\"rgb(51,160,44)\"},\"mode\":\"lines+markers\",\"name\":\"\",\"text\":[\"\",\"breed_pure\",\"sex\",\"color\",\"intake_type\"],\"x\":[0,1,2,3,4],\"y\":[0.28015926695739035,0.27299839153352284,0.2727346169702356,0.2571899079395993,0.250307832932911],\"type\":\"scatter\"},{\"marker\":{\"size\":10,\"symbol\":\"square\"},\"mode\":\"markers\",\"name\":\"\",\"text\":[\"\",\"breed_pure\",\"sex\",\"color\",\"intake_type\"],\"x\":[0,1,2,3,4],\"y\":[0.28015926695739035,0.27299839153352284,0.2727346169702356,0.2571899079395993,0.250307832932911],\"type\":\"scatter\"},{\"mode\":\"text\",\"name\":\"\",\"text\":[\"\",\"2\",\"0\",\"3\",\"8\"],\"textfont\":{\"color\":\"rgb(51,160,44)\",\"family\":\"sans serif\",\"size\":18},\"textposition\":\"bottom center\",\"visible\":false,\"x\":[0,1,2,3,4],\"y\":[0.28015926695739035,0.27299839153352284,0.2727346169702356,0.2571899079395993,0.250307832932911],\"type\":\"scatter\"},{\"mode\":\"text\",\"name\":\"\",\"text\":[\"\",\"breed_pure\",\"sex\",\"color\",\"intake_type\"],\"textfont\":{\"color\":\"rgb(51,160,44)\",\"family\":\"sans serif\",\"size\":18},\"textposition\":\"bottom center\",\"visible\":false,\"x\":[0,1,2,3,4],\"y\":[0.28015926695739035,0.27299839153352284,0.2727346169702356,0.2571899079395993,0.250307832932911],\"type\":\"scatter\"}],                        {\"template\":{\"data\":{\"histogram2dcontour\":[{\"type\":\"histogram2dcontour\",\"colorbar\":{\"outlinewidth\":0,\"ticks\":\"\"},\"colorscale\":[[0.0,\"#0d0887\"],[0.1111111111111111,\"#46039f\"],[0.2222222222222222,\"#7201a8\"],[0.3333333333333333,\"#9c179e\"],[0.4444444444444444,\"#bd3786\"],[0.5555555555555556,\"#d8576b\"],[0.6666666666666666,\"#ed7953\"],[0.7777777777777778,\"#fb9f3a\"],[0.8888888888888888,\"#fdca26\"],[1.0,\"#f0f921\"]]}],\"choropleth\":[{\"type\":\"choropleth\",\"colorbar\":{\"outlinewidth\":0,\"ticks\":\"\"}}],\"histogram2d\":[{\"type\":\"histogram2d\",\"colorbar\":{\"outlinewidth\":0,\"ticks\":\"\"},\"colorscale\":[[0.0,\"#0d0887\"],[0.1111111111111111,\"#46039f\"],[0.2222222222222222,\"#7201a8\"],[0.3333333333333333,\"#9c179e\"],[0.4444444444444444,\"#bd3786\"],[0.5555555555555556,\"#d8576b\"],[0.6666666666666666,\"#ed7953\"],[0.7777777777777778,\"#fb9f3a\"],[0.8888888888888888,\"#fdca26\"],[1.0,\"#f0f921\"]]}],\"heatmap\":[{\"type\":\"heatmap\",\"colorbar\":{\"outlinewidth\":0,\"ticks\":\"\"},\"colorscale\":[[0.0,\"#0d0887\"],[0.1111111111111111,\"#46039f\"],[0.2222222222222222,\"#7201a8\"],[0.3333333333333333,\"#9c179e\"],[0.4444444444444444,\"#bd3786\"],[0.5555555555555556,\"#d8576b\"],[0.6666666666666666,\"#ed7953\"],[0.7777777777777778,\"#fb9f3a\"],[0.8888888888888888,\"#fdca26\"],[1.0,\"#f0f921\"]]}],\"heatmapgl\":[{\"type\":\"heatmapgl\",\"colorbar\":{\"outlinewidth\":0,\"ticks\":\"\"},\"colorscale\":[[0.0,\"#0d0887\"],[0.1111111111111111,\"#46039f\"],[0.2222222222222222,\"#7201a8\"],[0.3333333333333333,\"#9c179e\"],[0.4444444444444444,\"#bd3786\"],[0.5555555555555556,\"#d8576b\"],[0.6666666666666666,\"#ed7953\"],[0.7777777777777778,\"#fb9f3a\"],[0.8888888888888888,\"#fdca26\"],[1.0,\"#f0f921\"]]}],\"contourcarpet\":[{\"type\":\"contourcarpet\",\"colorbar\":{\"outlinewidth\":0,\"ticks\":\"\"}}],\"contour\":[{\"type\":\"contour\",\"colorbar\":{\"outlinewidth\":0,\"ticks\":\"\"},\"colorscale\":[[0.0,\"#0d0887\"],[0.1111111111111111,\"#46039f\"],[0.2222222222222222,\"#7201a8\"],[0.3333333333333333,\"#9c179e\"],[0.4444444444444444,\"#bd3786\"],[0.5555555555555556,\"#d8576b\"],[0.6666666666666666,\"#ed7953\"],[0.7777777777777778,\"#fb9f3a\"],[0.8888888888888888,\"#fdca26\"],[1.0,\"#f0f921\"]]}],\"surface\":[{\"type\":\"surface\",\"colorbar\":{\"outlinewidth\":0,\"ticks\":\"\"},\"colorscale\":[[0.0,\"#0d0887\"],[0.1111111111111111,\"#46039f\"],[0.2222222222222222,\"#7201a8\"],[0.3333333333333333,\"#9c179e\"],[0.4444444444444444,\"#bd3786\"],[0.5555555555555556,\"#d8576b\"],[0.6666666666666666,\"#ed7953\"],[0.7777777777777778,\"#fb9f3a\"],[0.8888888888888888,\"#fdca26\"],[1.0,\"#f0f921\"]]}],\"mesh3d\":[{\"type\":\"mesh3d\",\"colorbar\":{\"outlinewidth\":0,\"ticks\":\"\"}}],\"scatter\":[{\"fillpattern\":{\"fillmode\":\"overlay\",\"size\":10,\"solidity\":0.2},\"type\":\"scatter\"}],\"parcoords\":[{\"type\":\"parcoords\",\"line\":{\"colorbar\":{\"outlinewidth\":0,\"ticks\":\"\"}}}],\"scatterpolargl\":[{\"type\":\"scatterpolargl\",\"marker\":{\"colorbar\":{\"outlinewidth\":0,\"ticks\":\"\"}}}],\"bar\":[{\"error_x\":{\"color\":\"#2a3f5f\"},\"error_y\":{\"color\":\"#2a3f5f\"},\"marker\":{\"line\":{\"color\":\"#E5ECF6\",\"width\":0.5},\"pattern\":{\"fillmode\":\"overlay\",\"size\":10,\"solidity\":0.2}},\"type\":\"bar\"}],\"scattergeo\":[{\"type\":\"scattergeo\",\"marker\":{\"colorbar\":{\"outlinewidth\":0,\"ticks\":\"\"}}}],\"scatterpolar\":[{\"type\":\"scatterpolar\",\"marker\":{\"colorbar\":{\"outlinewidth\":0,\"ticks\":\"\"}}}],\"histogram\":[{\"marker\":{\"pattern\":{\"fillmode\":\"overlay\",\"size\":10,\"solidity\":0.2}},\"type\":\"histogram\"}],\"scattergl\":[{\"type\":\"scattergl\",\"marker\":{\"colorbar\":{\"outlinewidth\":0,\"ticks\":\"\"}}}],\"scatter3d\":[{\"type\":\"scatter3d\",\"line\":{\"colorbar\":{\"outlinewidth\":0,\"ticks\":\"\"}},\"marker\":{\"colorbar\":{\"outlinewidth\":0,\"ticks\":\"\"}}}],\"scattermapbox\":[{\"type\":\"scattermapbox\",\"marker\":{\"colorbar\":{\"outlinewidth\":0,\"ticks\":\"\"}}}],\"scatterternary\":[{\"type\":\"scatterternary\",\"marker\":{\"colorbar\":{\"outlinewidth\":0,\"ticks\":\"\"}}}],\"scattercarpet\":[{\"type\":\"scattercarpet\",\"marker\":{\"colorbar\":{\"outlinewidth\":0,\"ticks\":\"\"}}}],\"carpet\":[{\"aaxis\":{\"endlinecolor\":\"#2a3f5f\",\"gridcolor\":\"white\",\"linecolor\":\"white\",\"minorgridcolor\":\"white\",\"startlinecolor\":\"#2a3f5f\"},\"baxis\":{\"endlinecolor\":\"#2a3f5f\",\"gridcolor\":\"white\",\"linecolor\":\"white\",\"minorgridcolor\":\"white\",\"startlinecolor\":\"#2a3f5f\"},\"type\":\"carpet\"}],\"table\":[{\"cells\":{\"fill\":{\"color\":\"#EBF0F8\"},\"line\":{\"color\":\"white\"}},\"header\":{\"fill\":{\"color\":\"#C8D4E3\"},\"line\":{\"color\":\"white\"}},\"type\":\"table\"}],\"barpolar\":[{\"marker\":{\"line\":{\"color\":\"#E5ECF6\",\"width\":0.5},\"pattern\":{\"fillmode\":\"overlay\",\"size\":10,\"solidity\":0.2}},\"type\":\"barpolar\"}],\"pie\":[{\"automargin\":true,\"type\":\"pie\"}]},\"layout\":{\"autotypenumbers\":\"strict\",\"colorway\":[\"#636efa\",\"#EF553B\",\"#00cc96\",\"#ab63fa\",\"#FFA15A\",\"#19d3f3\",\"#FF6692\",\"#B6E880\",\"#FF97FF\",\"#FECB52\"],\"font\":{\"color\":\"#2a3f5f\"},\"hovermode\":\"closest\",\"hoverlabel\":{\"align\":\"left\"},\"paper_bgcolor\":\"white\",\"plot_bgcolor\":\"#E5ECF6\",\"polar\":{\"bgcolor\":\"#E5ECF6\",\"angularaxis\":{\"gridcolor\":\"white\",\"linecolor\":\"white\",\"ticks\":\"\"},\"radialaxis\":{\"gridcolor\":\"white\",\"linecolor\":\"white\",\"ticks\":\"\"}},\"ternary\":{\"bgcolor\":\"#E5ECF6\",\"aaxis\":{\"gridcolor\":\"white\",\"linecolor\":\"white\",\"ticks\":\"\"},\"baxis\":{\"gridcolor\":\"white\",\"linecolor\":\"white\",\"ticks\":\"\"},\"caxis\":{\"gridcolor\":\"white\",\"linecolor\":\"white\",\"ticks\":\"\"}},\"coloraxis\":{\"colorbar\":{\"outlinewidth\":0,\"ticks\":\"\"}},\"colorscale\":{\"sequential\":[[0.0,\"#0d0887\"],[0.1111111111111111,\"#46039f\"],[0.2222222222222222,\"#7201a8\"],[0.3333333333333333,\"#9c179e\"],[0.4444444444444444,\"#bd3786\"],[0.5555555555555556,\"#d8576b\"],[0.6666666666666666,\"#ed7953\"],[0.7777777777777778,\"#fb9f3a\"],[0.8888888888888888,\"#fdca26\"],[1.0,\"#f0f921\"]],\"sequentialminus\":[[0.0,\"#0d0887\"],[0.1111111111111111,\"#46039f\"],[0.2222222222222222,\"#7201a8\"],[0.3333333333333333,\"#9c179e\"],[0.4444444444444444,\"#bd3786\"],[0.5555555555555556,\"#d8576b\"],[0.6666666666666666,\"#ed7953\"],[0.7777777777777778,\"#fb9f3a\"],[0.8888888888888888,\"#fdca26\"],[1.0,\"#f0f921\"]],\"diverging\":[[0,\"#8e0152\"],[0.1,\"#c51b7d\"],[0.2,\"#de77ae\"],[0.3,\"#f1b6da\"],[0.4,\"#fde0ef\"],[0.5,\"#f7f7f7\"],[0.6,\"#e6f5d0\"],[0.7,\"#b8e186\"],[0.8,\"#7fbc41\"],[0.9,\"#4d9221\"],[1,\"#276419\"]]},\"xaxis\":{\"gridcolor\":\"white\",\"linecolor\":\"white\",\"ticks\":\"\",\"title\":{\"standoff\":15},\"zerolinecolor\":\"white\",\"automargin\":true,\"zerolinewidth\":2},\"yaxis\":{\"gridcolor\":\"white\",\"linecolor\":\"white\",\"ticks\":\"\",\"title\":{\"standoff\":15},\"zerolinecolor\":\"white\",\"automargin\":true,\"zerolinewidth\":2},\"scene\":{\"xaxis\":{\"backgroundcolor\":\"#E5ECF6\",\"gridcolor\":\"white\",\"linecolor\":\"white\",\"showbackground\":true,\"ticks\":\"\",\"zerolinecolor\":\"white\",\"gridwidth\":2},\"yaxis\":{\"backgroundcolor\":\"#E5ECF6\",\"gridcolor\":\"white\",\"linecolor\":\"white\",\"showbackground\":true,\"ticks\":\"\",\"zerolinecolor\":\"white\",\"gridwidth\":2},\"zaxis\":{\"backgroundcolor\":\"#E5ECF6\",\"gridcolor\":\"white\",\"linecolor\":\"white\",\"showbackground\":true,\"ticks\":\"\",\"zerolinecolor\":\"white\",\"gridwidth\":2}},\"shapedefaults\":{\"line\":{\"color\":\"#2a3f5f\"}},\"annotationdefaults\":{\"arrowcolor\":\"#2a3f5f\",\"arrowhead\":0,\"arrowwidth\":1},\"geo\":{\"bgcolor\":\"white\",\"landcolor\":\"#E5ECF6\",\"subunitcolor\":\"white\",\"showland\":true,\"showlakes\":true,\"lakecolor\":\"white\"},\"title\":{\"x\":0.05},\"mapbox\":{\"style\":\"light\"}}},\"title\":{\"text\":\"Loss by eliminated features\"},\"xaxis\":{\"title\":{\"text\":\"number of removed features\"},\"gridcolor\":\"rgb(255,255,255)\",\"showgrid\":true,\"showline\":false,\"showticklabels\":true,\"tickcolor\":\"rgb(127,127,127)\",\"ticks\":\"outside\",\"zeroline\":false},\"yaxis\":{\"title\":{\"text\":\"loss value\",\"font\":{\"color\":\"rgb(51,160,44)\"}},\"tickfont\":{\"color\":\"rgb(51,160,44)\"},\"gridcolor\":\"rgb(255,255,255)\",\"showgrid\":true,\"showline\":false,\"showticklabels\":true,\"tickcolor\":\"rgb(127,127,127)\",\"ticks\":\"outside\",\"zeroline\":false},\"updatemenus\":[{\"active\":0,\"buttons\":[{\"args\":[{\"visible\":[true,true,false,false]}],\"label\":\"Hide features\",\"method\":\"update\"},{\"args\":[{\"visible\":[true,true,true,false]}],\"label\":\"Show indices\",\"method\":\"update\"},{\"args\":[{\"visible\":[true,true,false,true]}],\"label\":\"Show names\",\"method\":\"update\"}],\"pad\":{\"r\":10,\"t\":10},\"showactive\":true,\"x\":-0.25,\"xanchor\":\"left\",\"y\":1.03,\"yanchor\":\"top\"}],\"showlegend\":false},                        {\"responsive\": true}                    ).then(function(){\n",
       "                            \n",
       "var gd = document.getElementById('5c07c0c4-1248-41a0-bc30-4c8ef28857bf');\n",
       "var x = new MutationObserver(function (mutations, observer) {{\n",
       "        var display = window.getComputedStyle(gd).display;\n",
       "        if (!display || display === 'none') {{\n",
       "            console.log([gd, 'removed!']);\n",
       "            Plotly.purge(gd);\n",
       "            observer.disconnect();\n",
       "        }}\n",
       "}});\n",
       "\n",
       "// Listen for the removal of the full notebook cells\n",
       "var notebookContainer = gd.closest('#notebook-container');\n",
       "if (notebookContainer) {{\n",
       "    x.observe(notebookContainer, {childList: true});\n",
       "}}\n",
       "\n",
       "// Listen for the clearing of the current output cell\n",
       "var outputEl = gd.closest('.output');\n",
       "if (outputEl) {{\n",
       "    x.observe(outputEl, {childList: true});\n",
       "}}\n",
       "\n",
       "                        })                };                });            </script>        </div>"
      ]
     },
     "metadata": {},
     "output_type": "display_data"
    },
    {
     "name": "stdout",
     "output_type": "stream",
     "text": [
      "Selected features: ['size', 'days_in_shelter', 'outcome_season', 'intake_age', 'intake_condition']\n"
     ]
    }
   ],
   "source": [
    "mod_feature_list = [ 'sex', 'size', 'breed_pure', 'color',\n",
    "                'days_in_shelter', 'outcome_season',\n",
    "                'intake_age','intake_condition','intake_type']\n",
    "\n",
    "X_train, X_hold, y_train, y_hold = train_test_split(dog_df[mod_feature_list],\n",
    "                                      dog_df.outcome_adopt,\n",
    "                                      shuffle=True,\n",
    "                                      stratify=dog_df.outcome_adopt,\n",
    "                                      test_size=0.2,\n",
    "                                      random_state=1342)\n",
    "\n",
    "X_t = X_train.astype(str)\n",
    "X_h = X_hold.astype(str)\n",
    "\n",
    "train_pool = Pool(X_t, y_train, cat_features=mod_feature_list, feature_names=mod_feature_list)\n",
    "test_pool  = Pool(X_h, y_hold, cat_features=mod_feature_list, feature_names=mod_feature_list)\n",
    "\n",
    "synthetic_shap_summary = select_features_syntetic_CLSF(algorithm=EFeaturesSelectionAlgorithm.RecursiveByShapValues, steps=4)\n"
   ]
  },
  {
   "cell_type": "code",
   "execution_count": 82,
   "metadata": {},
   "outputs": [
    {
     "name": "stdout",
     "output_type": "stream",
     "text": [
      "Algorithm: EFeaturesSelectionAlgorithm.RecursiveByShapValues\n"
     ]
    },
    {
     "data": {
      "application/vnd.jupyter.widget-view+json": {
       "model_id": "a6f2d8b555a7424690f903c5e92e9394",
       "version_major": 2,
       "version_minor": 0
      },
      "text/plain": [
       "MetricVisualizer(layout=Layout(align_self='stretch', height='500px'))"
      ]
     },
     "metadata": {},
     "output_type": "display_data"
    },
    {
     "data": {
      "application/vnd.plotly.v1+json": {
       "config": {
        "plotlyServerURL": "https://plotly.com"
       },
       "data": [
        {
         "line": {
          "color": "rgb(51,160,44)"
         },
         "mode": "lines+markers",
         "name": "",
         "text": [
          "",
          "sex",
          "breed_pure",
          "color",
          "outcome_season"
         ],
         "type": "scatter",
         "x": [
          0,
          1,
          2,
          3,
          4
         ],
         "y": [
          0.29618229250270106,
          0.29436772046020976,
          0.30250976834986454,
          0.29828186001148616,
          0.29383938533867476
         ]
        },
        {
         "marker": {
          "size": 10,
          "symbol": "square"
         },
         "mode": "markers",
         "name": "",
         "text": [
          "",
          "sex",
          "breed_pure",
          "color",
          "outcome_season"
         ],
         "type": "scatter",
         "x": [
          0,
          1,
          2,
          3,
          4
         ],
         "y": [
          0.29618229250270106,
          0.29436772046020976,
          0.30250976834986454,
          0.29828186001148616,
          0.29383938533867476
         ]
        },
        {
         "mode": "text",
         "name": "",
         "text": [
          "",
          "0",
          "2",
          "3",
          "5"
         ],
         "textfont": {
          "color": "rgb(51,160,44)",
          "family": "sans serif",
          "size": 18
         },
         "textposition": "bottom center",
         "type": "scatter",
         "visible": false,
         "x": [
          0,
          1,
          2,
          3,
          4
         ],
         "y": [
          0.29618229250270106,
          0.29436772046020976,
          0.30250976834986454,
          0.29828186001148616,
          0.29383938533867476
         ]
        },
        {
         "mode": "text",
         "name": "",
         "text": [
          "",
          "sex",
          "breed_pure",
          "color",
          "outcome_season"
         ],
         "textfont": {
          "color": "rgb(51,160,44)",
          "family": "sans serif",
          "size": 18
         },
         "textposition": "bottom center",
         "type": "scatter",
         "visible": false,
         "x": [
          0,
          1,
          2,
          3,
          4
         ],
         "y": [
          0.29618229250270106,
          0.29436772046020976,
          0.30250976834986454,
          0.29828186001148616,
          0.29383938533867476
         ]
        }
       ],
       "layout": {
        "showlegend": false,
        "template": {
         "data": {
          "bar": [
           {
            "error_x": {
             "color": "#2a3f5f"
            },
            "error_y": {
             "color": "#2a3f5f"
            },
            "marker": {
             "line": {
              "color": "#E5ECF6",
              "width": 0.5
             },
             "pattern": {
              "fillmode": "overlay",
              "size": 10,
              "solidity": 0.2
             }
            },
            "type": "bar"
           }
          ],
          "barpolar": [
           {
            "marker": {
             "line": {
              "color": "#E5ECF6",
              "width": 0.5
             },
             "pattern": {
              "fillmode": "overlay",
              "size": 10,
              "solidity": 0.2
             }
            },
            "type": "barpolar"
           }
          ],
          "carpet": [
           {
            "aaxis": {
             "endlinecolor": "#2a3f5f",
             "gridcolor": "white",
             "linecolor": "white",
             "minorgridcolor": "white",
             "startlinecolor": "#2a3f5f"
            },
            "baxis": {
             "endlinecolor": "#2a3f5f",
             "gridcolor": "white",
             "linecolor": "white",
             "minorgridcolor": "white",
             "startlinecolor": "#2a3f5f"
            },
            "type": "carpet"
           }
          ],
          "choropleth": [
           {
            "colorbar": {
             "outlinewidth": 0,
             "ticks": ""
            },
            "type": "choropleth"
           }
          ],
          "contour": [
           {
            "colorbar": {
             "outlinewidth": 0,
             "ticks": ""
            },
            "colorscale": [
             [
              0,
              "#0d0887"
             ],
             [
              0.1111111111111111,
              "#46039f"
             ],
             [
              0.2222222222222222,
              "#7201a8"
             ],
             [
              0.3333333333333333,
              "#9c179e"
             ],
             [
              0.4444444444444444,
              "#bd3786"
             ],
             [
              0.5555555555555556,
              "#d8576b"
             ],
             [
              0.6666666666666666,
              "#ed7953"
             ],
             [
              0.7777777777777778,
              "#fb9f3a"
             ],
             [
              0.8888888888888888,
              "#fdca26"
             ],
             [
              1,
              "#f0f921"
             ]
            ],
            "type": "contour"
           }
          ],
          "contourcarpet": [
           {
            "colorbar": {
             "outlinewidth": 0,
             "ticks": ""
            },
            "type": "contourcarpet"
           }
          ],
          "heatmap": [
           {
            "colorbar": {
             "outlinewidth": 0,
             "ticks": ""
            },
            "colorscale": [
             [
              0,
              "#0d0887"
             ],
             [
              0.1111111111111111,
              "#46039f"
             ],
             [
              0.2222222222222222,
              "#7201a8"
             ],
             [
              0.3333333333333333,
              "#9c179e"
             ],
             [
              0.4444444444444444,
              "#bd3786"
             ],
             [
              0.5555555555555556,
              "#d8576b"
             ],
             [
              0.6666666666666666,
              "#ed7953"
             ],
             [
              0.7777777777777778,
              "#fb9f3a"
             ],
             [
              0.8888888888888888,
              "#fdca26"
             ],
             [
              1,
              "#f0f921"
             ]
            ],
            "type": "heatmap"
           }
          ],
          "heatmapgl": [
           {
            "colorbar": {
             "outlinewidth": 0,
             "ticks": ""
            },
            "colorscale": [
             [
              0,
              "#0d0887"
             ],
             [
              0.1111111111111111,
              "#46039f"
             ],
             [
              0.2222222222222222,
              "#7201a8"
             ],
             [
              0.3333333333333333,
              "#9c179e"
             ],
             [
              0.4444444444444444,
              "#bd3786"
             ],
             [
              0.5555555555555556,
              "#d8576b"
             ],
             [
              0.6666666666666666,
              "#ed7953"
             ],
             [
              0.7777777777777778,
              "#fb9f3a"
             ],
             [
              0.8888888888888888,
              "#fdca26"
             ],
             [
              1,
              "#f0f921"
             ]
            ],
            "type": "heatmapgl"
           }
          ],
          "histogram": [
           {
            "marker": {
             "pattern": {
              "fillmode": "overlay",
              "size": 10,
              "solidity": 0.2
             }
            },
            "type": "histogram"
           }
          ],
          "histogram2d": [
           {
            "colorbar": {
             "outlinewidth": 0,
             "ticks": ""
            },
            "colorscale": [
             [
              0,
              "#0d0887"
             ],
             [
              0.1111111111111111,
              "#46039f"
             ],
             [
              0.2222222222222222,
              "#7201a8"
             ],
             [
              0.3333333333333333,
              "#9c179e"
             ],
             [
              0.4444444444444444,
              "#bd3786"
             ],
             [
              0.5555555555555556,
              "#d8576b"
             ],
             [
              0.6666666666666666,
              "#ed7953"
             ],
             [
              0.7777777777777778,
              "#fb9f3a"
             ],
             [
              0.8888888888888888,
              "#fdca26"
             ],
             [
              1,
              "#f0f921"
             ]
            ],
            "type": "histogram2d"
           }
          ],
          "histogram2dcontour": [
           {
            "colorbar": {
             "outlinewidth": 0,
             "ticks": ""
            },
            "colorscale": [
             [
              0,
              "#0d0887"
             ],
             [
              0.1111111111111111,
              "#46039f"
             ],
             [
              0.2222222222222222,
              "#7201a8"
             ],
             [
              0.3333333333333333,
              "#9c179e"
             ],
             [
              0.4444444444444444,
              "#bd3786"
             ],
             [
              0.5555555555555556,
              "#d8576b"
             ],
             [
              0.6666666666666666,
              "#ed7953"
             ],
             [
              0.7777777777777778,
              "#fb9f3a"
             ],
             [
              0.8888888888888888,
              "#fdca26"
             ],
             [
              1,
              "#f0f921"
             ]
            ],
            "type": "histogram2dcontour"
           }
          ],
          "mesh3d": [
           {
            "colorbar": {
             "outlinewidth": 0,
             "ticks": ""
            },
            "type": "mesh3d"
           }
          ],
          "parcoords": [
           {
            "line": {
             "colorbar": {
              "outlinewidth": 0,
              "ticks": ""
             }
            },
            "type": "parcoords"
           }
          ],
          "pie": [
           {
            "automargin": true,
            "type": "pie"
           }
          ],
          "scatter": [
           {
            "fillpattern": {
             "fillmode": "overlay",
             "size": 10,
             "solidity": 0.2
            },
            "type": "scatter"
           }
          ],
          "scatter3d": [
           {
            "line": {
             "colorbar": {
              "outlinewidth": 0,
              "ticks": ""
             }
            },
            "marker": {
             "colorbar": {
              "outlinewidth": 0,
              "ticks": ""
             }
            },
            "type": "scatter3d"
           }
          ],
          "scattercarpet": [
           {
            "marker": {
             "colorbar": {
              "outlinewidth": 0,
              "ticks": ""
             }
            },
            "type": "scattercarpet"
           }
          ],
          "scattergeo": [
           {
            "marker": {
             "colorbar": {
              "outlinewidth": 0,
              "ticks": ""
             }
            },
            "type": "scattergeo"
           }
          ],
          "scattergl": [
           {
            "marker": {
             "colorbar": {
              "outlinewidth": 0,
              "ticks": ""
             }
            },
            "type": "scattergl"
           }
          ],
          "scattermapbox": [
           {
            "marker": {
             "colorbar": {
              "outlinewidth": 0,
              "ticks": ""
             }
            },
            "type": "scattermapbox"
           }
          ],
          "scatterpolar": [
           {
            "marker": {
             "colorbar": {
              "outlinewidth": 0,
              "ticks": ""
             }
            },
            "type": "scatterpolar"
           }
          ],
          "scatterpolargl": [
           {
            "marker": {
             "colorbar": {
              "outlinewidth": 0,
              "ticks": ""
             }
            },
            "type": "scatterpolargl"
           }
          ],
          "scatterternary": [
           {
            "marker": {
             "colorbar": {
              "outlinewidth": 0,
              "ticks": ""
             }
            },
            "type": "scatterternary"
           }
          ],
          "surface": [
           {
            "colorbar": {
             "outlinewidth": 0,
             "ticks": ""
            },
            "colorscale": [
             [
              0,
              "#0d0887"
             ],
             [
              0.1111111111111111,
              "#46039f"
             ],
             [
              0.2222222222222222,
              "#7201a8"
             ],
             [
              0.3333333333333333,
              "#9c179e"
             ],
             [
              0.4444444444444444,
              "#bd3786"
             ],
             [
              0.5555555555555556,
              "#d8576b"
             ],
             [
              0.6666666666666666,
              "#ed7953"
             ],
             [
              0.7777777777777778,
              "#fb9f3a"
             ],
             [
              0.8888888888888888,
              "#fdca26"
             ],
             [
              1,
              "#f0f921"
             ]
            ],
            "type": "surface"
           }
          ],
          "table": [
           {
            "cells": {
             "fill": {
              "color": "#EBF0F8"
             },
             "line": {
              "color": "white"
             }
            },
            "header": {
             "fill": {
              "color": "#C8D4E3"
             },
             "line": {
              "color": "white"
             }
            },
            "type": "table"
           }
          ]
         },
         "layout": {
          "annotationdefaults": {
           "arrowcolor": "#2a3f5f",
           "arrowhead": 0,
           "arrowwidth": 1
          },
          "autotypenumbers": "strict",
          "coloraxis": {
           "colorbar": {
            "outlinewidth": 0,
            "ticks": ""
           }
          },
          "colorscale": {
           "diverging": [
            [
             0,
             "#8e0152"
            ],
            [
             0.1,
             "#c51b7d"
            ],
            [
             0.2,
             "#de77ae"
            ],
            [
             0.3,
             "#f1b6da"
            ],
            [
             0.4,
             "#fde0ef"
            ],
            [
             0.5,
             "#f7f7f7"
            ],
            [
             0.6,
             "#e6f5d0"
            ],
            [
             0.7,
             "#b8e186"
            ],
            [
             0.8,
             "#7fbc41"
            ],
            [
             0.9,
             "#4d9221"
            ],
            [
             1,
             "#276419"
            ]
           ],
           "sequential": [
            [
             0,
             "#0d0887"
            ],
            [
             0.1111111111111111,
             "#46039f"
            ],
            [
             0.2222222222222222,
             "#7201a8"
            ],
            [
             0.3333333333333333,
             "#9c179e"
            ],
            [
             0.4444444444444444,
             "#bd3786"
            ],
            [
             0.5555555555555556,
             "#d8576b"
            ],
            [
             0.6666666666666666,
             "#ed7953"
            ],
            [
             0.7777777777777778,
             "#fb9f3a"
            ],
            [
             0.8888888888888888,
             "#fdca26"
            ],
            [
             1,
             "#f0f921"
            ]
           ],
           "sequentialminus": [
            [
             0,
             "#0d0887"
            ],
            [
             0.1111111111111111,
             "#46039f"
            ],
            [
             0.2222222222222222,
             "#7201a8"
            ],
            [
             0.3333333333333333,
             "#9c179e"
            ],
            [
             0.4444444444444444,
             "#bd3786"
            ],
            [
             0.5555555555555556,
             "#d8576b"
            ],
            [
             0.6666666666666666,
             "#ed7953"
            ],
            [
             0.7777777777777778,
             "#fb9f3a"
            ],
            [
             0.8888888888888888,
             "#fdca26"
            ],
            [
             1,
             "#f0f921"
            ]
           ]
          },
          "colorway": [
           "#636efa",
           "#EF553B",
           "#00cc96",
           "#ab63fa",
           "#FFA15A",
           "#19d3f3",
           "#FF6692",
           "#B6E880",
           "#FF97FF",
           "#FECB52"
          ],
          "font": {
           "color": "#2a3f5f"
          },
          "geo": {
           "bgcolor": "white",
           "lakecolor": "white",
           "landcolor": "#E5ECF6",
           "showlakes": true,
           "showland": true,
           "subunitcolor": "white"
          },
          "hoverlabel": {
           "align": "left"
          },
          "hovermode": "closest",
          "mapbox": {
           "style": "light"
          },
          "paper_bgcolor": "white",
          "plot_bgcolor": "#E5ECF6",
          "polar": {
           "angularaxis": {
            "gridcolor": "white",
            "linecolor": "white",
            "ticks": ""
           },
           "bgcolor": "#E5ECF6",
           "radialaxis": {
            "gridcolor": "white",
            "linecolor": "white",
            "ticks": ""
           }
          },
          "scene": {
           "xaxis": {
            "backgroundcolor": "#E5ECF6",
            "gridcolor": "white",
            "gridwidth": 2,
            "linecolor": "white",
            "showbackground": true,
            "ticks": "",
            "zerolinecolor": "white"
           },
           "yaxis": {
            "backgroundcolor": "#E5ECF6",
            "gridcolor": "white",
            "gridwidth": 2,
            "linecolor": "white",
            "showbackground": true,
            "ticks": "",
            "zerolinecolor": "white"
           },
           "zaxis": {
            "backgroundcolor": "#E5ECF6",
            "gridcolor": "white",
            "gridwidth": 2,
            "linecolor": "white",
            "showbackground": true,
            "ticks": "",
            "zerolinecolor": "white"
           }
          },
          "shapedefaults": {
           "line": {
            "color": "#2a3f5f"
           }
          },
          "ternary": {
           "aaxis": {
            "gridcolor": "white",
            "linecolor": "white",
            "ticks": ""
           },
           "baxis": {
            "gridcolor": "white",
            "linecolor": "white",
            "ticks": ""
           },
           "bgcolor": "#E5ECF6",
           "caxis": {
            "gridcolor": "white",
            "linecolor": "white",
            "ticks": ""
           }
          },
          "title": {
           "x": 0.05
          },
          "xaxis": {
           "automargin": true,
           "gridcolor": "white",
           "linecolor": "white",
           "ticks": "",
           "title": {
            "standoff": 15
           },
           "zerolinecolor": "white",
           "zerolinewidth": 2
          },
          "yaxis": {
           "automargin": true,
           "gridcolor": "white",
           "linecolor": "white",
           "ticks": "",
           "title": {
            "standoff": 15
           },
           "zerolinecolor": "white",
           "zerolinewidth": 2
          }
         }
        },
        "title": {
         "text": "Loss by eliminated features"
        },
        "updatemenus": [
         {
          "active": 0,
          "buttons": [
           {
            "args": [
             {
              "visible": [
               true,
               true,
               false,
               false
              ]
             }
            ],
            "label": "Hide features",
            "method": "update"
           },
           {
            "args": [
             {
              "visible": [
               true,
               true,
               true,
               false
              ]
             }
            ],
            "label": "Show indices",
            "method": "update"
           },
           {
            "args": [
             {
              "visible": [
               true,
               true,
               false,
               true
              ]
             }
            ],
            "label": "Show names",
            "method": "update"
           }
          ],
          "pad": {
           "r": 10,
           "t": 10
          },
          "showactive": true,
          "x": -0.25,
          "xanchor": "left",
          "y": 1.03,
          "yanchor": "top"
         }
        ],
        "xaxis": {
         "gridcolor": "rgb(255,255,255)",
         "showgrid": true,
         "showline": false,
         "showticklabels": true,
         "tickcolor": "rgb(127,127,127)",
         "ticks": "outside",
         "title": {
          "text": "number of removed features"
         },
         "zeroline": false
        },
        "yaxis": {
         "gridcolor": "rgb(255,255,255)",
         "showgrid": true,
         "showline": false,
         "showticklabels": true,
         "tickcolor": "rgb(127,127,127)",
         "tickfont": {
          "color": "rgb(51,160,44)"
         },
         "ticks": "outside",
         "title": {
          "font": {
           "color": "rgb(51,160,44)"
          },
          "text": "loss value"
         },
         "zeroline": false
        }
       }
      },
      "text/html": [
       "<div>                            <div id=\"7d3016a6-7982-4701-8e22-0feeda7ec8b9\" class=\"plotly-graph-div\" style=\"height:525px; width:100%;\"></div>            <script type=\"text/javascript\">                require([\"plotly\"], function(Plotly) {                    window.PLOTLYENV=window.PLOTLYENV || {};                                    if (document.getElementById(\"7d3016a6-7982-4701-8e22-0feeda7ec8b9\")) {                    Plotly.newPlot(                        \"7d3016a6-7982-4701-8e22-0feeda7ec8b9\",                        [{\"line\":{\"color\":\"rgb(51,160,44)\"},\"mode\":\"lines+markers\",\"name\":\"\",\"text\":[\"\",\"sex\",\"breed_pure\",\"color\",\"outcome_season\"],\"x\":[0,1,2,3,4],\"y\":[0.29618229250270106,0.29436772046020976,0.30250976834986454,0.29828186001148616,0.29383938533867476],\"type\":\"scatter\"},{\"marker\":{\"size\":10,\"symbol\":\"square\"},\"mode\":\"markers\",\"name\":\"\",\"text\":[\"\",\"sex\",\"breed_pure\",\"color\",\"outcome_season\"],\"x\":[0,1,2,3,4],\"y\":[0.29618229250270106,0.29436772046020976,0.30250976834986454,0.29828186001148616,0.29383938533867476],\"type\":\"scatter\"},{\"mode\":\"text\",\"name\":\"\",\"text\":[\"\",\"0\",\"2\",\"3\",\"5\"],\"textfont\":{\"color\":\"rgb(51,160,44)\",\"family\":\"sans serif\",\"size\":18},\"textposition\":\"bottom center\",\"visible\":false,\"x\":[0,1,2,3,4],\"y\":[0.29618229250270106,0.29436772046020976,0.30250976834986454,0.29828186001148616,0.29383938533867476],\"type\":\"scatter\"},{\"mode\":\"text\",\"name\":\"\",\"text\":[\"\",\"sex\",\"breed_pure\",\"color\",\"outcome_season\"],\"textfont\":{\"color\":\"rgb(51,160,44)\",\"family\":\"sans serif\",\"size\":18},\"textposition\":\"bottom center\",\"visible\":false,\"x\":[0,1,2,3,4],\"y\":[0.29618229250270106,0.29436772046020976,0.30250976834986454,0.29828186001148616,0.29383938533867476],\"type\":\"scatter\"}],                        {\"template\":{\"data\":{\"histogram2dcontour\":[{\"type\":\"histogram2dcontour\",\"colorbar\":{\"outlinewidth\":0,\"ticks\":\"\"},\"colorscale\":[[0.0,\"#0d0887\"],[0.1111111111111111,\"#46039f\"],[0.2222222222222222,\"#7201a8\"],[0.3333333333333333,\"#9c179e\"],[0.4444444444444444,\"#bd3786\"],[0.5555555555555556,\"#d8576b\"],[0.6666666666666666,\"#ed7953\"],[0.7777777777777778,\"#fb9f3a\"],[0.8888888888888888,\"#fdca26\"],[1.0,\"#f0f921\"]]}],\"choropleth\":[{\"type\":\"choropleth\",\"colorbar\":{\"outlinewidth\":0,\"ticks\":\"\"}}],\"histogram2d\":[{\"type\":\"histogram2d\",\"colorbar\":{\"outlinewidth\":0,\"ticks\":\"\"},\"colorscale\":[[0.0,\"#0d0887\"],[0.1111111111111111,\"#46039f\"],[0.2222222222222222,\"#7201a8\"],[0.3333333333333333,\"#9c179e\"],[0.4444444444444444,\"#bd3786\"],[0.5555555555555556,\"#d8576b\"],[0.6666666666666666,\"#ed7953\"],[0.7777777777777778,\"#fb9f3a\"],[0.8888888888888888,\"#fdca26\"],[1.0,\"#f0f921\"]]}],\"heatmap\":[{\"type\":\"heatmap\",\"colorbar\":{\"outlinewidth\":0,\"ticks\":\"\"},\"colorscale\":[[0.0,\"#0d0887\"],[0.1111111111111111,\"#46039f\"],[0.2222222222222222,\"#7201a8\"],[0.3333333333333333,\"#9c179e\"],[0.4444444444444444,\"#bd3786\"],[0.5555555555555556,\"#d8576b\"],[0.6666666666666666,\"#ed7953\"],[0.7777777777777778,\"#fb9f3a\"],[0.8888888888888888,\"#fdca26\"],[1.0,\"#f0f921\"]]}],\"heatmapgl\":[{\"type\":\"heatmapgl\",\"colorbar\":{\"outlinewidth\":0,\"ticks\":\"\"},\"colorscale\":[[0.0,\"#0d0887\"],[0.1111111111111111,\"#46039f\"],[0.2222222222222222,\"#7201a8\"],[0.3333333333333333,\"#9c179e\"],[0.4444444444444444,\"#bd3786\"],[0.5555555555555556,\"#d8576b\"],[0.6666666666666666,\"#ed7953\"],[0.7777777777777778,\"#fb9f3a\"],[0.8888888888888888,\"#fdca26\"],[1.0,\"#f0f921\"]]}],\"contourcarpet\":[{\"type\":\"contourcarpet\",\"colorbar\":{\"outlinewidth\":0,\"ticks\":\"\"}}],\"contour\":[{\"type\":\"contour\",\"colorbar\":{\"outlinewidth\":0,\"ticks\":\"\"},\"colorscale\":[[0.0,\"#0d0887\"],[0.1111111111111111,\"#46039f\"],[0.2222222222222222,\"#7201a8\"],[0.3333333333333333,\"#9c179e\"],[0.4444444444444444,\"#bd3786\"],[0.5555555555555556,\"#d8576b\"],[0.6666666666666666,\"#ed7953\"],[0.7777777777777778,\"#fb9f3a\"],[0.8888888888888888,\"#fdca26\"],[1.0,\"#f0f921\"]]}],\"surface\":[{\"type\":\"surface\",\"colorbar\":{\"outlinewidth\":0,\"ticks\":\"\"},\"colorscale\":[[0.0,\"#0d0887\"],[0.1111111111111111,\"#46039f\"],[0.2222222222222222,\"#7201a8\"],[0.3333333333333333,\"#9c179e\"],[0.4444444444444444,\"#bd3786\"],[0.5555555555555556,\"#d8576b\"],[0.6666666666666666,\"#ed7953\"],[0.7777777777777778,\"#fb9f3a\"],[0.8888888888888888,\"#fdca26\"],[1.0,\"#f0f921\"]]}],\"mesh3d\":[{\"type\":\"mesh3d\",\"colorbar\":{\"outlinewidth\":0,\"ticks\":\"\"}}],\"scatter\":[{\"fillpattern\":{\"fillmode\":\"overlay\",\"size\":10,\"solidity\":0.2},\"type\":\"scatter\"}],\"parcoords\":[{\"type\":\"parcoords\",\"line\":{\"colorbar\":{\"outlinewidth\":0,\"ticks\":\"\"}}}],\"scatterpolargl\":[{\"type\":\"scatterpolargl\",\"marker\":{\"colorbar\":{\"outlinewidth\":0,\"ticks\":\"\"}}}],\"bar\":[{\"error_x\":{\"color\":\"#2a3f5f\"},\"error_y\":{\"color\":\"#2a3f5f\"},\"marker\":{\"line\":{\"color\":\"#E5ECF6\",\"width\":0.5},\"pattern\":{\"fillmode\":\"overlay\",\"size\":10,\"solidity\":0.2}},\"type\":\"bar\"}],\"scattergeo\":[{\"type\":\"scattergeo\",\"marker\":{\"colorbar\":{\"outlinewidth\":0,\"ticks\":\"\"}}}],\"scatterpolar\":[{\"type\":\"scatterpolar\",\"marker\":{\"colorbar\":{\"outlinewidth\":0,\"ticks\":\"\"}}}],\"histogram\":[{\"marker\":{\"pattern\":{\"fillmode\":\"overlay\",\"size\":10,\"solidity\":0.2}},\"type\":\"histogram\"}],\"scattergl\":[{\"type\":\"scattergl\",\"marker\":{\"colorbar\":{\"outlinewidth\":0,\"ticks\":\"\"}}}],\"scatter3d\":[{\"type\":\"scatter3d\",\"line\":{\"colorbar\":{\"outlinewidth\":0,\"ticks\":\"\"}},\"marker\":{\"colorbar\":{\"outlinewidth\":0,\"ticks\":\"\"}}}],\"scattermapbox\":[{\"type\":\"scattermapbox\",\"marker\":{\"colorbar\":{\"outlinewidth\":0,\"ticks\":\"\"}}}],\"scatterternary\":[{\"type\":\"scatterternary\",\"marker\":{\"colorbar\":{\"outlinewidth\":0,\"ticks\":\"\"}}}],\"scattercarpet\":[{\"type\":\"scattercarpet\",\"marker\":{\"colorbar\":{\"outlinewidth\":0,\"ticks\":\"\"}}}],\"carpet\":[{\"aaxis\":{\"endlinecolor\":\"#2a3f5f\",\"gridcolor\":\"white\",\"linecolor\":\"white\",\"minorgridcolor\":\"white\",\"startlinecolor\":\"#2a3f5f\"},\"baxis\":{\"endlinecolor\":\"#2a3f5f\",\"gridcolor\":\"white\",\"linecolor\":\"white\",\"minorgridcolor\":\"white\",\"startlinecolor\":\"#2a3f5f\"},\"type\":\"carpet\"}],\"table\":[{\"cells\":{\"fill\":{\"color\":\"#EBF0F8\"},\"line\":{\"color\":\"white\"}},\"header\":{\"fill\":{\"color\":\"#C8D4E3\"},\"line\":{\"color\":\"white\"}},\"type\":\"table\"}],\"barpolar\":[{\"marker\":{\"line\":{\"color\":\"#E5ECF6\",\"width\":0.5},\"pattern\":{\"fillmode\":\"overlay\",\"size\":10,\"solidity\":0.2}},\"type\":\"barpolar\"}],\"pie\":[{\"automargin\":true,\"type\":\"pie\"}]},\"layout\":{\"autotypenumbers\":\"strict\",\"colorway\":[\"#636efa\",\"#EF553B\",\"#00cc96\",\"#ab63fa\",\"#FFA15A\",\"#19d3f3\",\"#FF6692\",\"#B6E880\",\"#FF97FF\",\"#FECB52\"],\"font\":{\"color\":\"#2a3f5f\"},\"hovermode\":\"closest\",\"hoverlabel\":{\"align\":\"left\"},\"paper_bgcolor\":\"white\",\"plot_bgcolor\":\"#E5ECF6\",\"polar\":{\"bgcolor\":\"#E5ECF6\",\"angularaxis\":{\"gridcolor\":\"white\",\"linecolor\":\"white\",\"ticks\":\"\"},\"radialaxis\":{\"gridcolor\":\"white\",\"linecolor\":\"white\",\"ticks\":\"\"}},\"ternary\":{\"bgcolor\":\"#E5ECF6\",\"aaxis\":{\"gridcolor\":\"white\",\"linecolor\":\"white\",\"ticks\":\"\"},\"baxis\":{\"gridcolor\":\"white\",\"linecolor\":\"white\",\"ticks\":\"\"},\"caxis\":{\"gridcolor\":\"white\",\"linecolor\":\"white\",\"ticks\":\"\"}},\"coloraxis\":{\"colorbar\":{\"outlinewidth\":0,\"ticks\":\"\"}},\"colorscale\":{\"sequential\":[[0.0,\"#0d0887\"],[0.1111111111111111,\"#46039f\"],[0.2222222222222222,\"#7201a8\"],[0.3333333333333333,\"#9c179e\"],[0.4444444444444444,\"#bd3786\"],[0.5555555555555556,\"#d8576b\"],[0.6666666666666666,\"#ed7953\"],[0.7777777777777778,\"#fb9f3a\"],[0.8888888888888888,\"#fdca26\"],[1.0,\"#f0f921\"]],\"sequentialminus\":[[0.0,\"#0d0887\"],[0.1111111111111111,\"#46039f\"],[0.2222222222222222,\"#7201a8\"],[0.3333333333333333,\"#9c179e\"],[0.4444444444444444,\"#bd3786\"],[0.5555555555555556,\"#d8576b\"],[0.6666666666666666,\"#ed7953\"],[0.7777777777777778,\"#fb9f3a\"],[0.8888888888888888,\"#fdca26\"],[1.0,\"#f0f921\"]],\"diverging\":[[0,\"#8e0152\"],[0.1,\"#c51b7d\"],[0.2,\"#de77ae\"],[0.3,\"#f1b6da\"],[0.4,\"#fde0ef\"],[0.5,\"#f7f7f7\"],[0.6,\"#e6f5d0\"],[0.7,\"#b8e186\"],[0.8,\"#7fbc41\"],[0.9,\"#4d9221\"],[1,\"#276419\"]]},\"xaxis\":{\"gridcolor\":\"white\",\"linecolor\":\"white\",\"ticks\":\"\",\"title\":{\"standoff\":15},\"zerolinecolor\":\"white\",\"automargin\":true,\"zerolinewidth\":2},\"yaxis\":{\"gridcolor\":\"white\",\"linecolor\":\"white\",\"ticks\":\"\",\"title\":{\"standoff\":15},\"zerolinecolor\":\"white\",\"automargin\":true,\"zerolinewidth\":2},\"scene\":{\"xaxis\":{\"backgroundcolor\":\"#E5ECF6\",\"gridcolor\":\"white\",\"linecolor\":\"white\",\"showbackground\":true,\"ticks\":\"\",\"zerolinecolor\":\"white\",\"gridwidth\":2},\"yaxis\":{\"backgroundcolor\":\"#E5ECF6\",\"gridcolor\":\"white\",\"linecolor\":\"white\",\"showbackground\":true,\"ticks\":\"\",\"zerolinecolor\":\"white\",\"gridwidth\":2},\"zaxis\":{\"backgroundcolor\":\"#E5ECF6\",\"gridcolor\":\"white\",\"linecolor\":\"white\",\"showbackground\":true,\"ticks\":\"\",\"zerolinecolor\":\"white\",\"gridwidth\":2}},\"shapedefaults\":{\"line\":{\"color\":\"#2a3f5f\"}},\"annotationdefaults\":{\"arrowcolor\":\"#2a3f5f\",\"arrowhead\":0,\"arrowwidth\":1},\"geo\":{\"bgcolor\":\"white\",\"landcolor\":\"#E5ECF6\",\"subunitcolor\":\"white\",\"showland\":true,\"showlakes\":true,\"lakecolor\":\"white\"},\"title\":{\"x\":0.05},\"mapbox\":{\"style\":\"light\"}}},\"title\":{\"text\":\"Loss by eliminated features\"},\"xaxis\":{\"title\":{\"text\":\"number of removed features\"},\"gridcolor\":\"rgb(255,255,255)\",\"showgrid\":true,\"showline\":false,\"showticklabels\":true,\"tickcolor\":\"rgb(127,127,127)\",\"ticks\":\"outside\",\"zeroline\":false},\"yaxis\":{\"title\":{\"text\":\"loss value\",\"font\":{\"color\":\"rgb(51,160,44)\"}},\"tickfont\":{\"color\":\"rgb(51,160,44)\"},\"gridcolor\":\"rgb(255,255,255)\",\"showgrid\":true,\"showline\":false,\"showticklabels\":true,\"tickcolor\":\"rgb(127,127,127)\",\"ticks\":\"outside\",\"zeroline\":false},\"updatemenus\":[{\"active\":0,\"buttons\":[{\"args\":[{\"visible\":[true,true,false,false]}],\"label\":\"Hide features\",\"method\":\"update\"},{\"args\":[{\"visible\":[true,true,true,false]}],\"label\":\"Show indices\",\"method\":\"update\"},{\"args\":[{\"visible\":[true,true,false,true]}],\"label\":\"Show names\",\"method\":\"update\"}],\"pad\":{\"r\":10,\"t\":10},\"showactive\":true,\"x\":-0.25,\"xanchor\":\"left\",\"y\":1.03,\"yanchor\":\"top\"}],\"showlegend\":false},                        {\"responsive\": true}                    ).then(function(){\n",
       "                            \n",
       "var gd = document.getElementById('7d3016a6-7982-4701-8e22-0feeda7ec8b9');\n",
       "var x = new MutationObserver(function (mutations, observer) {{\n",
       "        var display = window.getComputedStyle(gd).display;\n",
       "        if (!display || display === 'none') {{\n",
       "            console.log([gd, 'removed!']);\n",
       "            Plotly.purge(gd);\n",
       "            observer.disconnect();\n",
       "        }}\n",
       "}});\n",
       "\n",
       "// Listen for the removal of the full notebook cells\n",
       "var notebookContainer = gd.closest('#notebook-container');\n",
       "if (notebookContainer) {{\n",
       "    x.observe(notebookContainer, {childList: true});\n",
       "}}\n",
       "\n",
       "// Listen for the clearing of the current output cell\n",
       "var outputEl = gd.closest('.output');\n",
       "if (outputEl) {{\n",
       "    x.observe(outputEl, {childList: true});\n",
       "}}\n",
       "\n",
       "                        })                };                });            </script>        </div>"
      ]
     },
     "metadata": {},
     "output_type": "display_data"
    },
    {
     "name": "stdout",
     "output_type": "stream",
     "text": [
      "Selected features: ['size', 'days_in_shelter', 'intake_age', 'intake_condition', 'intake_type']\n"
     ]
    }
   ],
   "source": [
    "synthetic_shap_summary = select_features_syntetic_RGSR(algorithm=EFeaturesSelectionAlgorithm.RecursiveByShapValues, steps=4)"
   ]
  },
  {
   "cell_type": "code",
   "execution_count": 84,
   "metadata": {},
   "outputs": [
    {
     "data": {
      "image/png": "[encoded data removed]",
      "text/plain": [
       "<Figure size 800x400 with 2 Axes>"
      ]
     },
     "metadata": {},
     "output_type": "display_data"
    },
    {
     "data": {
      "text/plain": [
       "<Figure size 640x480 with 0 Axes>"
      ]
     },
     "metadata": {},
     "output_type": "display_data"
    }
   ],
   "source": [
    "firm_features = ['size', 'days_in_shelter', 'intake_age', 'intake_condition']\n",
    "\n",
    "possible_features = ['outcome_season', 'intake_type']\n",
    "\n",
    "fig, axes = plt.subplots(nrows=1, ncols=len(possible_features), figsize=(4*len(possible_features),4), sharey=True, layout=\"tight\")\n",
    "\n",
    "for i in range(len(possible_features)):\n",
    "    mod_feature_list = firm_features + [possible_features[i]]\n",
    "\n",
    "    cv_splits  = 9\n",
    "    kfold  = StratifiedKFold(n_splits=cv_splits, shuffle=True, random_state=1342)\n",
    "    j = 0\n",
    "    for t_idx, h_idx in kfold.split(dog_df, dog_df.outcome_adopt):\n",
    "        X_t = dog_df[mod_feature_list].iloc[t_idx]\n",
    "        X_t = X_t.astype(str)\n",
    "        y_t = dog_df.outcome_adopt.iloc[t_idx]\n",
    "        X_h = dog_df[mod_feature_list].iloc[h_idx]\n",
    "        X_h = X_h.astype(str)\n",
    "        y_h = dog_df.outcome_adopt.iloc[h_idx]\n",
    "        \n",
    "        pool = Pool(X_t, y_t, cat_features=mod_feature_list, feature_names=mod_feature_list)\n",
    "        clf  = CatBoostClassifier(iterations=1000, learning_rate=lrn_rate, loss_function=\"Logloss\", depth=tree_depth).fit(pool, eval_set=(X_t, y_t), verbose=False)\n",
    "        (fpr, tpr, thresholds) = get_roc_curve(clf, pool, plot=False)\n",
    "        \n",
    "        axes[i].plot(fpr, tpr, c=\"darkgray\", linewidth=0.50)\n",
    "\n",
    "        j+=1\n",
    "        del X_t, y_t, pool, clf, fpr, tpr, thresholds\n",
    "    del cv_splits, kfold, j\n",
    "\n",
    "    X_train_mod = X_train[mod_feature_list]\n",
    "    X_train_mod = X_train_mod.astype(str)\n",
    "    y_train_mod = y_train.copy()\n",
    "\n",
    "    pool = Pool(X_train_mod, y_train_mod, cat_features=mod_feature_list, feature_names=mod_feature_list)\n",
    "    clf  = CatBoostClassifier(iterations=1000, learning_rate=lrn_rate, loss_function=\"Logloss\", depth=tree_depth)\n",
    "    clf.fit(pool, eval_set=(X_train_mod, y_train_mod), verbose=False, plot=False)\n",
    "    \n",
    "    (fpr, tpr, thresholds) = get_roc_curve(clf, pool, plot=False)\n",
    "    roc_auc = auc(fpr, tpr)\n",
    "    \n",
    "    axes[i].plot(fpr, tpr, label='AUC = {y}'.format(y=(round(roc_auc,2))))\n",
    "    axes[i].plot([0, 1], [0, 1], 'k--')\n",
    "    axes[i].legend(loc='best')\n",
    "    axes[i].set_title(possible_features[i])\n",
    "    axes[i].set_xlim(0.0, 0.6)\n",
    "    axes[i].set_ylim(0.5, 1.0)\n",
    "    axes[i].spines[['top','right']].set_visible(False)\n",
    "\n",
    "    axes[i].set_xlabel('False Positive Rate')\n",
    "    if i == 0:\n",
    "        axes[i].set_ylabel('True Positive Rate')\n",
    "\n",
    "    del mod_feature_list, X_train_mod, y_train_mod, pool, clf, fpr, tpr, thresholds, roc_auc\n",
    "    i+=1\n",
    "\n",
    "plt.show()\n",
    "plt.clf()"
   ]
  },
  {
   "cell_type": "code",
   "execution_count": 90,
   "metadata": {},
   "outputs": [
    {
     "data": {
      "image/png": "[encoded data removed]",
      "text/plain": [
       "<Figure size 1000x400 with 2 Axes>"
      ]
     },
     "metadata": {},
     "output_type": "display_data"
    },
    {
     "data": {
      "text/plain": [
       "<Figure size 640x480 with 0 Axes>"
      ]
     },
     "metadata": {},
     "output_type": "display_data"
    }
   ],
   "source": [
    "final_feature_list = [ 'size', 'days_in_shelter', 'outcome_season','intake_age','intake_condition']\n",
    "\n",
    "X_train, X_hold, y_train, y_hold = train_test_split(dog_df[final_feature_list],\n",
    "                                      dog_df.outcome_adopt,\n",
    "                                      shuffle=True,\n",
    "                                      stratify=dog_df.outcome_adopt,\n",
    "                                      test_size=0.2,\n",
    "                                      random_state=1342)\n",
    "\n",
    "cv_splits  = 9\n",
    "kfold  = StratifiedKFold(n_splits=cv_splits, shuffle=True, random_state=1342)\n",
    "\n",
    "fig, axes = plt.subplots(nrows=1, ncols=2, figsize=(10,4), layout=\"tight\", width_ratios=[0.7, 0.3])\n",
    "\n",
    "i = 0\n",
    "for t_idx, h_idx in kfold.split(X_train, y_train):\n",
    "      X_t = X_train.iloc[t_idx]\n",
    "      X_t = X_t.astype(str)\n",
    "      y_t = y_train.iloc[t_idx]\n",
    "      X_h = X_train.iloc[h_idx]\n",
    "      X_h = X_h.astype(str)\n",
    "      y_h = y_train.iloc[h_idx]\n",
    "      \n",
    "      pool = Pool(X_t, y_t, cat_features=final_feature_list, feature_names=final_feature_list)\n",
    "\n",
    "      clf  = CatBoostClassifier(iterations=1000, learning_rate=lrn_rate, loss_function=\"Logloss\", depth=tree_depth).fit(pool, eval_set=(X_t, y_t), verbose=False)\n",
    "      ## ROC curve - get data from catboost, plot with plt\n",
    "      (fpr, tpr, thresholds) = get_roc_curve(clf, pool, plot=False)\n",
    "      roc_auc = auc(fpr, tpr)\n",
    "      axes[0].plot(fpr, tpr, c=\"darkgray\", linewidth=0.50)\n",
    "      axes[1].plot(fpr, tpr, c=\"darkgray\", linewidth=0.50)\n",
    "\n",
    "      i+=1\n",
    "      del X_t, y_t, pool, clf, fpr, tpr, thresholds, roc_auc\n",
    "\n",
    "\n",
    "X_t = X_train.astype(str)\n",
    "pool = Pool(X_t, y_train, cat_features=final_feature_list, feature_names=final_feature_list)\n",
    "clf  = CatBoostClassifier(iterations=1000, learning_rate=lrn_rate, loss_function=\"Logloss\", depth=tree_depth).fit(pool, eval_set=(X_t, y_train), verbose=False)\n",
    "(fpr, tpr, thresholds) = get_roc_curve(clf, pool, plot=False)\n",
    "roc_auc = auc(fpr, tpr)\n",
    "axes[0].plot(fpr, tpr, c=\"green\", linewidth=1.0, label='AUC = {y})'.format(y=(round(roc_auc,2))))\n",
    "axes[1].plot(fpr, tpr, c=\"green\", linewidth=1.0, label='AUC = {y})'.format(y=(round(roc_auc,2))))\n",
    "del X_t, pool, clf, fpr, tpr, thresholds, roc_auc\n",
    "\n",
    "axes[0].set_xlim(0.0, 1.0)\n",
    "axes[0].set_ylim(0.0, 1.0)\n",
    "axes[1].set_xlim(0.0, 0.6)\n",
    "axes[1].set_ylim(0.5, 1.0)\n",
    "\n",
    "for i in [0,1]:\n",
    "    axes[i].plot([0, 1], [0, 1], 'k--') #line y=x\n",
    "    axes[i].set_xlabel('False Positive Rate')\n",
    "    axes[i].set_ylabel('True Positive Rate')\n",
    "    axes[i].legend(loc=\"lower right\")\n",
    "    axes[i].spines[['top','right']].set_visible(False)\n",
    "    \n",
    "plt.show()\n",
    "plt.clf()\n",
    "\n",
    "#plt.savefig(roc_j)\n",
    "#del feat, model_name, feature_list, tree_depth, lrn_rate, X_t, y_t, pool, clf, confusion, "
   ]
  },
  {
   "cell_type": "code",
   "execution_count": 107,
   "metadata": {},
   "outputs": [],
   "source": [
    "final_feature_list = [ 'size', 'days_in_shelter', 'outcome_season','intake_age','intake_condition']\n",
    "\n",
    "plot_df = pd.DataFrame(columns=['iter', 'TN','FP','FN','TP','accuracy','predict_count','actual_count'])\n",
    "\n",
    "i=1\n",
    "while i <= 100:\n",
    "\n",
    "    X_train, X_hold, y_train, y_hold = train_test_split(dog_df[final_feature_list],\n",
    "                                        dog_df.outcome_adopt,\n",
    "                                        shuffle=True,\n",
    "                                        stratify=dog_df.outcome_adopt,\n",
    "                                        test_size=0.2)\n",
    "    \n",
    "    X_train = X_train.astype(str)\n",
    "    pool = Pool(X_train, y_train, cat_features=final_feature_list, feature_names=final_feature_list)\n",
    "\n",
    "    clf  = CatBoostClassifier(iterations=1000, learning_rate=lrn_rate, loss_function=\"Logloss\", depth=tree_depth).fit(pool, eval_set=(X_train, y_train), verbose=False)\n",
    "    matrix = confusion_matrix(y_true = y_train, y_pred = clf.predict(X_train))\n",
    "\n",
    "    plot_df.loc[i-1, 'iter']      = i\n",
    "    plot_df.loc[i-1, 'TN'] =matrix[0,0]\n",
    "    plot_df.loc[i-1, 'FP'] =matrix[0,1]\n",
    "    plot_df.loc[i-1, 'FN'] =matrix[1,0]\n",
    "    plot_df.loc[i-1, 'TP'] =matrix[1,1]\n",
    "\n",
    "    plot_df.loc[i-1, 'accuracy']      = accuracy_score(y_true = y_train, y_pred = clf.predict(X_train))\n",
    "    plot_df.loc[i-1, 'predict_count'] = np.sum(1*clf.predict(X_train)==True)\n",
    "    plot_df.loc[i-1, 'actual_count']  = np.sum(1*(y_train==True))\n",
    "\n",
    "\n",
    "    del X_train, X_hold, y_train, y_hold, pool, clf, matrix\n",
    "    i+=1\n",
    "\n",
    "del i\n"
   ]
  },
  {
   "cell_type": "code",
   "execution_count": 108,
   "metadata": {},
   "outputs": [
    {
     "data": {
      "text/html": [
       "<div>\n",
       "<style scoped>\n",
       "    .dataframe tbody tr th:only-of-type {\n",
       "        vertical-align: middle;\n",
       "    }\n",
       "\n",
       "    .dataframe tbody tr th {\n",
       "        vertical-align: top;\n",
       "    }\n",
       "\n",
       "    .dataframe thead th {\n",
       "        text-align: right;\n",
       "    }\n",
       "</style>\n",
       "<table border=\"1\" class=\"dataframe\">\n",
       "  <thead>\n",
       "    <tr style=\"text-align: right;\">\n",
       "      <th></th>\n",
       "      <th>iter</th>\n",
       "      <th>TN</th>\n",
       "      <th>FP</th>\n",
       "      <th>FN</th>\n",
       "      <th>TP</th>\n",
       "      <th>accuracy</th>\n",
       "      <th>predict_count</th>\n",
       "      <th>actual_count</th>\n",
       "    </tr>\n",
       "  </thead>\n",
       "  <tbody>\n",
       "    <tr>\n",
       "      <th>0</th>\n",
       "      <td>1</td>\n",
       "      <td>2033</td>\n",
       "      <td>299</td>\n",
       "      <td>145</td>\n",
       "      <td>2722</td>\n",
       "      <td>0.914599</td>\n",
       "      <td>3021</td>\n",
       "      <td>2867</td>\n",
       "    </tr>\n",
       "    <tr>\n",
       "      <th>1</th>\n",
       "      <td>2</td>\n",
       "      <td>2169</td>\n",
       "      <td>163</td>\n",
       "      <td>95</td>\n",
       "      <td>2772</td>\n",
       "      <td>0.950375</td>\n",
       "      <td>2935</td>\n",
       "      <td>2867</td>\n",
       "    </tr>\n",
       "    <tr>\n",
       "      <th>2</th>\n",
       "      <td>3</td>\n",
       "      <td>2062</td>\n",
       "      <td>270</td>\n",
       "      <td>105</td>\n",
       "      <td>2762</td>\n",
       "      <td>0.927871</td>\n",
       "      <td>3032</td>\n",
       "      <td>2867</td>\n",
       "    </tr>\n",
       "    <tr>\n",
       "      <th>3</th>\n",
       "      <td>4</td>\n",
       "      <td>1923</td>\n",
       "      <td>409</td>\n",
       "      <td>168</td>\n",
       "      <td>2699</td>\n",
       "      <td>0.889017</td>\n",
       "      <td>3108</td>\n",
       "      <td>2867</td>\n",
       "    </tr>\n",
       "    <tr>\n",
       "      <th>4</th>\n",
       "      <td>5</td>\n",
       "      <td>2158</td>\n",
       "      <td>174</td>\n",
       "      <td>135</td>\n",
       "      <td>2732</td>\n",
       "      <td>0.940565</td>\n",
       "      <td>2906</td>\n",
       "      <td>2867</td>\n",
       "    </tr>\n",
       "    <tr>\n",
       "      <th>...</th>\n",
       "      <td>...</td>\n",
       "      <td>...</td>\n",
       "      <td>...</td>\n",
       "      <td>...</td>\n",
       "      <td>...</td>\n",
       "      <td>...</td>\n",
       "      <td>...</td>\n",
       "      <td>...</td>\n",
       "    </tr>\n",
       "    <tr>\n",
       "      <th>95</th>\n",
       "      <td>96</td>\n",
       "      <td>2084</td>\n",
       "      <td>248</td>\n",
       "      <td>99</td>\n",
       "      <td>2768</td>\n",
       "      <td>0.933256</td>\n",
       "      <td>3016</td>\n",
       "      <td>2867</td>\n",
       "    </tr>\n",
       "    <tr>\n",
       "      <th>96</th>\n",
       "      <td>97</td>\n",
       "      <td>1915</td>\n",
       "      <td>417</td>\n",
       "      <td>181</td>\n",
       "      <td>2686</td>\n",
       "      <td>0.884978</td>\n",
       "      <td>3103</td>\n",
       "      <td>2867</td>\n",
       "    </tr>\n",
       "    <tr>\n",
       "      <th>97</th>\n",
       "      <td>98</td>\n",
       "      <td>2100</td>\n",
       "      <td>232</td>\n",
       "      <td>113</td>\n",
       "      <td>2754</td>\n",
       "      <td>0.933641</td>\n",
       "      <td>2986</td>\n",
       "      <td>2867</td>\n",
       "    </tr>\n",
       "    <tr>\n",
       "      <th>98</th>\n",
       "      <td>99</td>\n",
       "      <td>2073</td>\n",
       "      <td>259</td>\n",
       "      <td>104</td>\n",
       "      <td>2763</td>\n",
       "      <td>0.930179</td>\n",
       "      <td>3022</td>\n",
       "      <td>2867</td>\n",
       "    </tr>\n",
       "    <tr>\n",
       "      <th>99</th>\n",
       "      <td>100</td>\n",
       "      <td>2159</td>\n",
       "      <td>173</td>\n",
       "      <td>140</td>\n",
       "      <td>2727</td>\n",
       "      <td>0.939796</td>\n",
       "      <td>2900</td>\n",
       "      <td>2867</td>\n",
       "    </tr>\n",
       "  </tbody>\n",
       "</table>\n",
       "<p>100 rows × 8 columns</p>\n",
       "</div>"
      ],
      "text/plain": [
       "   iter    TN   FP   FN    TP  accuracy predict_count actual_count\n",
       "0     1  2033  299  145  2722  0.914599          3021         2867\n",
       "1     2  2169  163   95  2772  0.950375          2935         2867\n",
       "2     3  2062  270  105  2762  0.927871          3032         2867\n",
       "3     4  1923  409  168  2699  0.889017          3108         2867\n",
       "4     5  2158  174  135  2732  0.940565          2906         2867\n",
       "..  ...   ...  ...  ...   ...       ...           ...          ...\n",
       "95   96  2084  248   99  2768  0.933256          3016         2867\n",
       "96   97  1915  417  181  2686  0.884978          3103         2867\n",
       "97   98  2100  232  113  2754  0.933641          2986         2867\n",
       "98   99  2073  259  104  2763  0.930179          3022         2867\n",
       "99  100  2159  173  140  2727  0.939796          2900         2867\n",
       "\n",
       "[100 rows x 8 columns]"
      ]
     },
     "execution_count": 108,
     "metadata": {},
     "output_type": "execute_result"
    }
   ],
   "source": [
    "plot_df"
   ]
  },
  {
   "cell_type": "code",
   "execution_count": 114,
   "metadata": {},
   "outputs": [
    {
     "name": "stdout",
     "output_type": "stream",
     "text": [
      "1\n",
      "2\n",
      "3\n",
      "4\n",
      "5\n",
      "6\n",
      "7\n",
      "8\n",
      "9\n",
      "10\n",
      "11\n",
      "12\n",
      "13\n",
      "14\n",
      "15\n",
      "16\n",
      "17\n",
      "18\n",
      "19\n",
      "20\n",
      "21\n",
      "22\n",
      "23\n",
      "24\n",
      "25\n",
      "26\n",
      "27\n",
      "28\n",
      "29\n",
      "30\n",
      "31\n",
      "32\n",
      "33\n",
      "34\n",
      "35\n",
      "36\n",
      "37\n",
      "38\n",
      "39\n",
      "40\n",
      "41\n",
      "42\n",
      "43\n",
      "44\n",
      "45\n",
      "46\n",
      "47\n",
      "48\n",
      "49\n",
      "50\n",
      "51\n",
      "52\n",
      "53\n",
      "54\n",
      "55\n",
      "56\n",
      "57\n",
      "58\n",
      "59\n",
      "60\n",
      "61\n",
      "62\n",
      "63\n",
      "64\n",
      "65\n",
      "66\n",
      "67\n",
      "68\n",
      "69\n",
      "70\n",
      "71\n",
      "72\n",
      "73\n",
      "74\n",
      "75\n",
      "76\n",
      "77\n",
      "78\n",
      "79\n",
      "80\n",
      "81\n",
      "82\n",
      "83\n",
      "84\n",
      "85\n",
      "86\n",
      "87\n",
      "88\n",
      "89\n",
      "90\n",
      "91\n",
      "92\n",
      "93\n",
      "94\n",
      "95\n",
      "96\n",
      "97\n",
      "98\n",
      "99\n",
      "100\n"
     ]
    }
   ],
   "source": [
    "final_feature_list = [ 'size', 'days_in_shelter', 'outcome_season','intake_age','intake_condition']\n",
    "\n",
    "test_plot_df = pd.DataFrame(columns=['iter', 'TN','FP','FN','TP','accuracy','predict_count','actual_count'])\n",
    "\n",
    "i=1\n",
    "while i <= 100:\n",
    "    print(i)\n",
    "    X_train, X_hold, y_train, y_hold = train_test_split(dog_df[final_feature_list],\n",
    "                                        dog_df.outcome_adopt,\n",
    "                                        shuffle=True,\n",
    "                                        stratify=dog_df.outcome_adopt,\n",
    "                                        test_size=0.2)\n",
    "    \n",
    "    X_train = X_train.astype(str)\n",
    "    X_hold  = X_hold.astype(str)\n",
    "    pool = Pool(X_train, y_train, cat_features=final_feature_list, feature_names=final_feature_list)\n",
    "\n",
    "    clf  = CatBoostClassifier(iterations=1000, learning_rate=lrn_rate, loss_function=\"Logloss\", depth=tree_depth).fit(pool, eval_set=(X_train, y_train), verbose=False)\n",
    "    \n",
    "    matrix = confusion_matrix(y_true = y_hold, y_pred = clf.predict(X_hold))\n",
    "    test_plot_df.loc[i-1, 'iter']      = i\n",
    "    test_plot_df.loc[i-1, 'TN'] =matrix[0,0]\n",
    "    test_plot_df.loc[i-1, 'FP'] =matrix[0,1]\n",
    "    test_plot_df.loc[i-1, 'FN'] =matrix[1,0]\n",
    "    test_plot_df.loc[i-1, 'TP'] =matrix[1,1]\n",
    "\n",
    "    test_plot_df.loc[i-1, 'accuracy']      = accuracy_score(y_true = y_hold, y_pred = clf.predict(X_hold))\n",
    "    test_plot_df.loc[i-1, 'predict_count'] = np.sum(1*clf.predict(X_hold)==True)\n",
    "    test_plot_df.loc[i-1, 'actual_count']  = np.sum(1*(y_hold==True))\n",
    "\n",
    "\n",
    "    del X_train, X_hold, y_train, y_hold, pool, clf, matrix\n",
    "    i+=1\n",
    "\n",
    "del i"
   ]
  },
  {
   "cell_type": "code",
   "execution_count": null,
   "metadata": {},
   "outputs": [],
   "source": [
    "test_plot_df"
   ]
  },
  {
   "cell_type": "code",
   "execution_count": 123,
   "metadata": {},
   "outputs": [
    {
     "data": {
      "image/png": "[encoded data removed]",
      "text/plain": [
       "<Figure size 600x400 with 1 Axes>"
      ]
     },
     "metadata": {},
     "output_type": "display_data"
    },
    {
     "data": {
      "text/plain": [
       "<Figure size 640x480 with 0 Axes>"
      ]
     },
     "metadata": {},
     "output_type": "display_data"
    }
   ],
   "source": [
    "fig = plt.figure(figsize=(6,4))\n",
    "\n",
    "plt.plot(plot_df['iter'], plot_df[\"accuracy\"], \n",
    "             label=\"Compare with Training\")\n",
    "\n",
    "plt.plot(test_plot_df['iter'], test_plot_df[\"accuracy\"], \n",
    "label=\"Compare with Test\")\n",
    "\n",
    "plt.xlabel(\"Train-Test Split Iteration\")\n",
    "plt.ylabel(\"Accuracy Score of Classification Model\")\n",
    "plt.ylim([0.5, 1.00])\n",
    "plt.legend(loc=4)\n",
    "\n",
    "plt.show()\n",
    "plt.clf()"
   ]
  },
  {
   "cell_type": "code",
   "execution_count": 120,
   "metadata": {},
   "outputs": [],
   "source": [
    "plot_df.to_csv(\"final_model_against_training_data.csv\")\n",
    "test_plot_df.to_csv(\"final_model_against_test_data.csv\")\n"
   ]
  },
  {
   "cell_type": "code",
   "execution_count": 121,
   "metadata": {},
   "outputs": [
    {
     "data": {
      "text/html": [
       "<div>\n",
       "<style scoped>\n",
       "    .dataframe tbody tr th:only-of-type {\n",
       "        vertical-align: middle;\n",
       "    }\n",
       "\n",
       "    .dataframe tbody tr th {\n",
       "        vertical-align: top;\n",
       "    }\n",
       "\n",
       "    .dataframe thead th {\n",
       "        text-align: right;\n",
       "    }\n",
       "</style>\n",
       "<table border=\"1\" class=\"dataframe\">\n",
       "  <thead>\n",
       "    <tr style=\"text-align: right;\">\n",
       "      <th></th>\n",
       "      <th>iter</th>\n",
       "      <th>TN</th>\n",
       "      <th>FP</th>\n",
       "      <th>FN</th>\n",
       "      <th>TP</th>\n",
       "      <th>accuracy</th>\n",
       "      <th>predict_count</th>\n",
       "      <th>actual_count</th>\n",
       "    </tr>\n",
       "  </thead>\n",
       "  <tbody>\n",
       "    <tr>\n",
       "      <th>0</th>\n",
       "      <td>1</td>\n",
       "      <td>365</td>\n",
       "      <td>218</td>\n",
       "      <td>104</td>\n",
       "      <td>613</td>\n",
       "      <td>0.752308</td>\n",
       "      <td>831</td>\n",
       "      <td>717</td>\n",
       "    </tr>\n",
       "    <tr>\n",
       "      <th>1</th>\n",
       "      <td>2</td>\n",
       "      <td>371</td>\n",
       "      <td>212</td>\n",
       "      <td>121</td>\n",
       "      <td>596</td>\n",
       "      <td>0.743846</td>\n",
       "      <td>808</td>\n",
       "      <td>717</td>\n",
       "    </tr>\n",
       "    <tr>\n",
       "      <th>2</th>\n",
       "      <td>3</td>\n",
       "      <td>360</td>\n",
       "      <td>223</td>\n",
       "      <td>121</td>\n",
       "      <td>596</td>\n",
       "      <td>0.735385</td>\n",
       "      <td>819</td>\n",
       "      <td>717</td>\n",
       "    </tr>\n",
       "    <tr>\n",
       "      <th>3</th>\n",
       "      <td>4</td>\n",
       "      <td>342</td>\n",
       "      <td>241</td>\n",
       "      <td>92</td>\n",
       "      <td>625</td>\n",
       "      <td>0.743846</td>\n",
       "      <td>866</td>\n",
       "      <td>717</td>\n",
       "    </tr>\n",
       "    <tr>\n",
       "      <th>4</th>\n",
       "      <td>5</td>\n",
       "      <td>379</td>\n",
       "      <td>204</td>\n",
       "      <td>118</td>\n",
       "      <td>599</td>\n",
       "      <td>0.752308</td>\n",
       "      <td>803</td>\n",
       "      <td>717</td>\n",
       "    </tr>\n",
       "    <tr>\n",
       "      <th>...</th>\n",
       "      <td>...</td>\n",
       "      <td>...</td>\n",
       "      <td>...</td>\n",
       "      <td>...</td>\n",
       "      <td>...</td>\n",
       "      <td>...</td>\n",
       "      <td>...</td>\n",
       "      <td>...</td>\n",
       "    </tr>\n",
       "    <tr>\n",
       "      <th>95</th>\n",
       "      <td>96</td>\n",
       "      <td>362</td>\n",
       "      <td>221</td>\n",
       "      <td>114</td>\n",
       "      <td>603</td>\n",
       "      <td>0.742308</td>\n",
       "      <td>824</td>\n",
       "      <td>717</td>\n",
       "    </tr>\n",
       "    <tr>\n",
       "      <th>96</th>\n",
       "      <td>97</td>\n",
       "      <td>355</td>\n",
       "      <td>228</td>\n",
       "      <td>102</td>\n",
       "      <td>615</td>\n",
       "      <td>0.746154</td>\n",
       "      <td>843</td>\n",
       "      <td>717</td>\n",
       "    </tr>\n",
       "    <tr>\n",
       "      <th>97</th>\n",
       "      <td>98</td>\n",
       "      <td>339</td>\n",
       "      <td>244</td>\n",
       "      <td>96</td>\n",
       "      <td>621</td>\n",
       "      <td>0.738462</td>\n",
       "      <td>865</td>\n",
       "      <td>717</td>\n",
       "    </tr>\n",
       "    <tr>\n",
       "      <th>98</th>\n",
       "      <td>99</td>\n",
       "      <td>366</td>\n",
       "      <td>217</td>\n",
       "      <td>105</td>\n",
       "      <td>612</td>\n",
       "      <td>0.752308</td>\n",
       "      <td>829</td>\n",
       "      <td>717</td>\n",
       "    </tr>\n",
       "    <tr>\n",
       "      <th>99</th>\n",
       "      <td>100</td>\n",
       "      <td>393</td>\n",
       "      <td>190</td>\n",
       "      <td>115</td>\n",
       "      <td>602</td>\n",
       "      <td>0.765385</td>\n",
       "      <td>792</td>\n",
       "      <td>717</td>\n",
       "    </tr>\n",
       "  </tbody>\n",
       "</table>\n",
       "<p>100 rows × 8 columns</p>\n",
       "</div>"
      ],
      "text/plain": [
       "   iter   TN   FP   FN   TP  accuracy predict_count actual_count\n",
       "0     1  365  218  104  613  0.752308           831          717\n",
       "1     2  371  212  121  596  0.743846           808          717\n",
       "2     3  360  223  121  596  0.735385           819          717\n",
       "3     4  342  241   92  625  0.743846           866          717\n",
       "4     5  379  204  118  599  0.752308           803          717\n",
       "..  ...  ...  ...  ...  ...       ...           ...          ...\n",
       "95   96  362  221  114  603  0.742308           824          717\n",
       "96   97  355  228  102  615  0.746154           843          717\n",
       "97   98  339  244   96  621  0.738462           865          717\n",
       "98   99  366  217  105  612  0.752308           829          717\n",
       "99  100  393  190  115  602  0.765385           792          717\n",
       "\n",
       "[100 rows x 8 columns]"
      ]
     },
     "execution_count": 121,
     "metadata": {},
     "output_type": "execute_result"
    }
   ],
   "source": [
    "test_plot_df"
   ]
  },
  {
   "cell_type": "code",
   "execution_count": null,
   "metadata": {},
   "outputs": [],
   "source": []
  }
 ],
 "metadata": {
  "kernelspec": {
   "display_name": "erdos_may_2024",
   "language": "python",
   "name": "python3"
  },
  "language_info": {
   "codemirror_mode": {
    "name": "ipython",
    "version": 3
   },
   "file_extension": ".py",
   "mimetype": "text/x-python",
   "name": "python",
   "nbconvert_exporter": "python",
   "pygments_lexer": "ipython3",
   "version": "3.11.9"
  }
 },
 "nbformat": 4,
 "nbformat_minor": 2
}
