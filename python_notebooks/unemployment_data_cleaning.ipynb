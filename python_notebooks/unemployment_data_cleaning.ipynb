{
 "cells": [
  {
   "cell_type": "markdown",
   "metadata": {},
   "source": [
    "# Overview\n",
    "\n",
    "Since our shelter data is daily, we want to convert the unemployment data to daily. To do this, we will assign the same value to every day of the month. For example, the national unemployment rate in January 2014 was 6.6%, so we will assign the value of 6.6 to every day in January 2014. "
   ]
  },
  {
   "cell_type": "markdown",
   "metadata": {},
   "source": [
    "This code can be easily modified to any other monthly data set, so I created a function. This function does assume a different column for month and year, and that the month is given as a word.\n"
   ]
  },
  {
   "cell_type": "code",
   "execution_count": 79,
   "metadata": {},
   "outputs": [],
   "source": [
    "import pandas as pd\n",
    "from datetime import datetime, timedelta\n",
    "import csv\n",
    "\n",
    "\n",
    "def monthly_to_daily(data_set,year_header,month_header, data_header):\n",
    "    row_list=[]\n",
    "    # Iterate over each row in the data set\n",
    "    for index, row in data_set.iterrows():\n",
    "        # Get the year and month from the current row\n",
    "        year = int(row[year_header])\n",
    "        # Extract the month from the row and convert it to its numerical equivalent\n",
    "        # Assuming the month is represented as a number:\n",
    "        month = int(row[month_header])\n",
    "        # If the month is represented as the full month name, change to:\n",
    "        # month = datetime.strptime(row[month_header], '%B').month\n",
    "\n",
    "\n",
    "        # Calculate the number of days in the month\n",
    "        num_days = (datetime(year, month % 12 + 1, 1) - timedelta(days=1)).day\n",
    "\n",
    "        # create a row for each day of the month\n",
    "        for i in range(num_days):\n",
    "            # Format the date in \"year-day-month\" format\n",
    "            date = datetime(year,month,i+1).strftime(\"%Y-%d-%m\")\n",
    "            row_list.append((date,row[data_header]))\n",
    "\n",
    "    return row_list"
   ]
  },
  {
   "cell_type": "markdown",
   "metadata": {},
   "source": [
    "# Unemployment Data\n",
    "\n",
    "The BLS data uses 6.6 for 6.6%, so we will do the same. Since the earliest date in our data sets is 11/28/2009 (Bloomington), I grabbed data for 2009-2024.\n",
    "\n",
    "Data from https://data.bls.gov/pdq/SurveyOutputServlet"
   ]
  },
  {
   "cell_type": "markdown",
   "metadata": {},
   "source": [
    "## National Data"
   ]
  },
  {
   "cell_type": "code",
   "execution_count": 75,
   "metadata": {},
   "outputs": [],
   "source": [
    "nationalUnemployment_monthly = pd.read_csv(\"../main_data/NationalUnemploymentStart09.csv\")\n",
    "\n",
    "nationalUnemployment_daily = monthly_to_daily(nationalUnemployment_monthly,'Year','Period', 'Value')\n",
    "\n",
    "\n",
    "# Since we have a list of rows. not a dataframe\n",
    "with open('../main_data/NationalUnemploymentDaily.csv', 'w') as csvfile:\n",
    "    writer = csv.writer(csvfile)\n",
    "    writer.writerow(['Date', 'Unemployment Rate'])  # Write header row\n",
    "    for row in nationalUnemployment_daily:\n",
    "        writer.writerow(row)"
   ]
  },
  {
   "cell_type": "markdown",
   "metadata": {},
   "source": [
    "## Local Unemployment Data\n",
    "\n",
    "### Austin, TX"
   ]
  },
  {
   "cell_type": "markdown",
   "metadata": {},
   "source": [
    "Since the earliest date in our Austin data set is 10/21/2013, I pulled the Austin-Round Rock, TX Metropolitan Statistical Area data starting in 2013."
   ]
  },
  {
   "cell_type": "code",
   "execution_count": 76,
   "metadata": {},
   "outputs": [],
   "source": [
    "austinUnemployment_monthly = pd.read_csv(\"../main_data/locale_specific_data/AustinUnemploymentStart13.csv\")\n",
    "\n",
    "austinUnemployment_daily = monthly_to_daily(austinUnemployment_monthly,'Year','Period', 'Value')\n",
    "\n",
    "\n",
    "# Since we have a list of rows. not a dataframe\n",
    "with open('../main_data/locale_specific_data/AustinUnemploymentDaily.csv', 'w') as csvfile:\n",
    "    writer = csv.writer(csvfile)\n",
    "    writer.writerow(['Date', 'Unemployment Rate'])  # Write header row\n",
    "    for row in austinUnemployment_daily:\n",
    "        writer.writerow(row)"
   ]
  },
  {
   "cell_type": "markdown",
   "metadata": {},
   "source": [
    "### Bloomington, IN\n",
    "\n",
    "Since the earliest date in our Bloomington data set is 11/28/2009, I pulled the Bloomington, IN Metropolitan Statistical Area data starting in 2009."
   ]
  },
  {
   "cell_type": "code",
   "execution_count": 77,
   "metadata": {},
   "outputs": [],
   "source": [
    "bloomingtonUnemployment_monthly = pd.read_csv(\"../main_data/locale_specific_data/BloomingtonUnemploymentStart09.csv\")\n",
    "\n",
    "bloomingtonUnemployment_daily = monthly_to_daily(bloomingtonUnemployment_monthly,'Year','Period', 'Value')\n",
    "\n",
    "\n",
    "# Since we have a list of rows. not a dataframe\n",
    "with open('../main_data/locale_specific_data/BloomingtonUnemploymentDaily.csv', 'w') as csvfile:\n",
    "    writer = csv.writer(csvfile)\n",
    "    writer.writerow(['Date', 'Unemployment Rate'])  # Write header row\n",
    "    for row in bloomingtonUnemployment_daily:\n",
    "        writer.writerow(row)"
   ]
  },
  {
   "cell_type": "markdown",
   "metadata": {},
   "source": [
    "### Sonoma County, CA\n",
    "\n",
    "Since the earliest date in our Sonoma data set is 8/16/2013, I pulled the Santa Rosa, CA Metropolitan Statistical Area data starting in 2013."
   ]
  },
  {
   "cell_type": "code",
   "execution_count": 78,
   "metadata": {},
   "outputs": [],
   "source": [
    "sonomaUnemployment_monthly = pd.read_csv(\"../main_data/locale_specific_data/SonomaUnemploymentStart13.csv\")\n",
    "\n",
    "sonomaUnemployment_daily = monthly_to_daily(sonomaUnemployment_monthly,'Year','Period', 'Value')\n",
    "\n",
    "\n",
    "# Since we have a list of rows. not a dataframe\n",
    "with open('../main_data/locale_specific_data/SonomaUnemploymentDaily.csv', 'w') as csvfile:\n",
    "    writer = csv.writer(csvfile)\n",
    "    writer.writerow(['Date', 'Unemployment Rate'])  # Write header row\n",
    "    for row in sonomaUnemployment_daily:\n",
    "        writer.writerow(row)"
   ]
  },
  {
   "cell_type": "markdown",
   "metadata": {},
   "source": [
    "# CPI"
   ]
  },
  {
   "cell_type": "code",
   "execution_count": 83,
   "metadata": {},
   "outputs": [],
   "source": [
    "cpi_monthly = pd.read_csv(\"../main_data/features_data/cpi.csv\")\n",
    "\n",
    "row_list=[]\n",
    "\n",
    "# Change function above since date is year-month-01\n",
    "for index, row in cpi_monthly.iterrows():\n",
    "    # Assuming the column containing year-month-01 data is named 'year_month'\n",
    "    date = row['Date']\n",
    "    \n",
    "    # Parse year and month from the 'year_month' column\n",
    "    year, month, _ = map(int, date.split('-'))\n",
    "\n",
    "\n",
    "    # Calculate the number of days in the month\n",
    "    num_days = (datetime(year, month % 12 + 1, 1) - timedelta(days=1)).day\n",
    "\n",
    "    # create a row for each day of the month\n",
    "    for i in range(num_days):\n",
    "        # Format the date in \"year-day-month\" format\n",
    "        date = datetime(year,month,i+1).strftime(\"%Y-%d-%m\")\n",
    "        row_list.append((date,row['Inflation Rate']))\n",
    "\n",
    "# Since we have a list of rows. not a dataframe\n",
    "with open('../main_data/features_data/cpiDaily.csv', 'w') as csvfile:\n",
    "    writer = csv.writer(csvfile)\n",
    "    writer.writerow(['Date', 'Inflation Rate'])  # Write header row\n",
    "    for row in row_list:\n",
    "        writer.writerow(row)"
   ]
  },
  {
   "cell_type": "code",
   "execution_count": null,
   "metadata": {},
   "outputs": [],
   "source": []
  }
 ],
 "metadata": {
  "kernelspec": {
   "display_name": "Python 3",
   "language": "python",
   "name": "python3"
  },
  "language_info": {
   "codemirror_mode": {
    "name": "ipython",
    "version": 3
   },
   "file_extension": ".py",
   "mimetype": "text/x-python",
   "name": "python",
   "nbconvert_exporter": "python",
   "pygments_lexer": "ipython3",
   "version": "3.12.3"
  }
 },
 "nbformat": 4,
 "nbformat_minor": 2
}
