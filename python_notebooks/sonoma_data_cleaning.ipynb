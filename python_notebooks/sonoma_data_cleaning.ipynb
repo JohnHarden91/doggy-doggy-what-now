{
 "cells": [
  {
   "cell_type": "code",
   "execution_count": 1,
   "metadata": {},
   "outputs": [],
   "source": [
    "import pandas as pd\n",
    "import numpy as np\n",
    "import matplotlib.pyplot as plt"
   ]
  },
  {
   "cell_type": "code",
   "execution_count": 2,
   "metadata": {},
   "outputs": [],
   "source": [
    "sonoma = pd.read_csv(\"../main_data/locale_specific_data/SonomaCountyData.csv\")"
   ]
  },
  {
   "cell_type": "markdown",
   "metadata": {},
   "source": [
    "### Summary\n",
    "\n",
    "Data cleaning:\n",
    "- drop unnecessary columns\n",
    "- change index\n",
    "- clean columns with .str(), .split(), .fillna(), .apply() [with context], \n",
    "- rename columns to combine with other datasets\n",
    "- skip rows?\n",
    "\n",
    "This data:\n",
    "- WeekYear format for dates (mid 2000s - present)\n",
    "- CountOf...\n",
    "- intakes/outtakes statistics\n",
    "- (Optional)\n",
    "\n",
    "Observations:\n",
    "- 884 breeds\n",
    "- outcome_jurisdicition has inconsistent cities/towns (see below)"
   ]
  },
  {
   "cell_type": "code",
   "execution_count": 3,
   "metadata": {},
   "outputs": [],
   "source": [
    "# replace column names: \" \" to \"_\" and change to lowercase\n",
    "def remove_space(column_name):\n",
    "    return column_name.lower().replace(' ','_')\n",
    "sonoma = sonoma.rename(remove_space, axis = \"columns\")\n",
    "\n",
    "# Only look at dogs\n",
    "sonoma = sonoma.loc[sonoma.type == \"DOG\"]\n",
    "\n",
    "# convert to datetime format\n",
    "sonoma[\"intake_date\"] = pd.to_datetime(sonoma[\"intake_date\"])\n",
    "sonoma[\"outcome_date\"] = pd.to_datetime(sonoma[\"outcome_date\"])\n",
    "\n",
    "# \"location\" values are of the form zipcode(latitude,longitude)\n",
    "# this function keeps only the zipcode of outcome jurisdiction\n",
    "# there is already an \"outcome_zip_code\" column with float, I'm too lazy to modify it and will drop this column\n",
    "def remove_lat_long(column_name):\n",
    "    return str(column_name)[:5]\n",
    "sonoma[\"zipcode\"] = sonoma[\"location\"].apply(remove_lat_long)\n",
    "\n",
    "# outcome_jurisdicition has inconsistent cities/towns (see below)\n",
    "def remove_ast(column_name):\n",
    "    return str(column_name).replace(\"*\",\"\")\n",
    "sonoma[\"outcome_jurisdiction\"] = sonoma[\"outcome_jurisdiction\"].apply(remove_ast)"
   ]
  },
  {
   "cell_type": "code",
   "execution_count": 4,
   "metadata": {},
   "outputs": [
    {
     "data": {
      "text/plain": [
       "Index(['name', 'type', 'breed', 'color', 'sex', 'size', 'date_of_birth',\n",
       "       'impound_number', 'kennel_number', 'animal_id', 'intake_date',\n",
       "       'outcome_date', 'days_in_shelter', 'intake_type', 'intake_subtype',\n",
       "       'outcome_type', 'outcome_subtype', 'intake_condition',\n",
       "       'outcome_condition', 'intake_jurisdiction', 'outcome_jurisdiction',\n",
       "       'outcome_zip_code', 'location', 'count', 'zipcode'],\n",
       "      dtype='object')"
      ]
     },
     "execution_count": 4,
     "metadata": {},
     "output_type": "execute_result"
    }
   ],
   "source": [
    "sonoma.columns"
   ]
  },
  {
   "cell_type": "code",
   "execution_count": 5,
   "metadata": {},
   "outputs": [
    {
     "data": {
      "text/plain": [
       "array(['TRANSFER', 'STRAY', 'OWNER SURRENDER', 'QUARANTINE',\n",
       "       'ADOPTION RETURN', 'CONFISCATE', 'BORN HERE'], dtype=object)"
      ]
     },
     "execution_count": 5,
     "metadata": {},
     "output_type": "execute_result"
    }
   ],
   "source": [
    "sonoma.intake_type.unique()"
   ]
  },
  {
   "cell_type": "code",
   "execution_count": 6,
   "metadata": {},
   "outputs": [],
   "source": [
    "# 1. Stray/Abandoned\n",
    "# 2. Owner Surrender\n",
    "# 3. Euthanasia Request\n",
    "# 4. Public Assist (anything that involves intake for community (court ordered, police help, rabies quarantines)\n",
    "# 5. Other/Transfers\"\n",
    "\n",
    "# transfer -> other\n",
    "# stray -> stray_abandoned\n",
    "# owner surrender -> owner_surrender\n",
    "# quarantine -> public assist\n",
    "# adoption return -> owner surrender\n",
    "# confiscate -> public assist\n",
    "# born here -> other\n",
    "\n",
    "sonoma[\"stray_abandoned\"] = 0\n",
    "sonoma[\"owner_surrender\"] = 0\n",
    "sonoma[\"euthanasia\"] = 0\n",
    "sonoma[\"public_assist\"] = 0\n",
    "sonoma[\"other\"] = 0"
   ]
  },
  {
   "cell_type": "code",
   "execution_count": 7,
   "metadata": {},
   "outputs": [],
   "source": [
    "sonoma = sonoma.reset_index()\n",
    "\n",
    "for index,row in sonoma.iterrows():\n",
    "    if row[\"intake_type\"] == \"STRAY\":\n",
    "        sonoma.at[index,\"stray_abandoned\"] = 1\n",
    "    elif row[\"intake_type\"] == \"OWNER SURRENDER\" or row[\"intake_type\"] == \"ADOPTION RETURN\":\n",
    "        sonoma.at[index,\"owner_surrender\"] = 1\n",
    "    elif row[\"intake_type\"] == \"QUARANTINE\" or row[\"intake_type\"] == \"CONFISCATE\":\n",
    "        sonoma.at[index,\"public_assist\"] = 1\n",
    "    else:\n",
    "        sonoma.at[index,\"other\"] = 1\n"
   ]
  },
  {
   "cell_type": "code",
   "execution_count": 8,
   "metadata": {},
   "outputs": [
    {
     "name": "stdout",
     "output_type": "stream",
     "text": [
      "11378\n",
      "1803\n",
      "0\n",
      "2242\n",
      "265\n"
     ]
    }
   ],
   "source": [
    "print(sum(sonoma[\"stray_abandoned\"]))\n",
    "print(sum(sonoma[\"owner_surrender\"]))\n",
    "print(sum(sonoma[\"euthanasia\"]))\n",
    "print(sum(sonoma[\"public_assist\"]))\n",
    "print(sum(sonoma[\"other\"]))"
   ]
  },
  {
   "cell_type": "code",
   "execution_count": 9,
   "metadata": {},
   "outputs": [
    {
     "data": {
      "text/plain": [
       "array(['EUTHANIZE', 'ADOPTION', 'TRANSFER', 'RETURN TO OWNER', 'DIED',\n",
       "       'ESCAPED/STOLEN', 'DISPOSAL', nan, 'RTOS', 'VET'], dtype=object)"
      ]
     },
     "execution_count": 9,
     "metadata": {},
     "output_type": "execute_result"
    }
   ],
   "source": [
    "sonoma.outcome_type.unique()"
   ]
  },
  {
   "cell_type": "code",
   "execution_count": 10,
   "metadata": {},
   "outputs": [],
   "source": [
    "# 1. Return to Owner\n",
    "# 2. Adoption\n",
    "# 3. Euthanasia\n",
    "# 4. Unintended (Missing, Stolen, Died, Lost)\n",
    "# 5. Other/Transfer\n",
    "\n",
    "# EUTHANIZE -> euthanisasia\n",
    "# ADOPTION -> adoption\n",
    "# TRANSFER -> other\n",
    "# RETURN TO OWNER -> return to owner\n",
    "# DIED -> unintended\n",
    "# ESCAPED/STOLEN -> unintended\n",
    "# DISPOSAL -> unintended\n",
    "# nan -> other\n",
    "# RTOS -> return to owner\n",
    "# VET -> other\n",
    "\n",
    "sonoma[\"euthanised\"] = 0\n",
    "sonoma[\"adoption\"] = 0\n",
    "sonoma[\"return_to_owner\"] = 0\n",
    "sonoma[\"unintended\"] = 0\n",
    "sonoma[\"other\"] = 0"
   ]
  },
  {
   "cell_type": "code",
   "execution_count": 11,
   "metadata": {},
   "outputs": [],
   "source": [
    "sonoma = sonoma.reset_index()\n",
    "\n",
    "for index,row in sonoma.iterrows():\n",
    "    if row[\"outcome_type\"] == \"EUTHANIZE\":\n",
    "        sonoma.at[index,\"euthanised\"] = 1\n",
    "    elif row[\"outcome_type\"] == \"ADOPTION\":\n",
    "        sonoma.at[index,\"adoption\"] = 1\n",
    "    elif row[\"outcome_type\"] == \"RETURN TO OWNER\" or row[\"outcome_type\"] == \"RTOS\":\n",
    "        sonoma.at[index,\"return_to_owner\"] = 1\n",
    "    elif row[\"outcome_type\"] == \"DIED\" or row[\"outcome_type\"] == \"ESCAPED/STOLEN\" or row[\"outcome_type\"] == \"DISPOSAL\":\n",
    "        sonoma.at[index,\"unintended\"] = 1\n",
    "    else:\n",
    "        sonoma.at[index,\"other\"] = 1"
   ]
  },
  {
   "cell_type": "code",
   "execution_count": 12,
   "metadata": {},
   "outputs": [
    {
     "name": "stdout",
     "output_type": "stream",
     "text": [
      "1729\n",
      "3615\n",
      "7851\n",
      "76\n",
      "2417\n"
     ]
    }
   ],
   "source": [
    "print(sum(sonoma[\"euthanised\"]))\n",
    "print(sum(sonoma[\"adoption\"]))\n",
    "print(sum(sonoma[\"return_to_owner\"]))\n",
    "print(sum(sonoma[\"unintended\"]))\n",
    "print(sum(sonoma[\"other\"]))"
   ]
  },
  {
   "cell_type": "code",
   "execution_count": 13,
   "metadata": {},
   "outputs": [],
   "source": [
    "# replace values with np.nan\n",
    "sonoma = sonoma.replace({np.nan: np.nan,\"NaN\": np.nan, \"nan\": np.nan, \"Unknown\": np.nan,\"UNKNOWN\":np.nan})"
   ]
  },
  {
   "cell_type": "code",
   "execution_count": 14,
   "metadata": {},
   "outputs": [],
   "source": [
    "# create a new dataframe consisting of \"date\", \"# of intakes\", \"# of outcomes\"\n",
    "\n",
    "# range of dates\n",
    "date_min = min(min(sonoma[\"intake_date\"]),min(sonoma[\"outcome_date\"]))\n",
    "date_max = max(max(sonoma[\"intake_date\"]),max(sonoma[\"outcome_date\"]))"
   ]
  },
  {
   "cell_type": "code",
   "execution_count": 15,
   "metadata": {},
   "outputs": [],
   "source": [
    "sonoma_count = pd.DataFrame({'date':pd.date_range(date_min,date_max)})\n",
    "sonoma_count[\"intakes\"] = 0\n",
    "\n",
    "intake_df = pd.DataFrame(sonoma[\"intake_date\"].value_counts().reset_index())\n",
    "intake_df = intake_df.rename(columns={\"intake_date\":\"date\",\"count\":\"intakes\"})\n",
    "sonoma_count = pd.merge(sonoma_count,intake_df,on=[\"date\"])\n",
    "\n",
    "outcome_df = pd.DataFrame(sonoma[\"outcome_date\"].value_counts().reset_index())\n",
    "outcome_df = outcome_df.rename(columns={\"outcome_date\":\"date\",\"count\":\"outcomes\"})\n",
    "sonoma_count = sonoma_count.set_index('date').join(outcome_df.set_index('date')).fillna(0).astype(int)\n",
    "\n",
    "sonoma_count = sonoma_count.drop(columns=['intakes_x'])\n",
    "sonoma_count = sonoma_count.rename(columns = {\"intakes_y\":\"intakes\"}).reset_index()\n"
   ]
  },
  {
   "cell_type": "code",
   "execution_count": 16,
   "metadata": {},
   "outputs": [
    {
     "data": {
      "image/png": "[encoded data removed]",
      "text/plain": [
       "<Figure size 1200x700 with 1 Axes>"
      ]
     },
     "metadata": {},
     "output_type": "display_data"
    }
   ],
   "source": [
    "fig, ax = plt.subplots(figsize=(12, 7))\n",
    "\n",
    "# Add x-axis and y-axis\n",
    "ax.bar(sonoma_count[\"date\"].values,\n",
    "       sonoma_count[\"intakes\"],\n",
    "       color='red')\n",
    "\n",
    "# Set title and labels for axes\n",
    "ax.set(xlabel=\"Date\",\n",
    "       ylabel=\"Frequency\",\n",
    "       title=\"Intakes over time\")\n",
    "\n",
    "plt.show()\n"
   ]
  },
  {
   "cell_type": "code",
   "execution_count": 17,
   "metadata": {},
   "outputs": [
    {
     "data": {
      "image/png": "[encoded data removed]",
      "text/plain": [
       "<Figure size 1200x700 with 1 Axes>"
      ]
     },
     "metadata": {},
     "output_type": "display_data"
    }
   ],
   "source": [
    "fig, ax = plt.subplots(figsize=(12, 7))\n",
    "\n",
    "ax.bar(sonoma_count[\"date\"].values,\n",
    "       sonoma_count[\"outcomes\"],\n",
    "       )\n",
    "ax.set(xlabel=\"Date\",\n",
    "       ylabel=\"Frequency\",\n",
    "       title=\"Outcomes over time\")\n",
    "\n",
    "plt.show()\n"
   ]
  },
  {
   "cell_type": "code",
   "execution_count": null,
   "metadata": {},
   "outputs": [],
   "source": []
  },
  {
   "cell_type": "code",
   "execution_count": null,
   "metadata": {},
   "outputs": [],
   "source": []
  },
  {
   "cell_type": "code",
   "execution_count": null,
   "metadata": {},
   "outputs": [],
   "source": []
  },
  {
   "cell_type": "code",
   "execution_count": 8,
   "metadata": {},
   "outputs": [],
   "source": [
    "# outcome_subtype has a lot of noisy data\n",
    "# to_drop = [\"name\",\"type\",\"breed\",\"color\",\"impound_number\",\"kennel_number\",\"animal_id\",\"intake_jurisdiction\",\"outcome_jurisdiction\",\"outcome_zip_code\",\"location\",\"count\"]\n",
    "# sonoma = sonoma.drop(to_drop,axis =1)"
   ]
  },
  {
   "cell_type": "code",
   "execution_count": 10,
   "metadata": {},
   "outputs": [],
   "source": [
    "# function that takes date to weekyear: '01/08/2024' -> '2-2024'\n",
    "def weekyear_converter(column_name):\n",
    "    return str(pd.Timestamp(column_name).weekofyear) + \"-\" + str(pd.Timestamp(column_name).year)\n",
    "\n",
    "sonoma[\"intake_date_week_year\"] = sonoma[\"intake_date\"].apply(weekyear_converter)\n",
    "sonoma[\"outcome_date_week_year\"] = sonoma[\"outcome_date\"].apply(weekyear_converter)"
   ]
  },
  {
   "cell_type": "code",
   "execution_count": 18,
   "metadata": {},
   "outputs": [],
   "source": [
    "# create CountOf.....\n",
    "\n",
    "# Example\n",
    "sonoma_count = sonoma[\"intake_date_week_year\"].value_counts().rename_axis(\"week_year\").to_frame(\"intakes\")\n",
    "sonoma_count[\"outcomes\"] = sonoma[\"outcome_date_week_year\"].value_counts().astype('Int64')\n",
    "sonoma_count = sonoma_count.fillna(0)"
   ]
  }
 ],
 "metadata": {
  "kernelspec": {
   "display_name": "erdos_may_2024",
   "language": "python",
   "name": "python3"
  },
  "language_info": {
   "codemirror_mode": {
    "name": "ipython",
    "version": 3
   },
   "file_extension": ".py",
   "mimetype": "text/x-python",
   "name": "python",
   "nbconvert_exporter": "python",
   "pygments_lexer": "ipython3",
   "version": "3.11.9"
  }
 },
 "nbformat": 4,
 "nbformat_minor": 2
}
